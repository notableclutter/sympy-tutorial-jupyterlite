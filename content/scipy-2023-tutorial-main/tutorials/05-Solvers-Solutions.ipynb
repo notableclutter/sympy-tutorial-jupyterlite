{
 "cells": [
  {
   "cell_type": "markdown",
   "id": "96307ce5-e201-473b-bbf0-0baf8f8be5db",
   "metadata": {},
   "source": [
    "# Solvers Solutions"
   ]
  },
  {
   "cell_type": "code",
   "execution_count": 1,
   "id": "15cfa1ed-831d-4e0e-935d-b4f164ea22ee",
   "metadata": {
    "tags": []
   },
   "outputs": [],
   "source": [
    "from sympy import *\n",
    "x, y, z = symbols('x y z')\n",
    "init_printing()"
   ]
  },
  {
   "cell_type": "markdown",
   "id": "a84f3438-bd44-45fe-a4b2-2309f9746d53",
   "metadata": {},
   "source": [
    "## Solving Algebraic Equations"
   ]
  },
  {
   "cell_type": "markdown",
   "id": "78ceaeb4-f6ea-4002-94d2-09d8b0a76717",
   "metadata": {},
   "source": [
    "Solve the following equations.\n",
    "\n",
    "$$x^2 + 2x - 4 = 0$$\n",
    "$$\\tan(x) = \\sin(x)$$\n",
    "$$x^3 + yx^2 = 2$$\n",
    "\n",
    "(solve this last equation for both $x$ and $y$)"
   ]
  },
  {
   "cell_type": "code",
   "execution_count": 2,
   "id": "5095d7b4-3a66-45d7-89c0-decabe26745d",
   "metadata": {
    "tags": []
   },
   "outputs": [
    {
     "data": {
      "image/png": "[encoded data removed]",
      "text/latex": [
       "$\\displaystyle \\left[ -1 + \\sqrt{5}, \\  - \\sqrt{5} - 1\\right]$"
      ],
      "text/plain": [
       "[-1 + √5, -√5 - 1]"
      ]
     },
     "execution_count": 2,
     "metadata": {},
     "output_type": "execute_result"
    }
   ],
   "source": [
    "solve(x**2 + 2*x - 4, x)"
   ]
  },
  {
   "cell_type": "code",
   "execution_count": 3,
   "id": "cbbd7fc3-f716-4327-aa5e-f7870239fc5d",
   "metadata": {
    "tags": []
   },
   "outputs": [
    {
     "data": {
      "image/png": "[encoded data removed]",
      "text/latex": [
       "$\\displaystyle \\left[ 0, \\  - \\pi, \\  \\pi, \\  2 \\pi\\right]$"
      ],
      "text/plain": [
       "[0, -π, π, 2⋅π]"
      ]
     },
     "execution_count": 3,
     "metadata": {},
     "output_type": "execute_result"
    }
   ],
   "source": [
    "solve(Eq(tan(x), sin(x)), x)"
   ]
  },
  {
   "cell_type": "code",
   "execution_count": 4,
   "id": "48bc2b8f-3d96-4f39-843c-2c71bf1b0f4a",
   "metadata": {
    "tags": []
   },
   "outputs": [
    {
     "data": {
      "image/png": "[encoded data removed]",
      "text/latex": [
       "$\\displaystyle \\left[ 0, \\  - \\pi, \\  \\pi, \\  2 \\pi\\right]$"
      ],
      "text/plain": [
       "[0, -π, π, 2⋅π]"
      ]
     },
     "execution_count": 4,
     "metadata": {},
     "output_type": "execute_result"
    }
   ],
   "source": [
    "solve(tan(x) - sin(x), x)"
   ]
  },
  {
   "cell_type": "code",
   "execution_count": 5,
   "id": "0526d721-93b7-482d-9106-efe027df2c35",
   "metadata": {
    "tags": []
   },
   "outputs": [
    {
     "data": {
      "image/png": "[encoded data removed]",
      "text/latex": [
       "$\\displaystyle \\left\\{2 n \\pi\\; \\middle|\\; n \\in \\mathbb{Z}\\right\\} \\cup \\left\\{2 n \\pi + \\pi\\; \\middle|\\; n \\in \\mathbb{Z}\\right\\}$"
      ],
      "text/plain": [
       "{2⋅n⋅π │ n ∊ ℤ} ∪ {2⋅n⋅π + π │ n ∊ ℤ}"
      ]
     },
     "execution_count": 5,
     "metadata": {},
     "output_type": "execute_result"
    }
   ],
   "source": [
    "solveset(tan(x) - sin(x), x)"
   ]
  },
  {
   "cell_type": "code",
   "execution_count": 6,
   "id": "762d0964-f45b-4446-b8e8-ed7f6ed1bce5",
   "metadata": {
    "tags": []
   },
   "outputs": [
    {
     "data": {
      "image/png": "[encoded data removed]",
      "text/latex": [
       "$\\displaystyle \\left[ - \\sqrt{2} \\sqrt{\\frac{1}{y + 1}}, \\  \\sqrt{2} \\sqrt{\\frac{1}{y + 1}}\\right]$"
      ],
      "text/plain": [
       "⎡        _______         _______⎤\n",
       "⎢       ╱   1           ╱   1   ⎥\n",
       "⎢-√2⋅  ╱  ───── , √2⋅  ╱  ───── ⎥\n",
       "⎣    ╲╱   y + 1      ╲╱   y + 1 ⎦"
      ]
     },
     "execution_count": 6,
     "metadata": {},
     "output_type": "execute_result"
    }
   ],
   "source": [
    "solve(x**2 + y*x**2 - 2, x)"
   ]
  },
  {
   "cell_type": "code",
   "execution_count": 7,
   "id": "43870104-984f-458b-9e09-f4727061f03d",
   "metadata": {
    "tags": []
   },
   "outputs": [
    {
     "data": {
      "image/png": "[encoded data removed]",
      "text/latex": [
       "$\\displaystyle \\left[ -1 + \\frac{2}{x^{2}}\\right]$"
      ],
      "text/plain": [
       "⎡     2 ⎤\n",
       "⎢-1 + ──⎥\n",
       "⎢      2⎥\n",
       "⎣     x ⎦"
      ]
     },
     "execution_count": 7,
     "metadata": {},
     "output_type": "execute_result"
    }
   ],
   "source": [
    "solve(x**2 + y*x**2 - 2, y)"
   ]
  },
  {
   "cell_type": "markdown",
   "id": "8e1742a2-6023-4769-9cf3-420fd2bdc773",
   "metadata": {},
   "source": [
    "## Numerical Solutions"
   ]
  },
  {
   "cell_type": "markdown",
   "id": "89ea5721-fc45-4d0b-90f0-16086d8c3187",
   "metadata": {},
   "source": [
    "Solve the equations from above numerically, using `nsolve` and using `lambdify` + `scipy.optimize.fsolve`.\n",
    "\n",
    "$$x^2 + 2x - 4 = 0$$\n",
    "$$\\tan(x) = \\sin(x)$$\n",
    "\n",
    "Remember that these equations have multiple solutions, so you may need to use multiple different starting points to find them all."
   ]
  },
  {
   "cell_type": "code",
   "execution_count": 8,
   "id": "32bf2b28-b627-42f6-b1dc-0678153838d7",
   "metadata": {
    "tags": []
   },
   "outputs": [
    {
     "data": {
      "image/png": "[encoded data removed]",
      "text/latex": [
       "$\\displaystyle 1.23606797749979$"
      ],
      "text/plain": [
       "1.23606797749979"
      ]
     },
     "execution_count": 8,
     "metadata": {},
     "output_type": "execute_result"
    }
   ],
   "source": [
    "nsolve(x**2 + 2*x - 4, 0)"
   ]
  },
  {
   "cell_type": "code",
   "execution_count": 9,
   "id": "ffa990f2-5059-4245-8564-cc797757cae0",
   "metadata": {
    "tags": []
   },
   "outputs": [
    {
     "data": {
      "image/png": "[encoded data removed]",
      "text/latex": [
       "$\\displaystyle -3.23606797749979$"
      ],
      "text/plain": [
       "-3.23606797749979"
      ]
     },
     "execution_count": 9,
     "metadata": {},
     "output_type": "execute_result"
    }
   ],
   "source": [
    "nsolve(x**2 + 2*x - 4, -2)"
   ]
  },
  {
   "cell_type": "code",
   "execution_count": 10,
   "id": "e0ae419f-f388-40e0-93ae-2d2ccecf9733",
   "metadata": {
    "tags": []
   },
   "outputs": [
    {
     "data": {
      "image/png": "[encoded data removed]",
      "text/latex": [
       "$\\displaystyle 0$"
      ],
      "text/plain": [
       "0"
      ]
     },
     "execution_count": 10,
     "metadata": {},
     "output_type": "execute_result"
    }
   ],
   "source": [
    "nsolve(tan(x) - sin(x), 0)"
   ]
  },
  {
   "cell_type": "code",
   "execution_count": 11,
   "id": "cb2bb798-c50b-42cc-89bb-cab87d626f0c",
   "metadata": {
    "tags": []
   },
   "outputs": [
    {
     "data": {
      "image/png": "[encoded data removed]",
      "text/latex": [
       "$\\displaystyle 3.14159265358979$"
      ],
      "text/plain": [
       "3.14159265358979"
      ]
     },
     "execution_count": 11,
     "metadata": {},
     "output_type": "execute_result"
    }
   ],
   "source": [
    "nsolve(tan(x) - sin(x), 3)"
   ]
  },
  {
   "cell_type": "code",
   "execution_count": 12,
   "id": "9de697e4-e78e-4582-a2fb-e4184fe2d9d9",
   "metadata": {
    "tags": []
   },
   "outputs": [
    {
     "data": {
      "image/png": "[encoded data removed]",
      "text/latex": [
       "$\\displaystyle 6.28317667452769$"
      ],
      "text/plain": [
       "6.28317667452769"
      ]
     },
     "execution_count": 12,
     "metadata": {},
     "output_type": "execute_result"
    }
   ],
   "source": [
    "nsolve(tan(x) - sin(x), 6)"
   ]
  },
  {
   "cell_type": "markdown",
   "id": "a62c612d-b46a-4ab7-843e-e5f11c0e42ce",
   "metadata": {},
   "source": [
    "## Systems of Equations"
   ]
  },
  {
   "cell_type": "markdown",
   "id": "646f9c76-1761-4d58-9d84-f4ebaa8f2737",
   "metadata": {},
   "source": [
    "Solve the following system of equations. \n",
    "\n",
    "$$\n",
    "\\begin{eqnarray}\n",
    "x^{2} - x y &=& 1\\\\\n",
    "x + y & = & 0\n",
    "\\end{eqnarray}\n",
    "$$\n",
    "Then substitute the system into the original equations to verify they are correct."
   ]
  },
  {
   "cell_type": "code",
   "execution_count": 13,
   "id": "e90bb47e-518b-48a9-903f-c08ccccb338e",
   "metadata": {
    "tags": []
   },
   "outputs": [],
   "source": [
    "equations = [Eq(x**2 - y*x, 1), Eq(y + x, 0)]"
   ]
  },
  {
   "cell_type": "code",
   "execution_count": 14,
   "id": "ad73d68e-3809-4741-8c7b-35b047633d5b",
   "metadata": {
    "tags": []
   },
   "outputs": [
    {
     "data": {
      "image/png": "[encoded data removed]",
      "text/latex": [
       "$\\displaystyle \\left[ \\left\\{ x : - \\frac{\\sqrt{2}}{2}, \\  y : \\frac{\\sqrt{2}}{2}\\right\\}, \\  \\left\\{ x : \\frac{\\sqrt{2}}{2}, \\  y : - \\frac{\\sqrt{2}}{2}\\right\\}\\right]$"
      ],
      "text/plain": [
       "⎡⎧   -√2      √2⎫  ⎧   √2     -√2 ⎫⎤\n",
       "⎢⎨x: ────, y: ──⎬, ⎨x: ──, y: ────⎬⎥\n",
       "⎣⎩    2       2 ⎭  ⎩   2       2  ⎭⎦"
      ]
     },
     "execution_count": 14,
     "metadata": {},
     "output_type": "execute_result"
    }
   ],
   "source": [
    "sols = solve(equations, [x, y], dict=True)\n",
    "sols"
   ]
  },
  {
   "cell_type": "code",
   "execution_count": 15,
   "id": "5fefcb46-d47e-457a-8568-918a1b171767",
   "metadata": {
    "tags": []
   },
   "outputs": [
    {
     "name": "stdout",
     "output_type": "stream",
     "text": [
      "True\n",
      "True\n",
      "True\n",
      "True\n"
     ]
    }
   ],
   "source": [
    "for equation in equations:\n",
    "    for solution in sols:\n",
    "        print(equation.subs(solution))"
   ]
  }
 ],
 "metadata": {
  "kernelspec": {
   "display_name": "Python 3 (ipykernel)",
   "language": "python",
   "name": "python3"
  },
  "language_info": {
   "codemirror_mode": {
    "name": "ipython",
    "version": 3
   },
   "file_extension": ".py",
   "mimetype": "text/x-python",
   "name": "python",
   "nbconvert_exporter": "python",
   "pygments_lexer": "ipython3",
   "version": "3.11.4"
  }
 },
 "nbformat": 4,
 "nbformat_minor": 5
}
