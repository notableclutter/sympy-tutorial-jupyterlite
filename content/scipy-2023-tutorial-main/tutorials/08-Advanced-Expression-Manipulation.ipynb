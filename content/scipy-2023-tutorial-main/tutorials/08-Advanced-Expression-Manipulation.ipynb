{
 "cells": [
  {
   "cell_type": "markdown",
   "id": "5c0192b1-9c26-4cca-88c0-3f5370a845a4",
   "metadata": {},
   "source": [
    "# Advanced Expression Manipulation"
   ]
  },
  {
   "cell_type": "markdown",
   "id": "37e7fad2-0706-470e-ab5a-0d62f5919aad",
   "metadata": {},
   "source": [
    "SymPy has a lot of functions to simplify and manipulate expressions. But sometimes there isn't a function that does exactly what you want. This section will go over how SymPy expressions work internally so that you can write advanced expression manipulation functions of your own."
   ]
  },
  {
   "cell_type": "markdown",
   "id": "0d98bc82-f5fa-43a7-b80b-dad0b0476031",
   "metadata": {},
   "source": [
    "## Args and Expression Trees"
   ]
  },
  {
   "cell_type": "code",
   "execution_count": 1,
   "id": "a973b942-f3d7-4071-889a-e1d6d0ba2e5c",
   "metadata": {
    "tags": []
   },
   "outputs": [],
   "source": [
    "from sympy import *\n",
    "x, y, z = symbols('x y z')"
   ]
  },
  {
   "cell_type": "markdown",
   "id": "00bd6244-271e-456f-8421-81fae8fd3562",
   "metadata": {},
   "source": [
    "Every SymPy expression is built up as \"tree\", starting from the innermost expressions. Every SymPy operation, like addition, multiplication, and exponentiation, as well as functions like `sin` or `cos` is a node in the expression tree. \n",
    "\n",
    "Consider the expression $$x^2 + xy.$$ As an expression tree, it looks like this:\n",
    "\n",
    "\n",
    "![expression-tree](images/expression-tree.svg)\n",
    "\n",
    "We can see this with the `srepr` function in SymPy, which prints an expression in long form:"
   ]
  },
  {
   "cell_type": "code",
   "execution_count": 2,
   "id": "e4507566-4ec1-4694-b728-1c75a2413ffc",
   "metadata": {
    "tags": []
   },
   "outputs": [
    {
     "data": {
      "text/plain": [
       "\"Add(Pow(Symbol('x'), Integer(2)), Mul(Symbol('x'), Symbol('y')))\""
      ]
     },
     "execution_count": 2,
     "metadata": {},
     "output_type": "execute_result"
    }
   ],
   "source": [
    "expr = x**2 + x*y\n",
    "srepr(expr)"
   ]
  },
  {
   "cell_type": "markdown",
   "id": "1ca49bae-f464-4806-b4a2-fa48f0cc2f31",
   "metadata": {},
   "source": [
    "`Add`, `Pow`, and `Mul` are classes representing addition, exponentiation, and multiplication. The arguments of those classes are the terms of the respective addition, power, or multiplication. You can see node type of an expression using `.func` and the subnodes using `.args`."
   ]
  },
  {
   "cell_type": "code",
   "execution_count": 3,
   "id": "18206035-a100-408a-9ead-33fc53368677",
   "metadata": {
    "tags": []
   },
   "outputs": [
    {
     "data": {
      "text/plain": [
       "sympy.core.add.Add"
      ]
     },
     "execution_count": 3,
     "metadata": {},
     "output_type": "execute_result"
    }
   ],
   "source": [
    "expr.func"
   ]
  },
  {
   "cell_type": "code",
   "execution_count": 4,
   "id": "3fb017cd-1145-4925-ba34-0e98cb88cee1",
   "metadata": {
    "tags": []
   },
   "outputs": [
    {
     "data": {
      "text/plain": [
       "(x**2, x*y)"
      ]
     },
     "execution_count": 4,
     "metadata": {},
     "output_type": "execute_result"
    }
   ],
   "source": [
    "expr.args"
   ]
  },
  {
   "cell_type": "code",
   "execution_count": 5,
   "id": "097c9270-d470-4039-abc3-9f294576018d",
   "metadata": {
    "tags": []
   },
   "outputs": [
    {
     "data": {
      "text/plain": [
       "sympy.core.power.Pow"
      ]
     },
     "execution_count": 5,
     "metadata": {},
     "output_type": "execute_result"
    }
   ],
   "source": [
    "expr.args[0].func"
   ]
  },
  {
   "cell_type": "code",
   "execution_count": 6,
   "id": "eea5fec5-6f9b-47a2-95d9-7ffa0a893be6",
   "metadata": {
    "tags": []
   },
   "outputs": [
    {
     "data": {
      "text/plain": [
       "(x, 2)"
      ]
     },
     "execution_count": 6,
     "metadata": {},
     "output_type": "execute_result"
    }
   ],
   "source": [
    "expr.args[0].args"
   ]
  },
  {
   "cell_type": "markdown",
   "id": "87684788-248b-4153-a520-5f956df7a237",
   "metadata": {},
   "source": [
    "By drilling down into args, we can access the entire expression. Every expression in SymPy can be recreated using just `.func` and `.args`, using \n",
    "\n",
    "```\n",
    "expr.func(*expr.args)\n",
    "```"
   ]
  },
  {
   "cell_type": "code",
   "execution_count": 7,
   "id": "4b07c3ef-ebe9-477b-bbdb-1567c9cd26d9",
   "metadata": {
    "tags": []
   },
   "outputs": [
    {
     "data": {
      "text/latex": [
       "$\\displaystyle x^{2} + x y$"
      ],
      "text/plain": [
       "x**2 + x*y"
      ]
     },
     "execution_count": 7,
     "metadata": {},
     "output_type": "execute_result"
    }
   ],
   "source": [
    "expr"
   ]
  },
  {
   "cell_type": "code",
   "execution_count": 8,
   "id": "f0ec9e62-0992-4bcf-b636-6863ae9ca500",
   "metadata": {
    "tags": []
   },
   "outputs": [
    {
     "data": {
      "text/latex": [
       "$\\displaystyle x^{2} + x y$"
      ],
      "text/plain": [
       "x**2 + x*y"
      ]
     },
     "execution_count": 8,
     "metadata": {},
     "output_type": "execute_result"
    }
   ],
   "source": [
    "expr.func(*expr.args)"
   ]
  },
  {
   "cell_type": "markdown",
   "id": "ab623086-7497-452a-9572-e2557184053f",
   "metadata": {},
   "source": [
    "Also note that numbers, such as `2` are wrapped with `Integer()`. This is because every node in a SymPy expression tree must be a SymPy class. The Python int `2` does not have any SymPy methods on it, and doesn't behave the way we would want it to. For example, if we divide two Python integers, we get a float, whereas in SymPy we want a rational number."
   ]
  },
  {
   "cell_type": "code",
   "execution_count": 9,
   "id": "678dbeb1-cbb3-41ec-83b9-13327e699cab",
   "metadata": {
    "tags": []
   },
   "outputs": [
    {
     "data": {
      "text/plain": [
       "0.5"
      ]
     },
     "execution_count": 9,
     "metadata": {},
     "output_type": "execute_result"
    }
   ],
   "source": [
    "a = 1\n",
    "b = 2\n",
    "a/b"
   ]
  },
  {
   "cell_type": "code",
   "execution_count": 10,
   "id": "b7bceb68-8a52-45e3-9822-5a034e99a0f0",
   "metadata": {
    "tags": []
   },
   "outputs": [
    {
     "data": {
      "text/latex": [
       "$\\displaystyle \\frac{1}{2}$"
      ],
      "text/plain": [
       "1/2"
      ]
     },
     "execution_count": 10,
     "metadata": {},
     "output_type": "execute_result"
    }
   ],
   "source": [
    "a = Integer(1)\n",
    "b = Integer(2)\n",
    "a/b"
   ]
  },
  {
   "cell_type": "markdown",
   "id": "11f49e84-1885-4be7-8e97-e2bb04833e68",
   "metadata": {},
   "source": [
    "You usually don't need to care about this because when you create an expression, Python numbers are wrapped with the appropriate SymPy types automatically. "
   ]
  },
  {
   "cell_type": "code",
   "execution_count": 11,
   "id": "586e25ea-8674-4ae8-a3ce-17cf7abacf5b",
   "metadata": {
    "tags": []
   },
   "outputs": [],
   "source": [
    "expr2 = x + 2"
   ]
  },
  {
   "cell_type": "code",
   "execution_count": 12,
   "id": "223a4123-7a57-457a-ab44-db3483164f3a",
   "metadata": {
    "tags": []
   },
   "outputs": [
    {
     "data": {
      "text/plain": [
       "(2, x)"
      ]
     },
     "execution_count": 12,
     "metadata": {},
     "output_type": "execute_result"
    }
   ],
   "source": [
    "expr2.args"
   ]
  },
  {
   "cell_type": "code",
   "execution_count": 13,
   "id": "cdd41847-7990-4973-bd1a-e7a7d427f40b",
   "metadata": {
    "tags": []
   },
   "outputs": [
    {
     "data": {
      "text/plain": [
       "sympy.core.numbers.Integer"
      ]
     },
     "execution_count": 13,
     "metadata": {},
     "output_type": "execute_result"
    }
   ],
   "source": [
    "type(expr2.args[0])"
   ]
  },
  {
   "cell_type": "markdown",
   "id": "c8ff511b-71df-4f83-9737-ecdf93cfa61f",
   "metadata": {},
   "source": [
    "However, for us, this matters, because it means that whenever you look at an object's `.args`, you can always be sure that every element of it is itself a SymPy object. In particular, every element of `.args` will itself have `.args`. Nodes at the bottom of the expression tree (or \"atomic\" nodes) have empty `.args`:"
   ]
  },
  {
   "cell_type": "code",
   "execution_count": 14,
   "id": "9ead96b3-5c78-47bd-84f2-563b229df1f0",
   "metadata": {
    "tags": []
   },
   "outputs": [
    {
     "data": {
      "text/plain": [
       "(2, x)"
      ]
     },
     "execution_count": 14,
     "metadata": {},
     "output_type": "execute_result"
    }
   ],
   "source": [
    "expr2.args"
   ]
  },
  {
   "cell_type": "code",
   "execution_count": 15,
   "id": "f62d5789-7c9a-4cb7-9c3b-5778e70966c9",
   "metadata": {
    "tags": []
   },
   "outputs": [
    {
     "data": {
      "text/plain": [
       "()"
      ]
     },
     "execution_count": 15,
     "metadata": {},
     "output_type": "execute_result"
    }
   ],
   "source": [
    "expr2.args[0].args"
   ]
  },
  {
   "cell_type": "code",
   "execution_count": 16,
   "id": "f91a7f3a-ce5a-46bf-85f9-667092a433e3",
   "metadata": {
    "tags": []
   },
   "outputs": [
    {
     "data": {
      "text/plain": [
       "()"
      ]
     },
     "execution_count": 16,
     "metadata": {},
     "output_type": "execute_result"
    }
   ],
   "source": [
    "expr2.args[1].args"
   ]
  },
  {
   "cell_type": "markdown",
   "id": "06459bb3-20cf-419d-89ea-2a3bfba95023",
   "metadata": {},
   "source": [
    "Note that the `args` structure of an expression will not necessarily match the way it is printed. One example of this is that the `args` may be in a different order (`args` for `Add` and `Mul` are always sorted)."
   ]
  },
  {
   "cell_type": "code",
   "execution_count": 17,
   "id": "88b494d3-f27a-465c-828b-96e3f103f197",
   "metadata": {
    "tags": []
   },
   "outputs": [
    {
     "data": {
      "text/latex": [
       "$\\displaystyle x + 1$"
      ],
      "text/plain": [
       "x + 1"
      ]
     },
     "execution_count": 17,
     "metadata": {},
     "output_type": "execute_result"
    }
   ],
   "source": [
    "x + 1"
   ]
  },
  {
   "cell_type": "code",
   "execution_count": 18,
   "id": "db147c1a-a506-4ab5-8892-fc6558d24e56",
   "metadata": {
    "tags": []
   },
   "outputs": [
    {
     "data": {
      "text/plain": [
       "(1, x)"
      ]
     },
     "execution_count": 18,
     "metadata": {},
     "output_type": "execute_result"
    }
   ],
   "source": [
    "(x + 1).args"
   ]
  },
  {
   "cell_type": "markdown",
   "id": "dc6ebd31-9067-4877-a774-0018c4b5a8ae",
   "metadata": {},
   "source": [
    "A more pertinent example comes from expressions like $x - y$ or $\\frac{x}{y}$."
   ]
  },
  {
   "cell_type": "code",
   "execution_count": 19,
   "id": "2bd592f3-0256-46e3-b261-3762742c8525",
   "metadata": {
    "tags": []
   },
   "outputs": [
    {
     "data": {
      "text/plain": [
       "\"Add(Symbol('x'), Mul(Integer(-1), Symbol('y')))\""
      ]
     },
     "execution_count": 19,
     "metadata": {},
     "output_type": "execute_result"
    }
   ],
   "source": [
    "srepr(x - y)"
   ]
  },
  {
   "cell_type": "code",
   "execution_count": 20,
   "id": "a9b043f7-2633-4845-a602-9abacb10af5b",
   "metadata": {
    "tags": []
   },
   "outputs": [
    {
     "data": {
      "text/plain": [
       "\"Mul(Symbol('x'), Pow(Symbol('y'), Integer(-1)))\""
      ]
     },
     "execution_count": 20,
     "metadata": {},
     "output_type": "execute_result"
    }
   ],
   "source": [
    "srepr(x/y)"
   ]
  },
  {
   "cell_type": "code",
   "execution_count": 21,
   "id": "3af4eb2d-29e7-48e9-85bd-7ae33f0876b0",
   "metadata": {
    "tags": []
   },
   "outputs": [
    {
     "data": {
      "text/plain": [
       "\"Pow(Symbol('x'), Integer(-1))\""
      ]
     },
     "execution_count": 21,
     "metadata": {},
     "output_type": "execute_result"
    }
   ],
   "source": [
    "srepr(1/x)"
   ]
  },
  {
   "cell_type": "markdown",
   "id": "59db7043-183c-42e7-91ae-4b6586583e74",
   "metadata": {},
   "source": [
    "SymPy doesn't have classes for subtraction or division. A subtraction $x - y$ is represented as $x + -1\\cdot y$, and a division $x/y$ is represented as $x\\cdot y^{-1}$. This may seem unusual at first, but it makes working with expressions much more uniform. Whether or not something is a \"subtraction\" or \"division\" is up to the printers. "
   ]
  },
  {
   "cell_type": "markdown",
   "id": "e3560aa4-76e7-43c8-a38c-0c7eef5b3585",
   "metadata": {},
   "source": [
    "### Exercises"
   ]
  },
  {
   "cell_type": "markdown",
   "id": "814a84b5-68f7-4aee-81ea-d344b64422bb",
   "metadata": {
    "tags": []
   },
   "source": [
    "#### Nested args"
   ]
  },
  {
   "cell_type": "markdown",
   "id": "0da48fc1-e645-478f-8afb-150221e932a9",
   "metadata": {},
   "source": [
    "Use nested `.args` calls to get the 3 in `expr`. (remember that you can use `Control-Enter` to execute a cell without moving to the next cell)"
   ]
  },
  {
   "cell_type": "code",
   "execution_count": 22,
   "id": "c1ec4633-90d2-46de-9ee3-b59d99c79ad9",
   "metadata": {
    "collapsed": false,
    "jupyter": {
     "outputs_hidden": false
    },
    "tags": []
   },
   "outputs": [],
   "source": [
    "expr = x**2 - y*(2**(x + 3) + z)"
   ]
  },
  {
   "cell_type": "code",
   "execution_count": null,
   "id": "cb4628d4-e7a8-4713-98af-78d9f2c8bb53",
   "metadata": {},
   "outputs": [],
   "source": []
  },
  {
   "cell_type": "markdown",
   "id": "682544ff-f3e9-42d7-a415-2238fa762624",
   "metadata": {
    "tags": []
   },
   "source": [
    "#### Creating expressions from classes"
   ]
  },
  {
   "cell_type": "markdown",
   "id": "06e06ab5-27e3-4e54-903e-4b7515a8c628",
   "metadata": {},
   "source": [
    "Create the following objects without using any mathematical operators like `+`, `-`, `*`, `/`, or `**` by explicitly using the classes `Add`, `Mul`, and `Pow`.  You may use `x` instead of `Symbol('x')` and `4` instead of `Integer(4)`.\n",
    "\n",
    "$$x^2 + 4xyz$$\n",
    "$$x^{(x^y)}$$\n",
    "$$x - \\frac{y}{z}$$\n"
   ]
  },
  {
   "cell_type": "code",
   "execution_count": null,
   "id": "7f82b4a6-4a8e-4aeb-9b0c-c4b72a41c5c7",
   "metadata": {},
   "outputs": [],
   "source": []
  },
  {
   "cell_type": "code",
   "execution_count": null,
   "id": "5a8b4035-e63b-436e-8d56-5de68170f6e3",
   "metadata": {},
   "outputs": [],
   "source": []
  },
  {
   "cell_type": "code",
   "execution_count": null,
   "id": "a8248faa-caaa-466f-9e14-f01913cc7981",
   "metadata": {},
   "outputs": [],
   "source": []
  },
  {
   "cell_type": "markdown",
   "id": "4a1dc479-85f0-47ed-b000-17b63679a7ec",
   "metadata": {},
   "source": [
    "## Traversal"
   ]
  },
  {
   "cell_type": "markdown",
   "id": "b0423e52-1b8a-4c5e-af56-bfe10da2a867",
   "metadata": {},
   "source": [
    "Now that we've seen how to unpack an expression, we can build basic traversal algorithms. The simplest way to build an algorithm in SymPy is to write a function recursively. \n",
    "\n",
    "Two things are important to remember:\n",
    "\n",
    "1. **SymPy expressions are immutable.** If we want to change something about an expression, we need to create a new expression. \n",
    "2. **SymPy expressions can be compared with `==`.** `==` always does exact structural equality. `a == b` always evaluates to `True` or `False`, and it is `True` if and only if `a` and `b` are exactly the same structurally as expressions (for symbolic equality, use `Eq`).\n",
    "\n",
    "For example, let's look at how we might write a basic function that replaces `x` with `y` (normally you would do this with `subs`, `xreplace`, or `replace`)."
   ]
  },
  {
   "cell_type": "code",
   "execution_count": 23,
   "id": "2f884d66-6942-431b-adbe-897b96914cb1",
   "metadata": {
    "tags": []
   },
   "outputs": [],
   "source": [
    "def replace(expr, x, y):\n",
    "    if expr == x:\n",
    "        return y\n",
    "    \n",
    "    # Base case of the recursion\n",
    "    if not expr.args:\n",
    "        return expr\n",
    "\n",
    "    newargs = []\n",
    "    for arg in expr.args:\n",
    "        arg = replace(arg, x, y)\n",
    "        newargs.append(arg)\n",
    "    return expr.func(*newargs)"
   ]
  },
  {
   "cell_type": "code",
   "execution_count": 24,
   "id": "c1cd4fe1-e03f-4bb3-8a2f-35296855dc94",
   "metadata": {
    "tags": []
   },
   "outputs": [
    {
     "data": {
      "text/latex": [
       "$\\displaystyle x^{2} - y \\left(2^{x + 3} + z\\right)$"
      ],
      "text/plain": [
       "x**2 - y*(2**(x + 3) + z)"
      ]
     },
     "execution_count": 24,
     "metadata": {},
     "output_type": "execute_result"
    }
   ],
   "source": [
    "expr"
   ]
  },
  {
   "cell_type": "code",
   "execution_count": 25,
   "id": "d3c28e22-0d21-4e13-a01e-56e31dfa500a",
   "metadata": {
    "tags": []
   },
   "outputs": [
    {
     "data": {
      "text/latex": [
       "$\\displaystyle 4 x^{2} - y \\left(2^{2 x + 3} + z\\right)$"
      ],
      "text/plain": [
       "4*x**2 - y*(2**(2*x + 3) + z)"
      ]
     },
     "execution_count": 25,
     "metadata": {},
     "output_type": "execute_result"
    }
   ],
   "source": [
    "replace(expr, x, 2*x)"
   ]
  },
  {
   "cell_type": "markdown",
   "id": "66dd12ec-3dfc-4dba-bf6e-48b5e2bb3e10",
   "metadata": {},
   "source": [
    "### Exercise"
   ]
  },
  {
   "cell_type": "markdown",
   "id": "66a834c5-46b6-4e7e-8be5-534f82db90ba",
   "metadata": {},
   "source": [
    "Write a [post-order traversal](https://en.wikipedia.org/wiki/Tree_traversal#Post-order,_LRN) function that prints each node."
   ]
  },
  {
   "cell_type": "code",
   "execution_count": 26,
   "id": "b743f07c-9deb-4b02-94be-d18ed00463fb",
   "metadata": {
    "tags": []
   },
   "outputs": [],
   "source": [
    "def post(expr):\n",
    "    \"\"\"\n",
    "    Post-order traversal\n",
    "\n",
    "    >>> expr = x**2 - y*(2**(x + 3) + z)\n",
    "    >>> post(expr)\n",
    "    -1\n",
    "    y\n",
    "    2\n",
    "    3\n",
    "    x\n",
    "    x + 3\n",
    "    2**(x + 3)\n",
    "    z\n",
    "    2**(x + 3) + z\n",
    "    -y*(2**(x + 3) + z)\n",
    "    x\n",
    "    2\n",
    "    x**2\n",
    "    x**2 - y*(2**(x + 3) + z)\n",
    "    \"\"\"\n"
   ]
  },
  {
   "cell_type": "code",
   "execution_count": 27,
   "id": "cf43c343-fc87-4c7b-ac32-77e57af74c40",
   "metadata": {
    "tags": []
   },
   "outputs": [],
   "source": [
    "post(expr)"
   ]
  }
 ],
 "metadata": {
  "kernelspec": {
   "display_name": "Python 3 (ipykernel)",
   "language": "python",
   "name": "python3"
  },
  "language_info": {
   "codemirror_mode": {
    "name": "ipython",
    "version": 3
   },
   "file_extension": ".py",
   "mimetype": "text/x-python",
   "name": "python",
   "nbconvert_exporter": "python",
   "pygments_lexer": "ipython3",
   "version": "3.11.4"
  }
 },
 "nbformat": 4,
 "nbformat_minor": 5
}
