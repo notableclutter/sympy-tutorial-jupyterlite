{
 "cells": [
  {
   "cell_type": "markdown",
   "id": "f3367cb2-d4f1-46e2-9cfd-964255dd532c",
   "metadata": {},
   "source": [
    "# Basic Operations - Solutions"
   ]
  },
  {
   "cell_type": "markdown",
   "id": "f11eb47a-07b7-4804-8168-be99474ca7a2",
   "metadata": {},
   "source": [
    "## Substitution"
   ]
  },
  {
   "cell_type": "code",
   "execution_count": 1,
   "id": "dbf46d5f-94c8-48bc-888d-ec202376f131",
   "metadata": {},
   "outputs": [
    {
     "data": {
      "text/latex": [
       "$\\displaystyle 0$"
      ],
      "text/plain": [
       "0"
      ]
     },
     "execution_count": 1,
     "metadata": {},
     "output_type": "execute_result"
    }
   ],
   "source": [
    "from sympy import *\n",
    "\n",
    "x = Symbol('x')\n",
    "(x**2 + 2*x - 3).subs(x, 1)"
   ]
  },
  {
   "cell_type": "code",
   "execution_count": 2,
   "id": "fbbe7e6b-aa46-4421-b147-32e12fbfa5a0",
   "metadata": {},
   "outputs": [
    {
     "data": {
      "text/latex": [
       "$\\displaystyle 1 + \\frac{\\left(- b + \\sqrt{- 4 a c + b^{2}}\\right)^{2}}{4 a^{2}}$"
      ],
      "text/plain": [
       "1 + (-b + sqrt(-4*a*c + b**2))**2/(4*a**2)"
      ]
     },
     "execution_count": 2,
     "metadata": {},
     "output_type": "execute_result"
    }
   ],
   "source": [
    "a, b, c = symbols('a b c')\n",
    "expr = (-b + sqrt(b**2 - 4*a*c)) / (2*a)\n",
    "\n",
    "expr2 = (x**2 + 1).subs(x, expr)\n",
    "expr2"
   ]
  },
  {
   "cell_type": "code",
   "execution_count": 3,
   "id": "a314740d-5440-4e6a-8d41-91192da23b97",
   "metadata": {
    "tags": []
   },
   "outputs": [
    {
     "data": {
      "text/latex": [
       "$\\displaystyle 0$"
      ],
      "text/plain": [
       "0"
      ]
     },
     "execution_count": 3,
     "metadata": {},
     "output_type": "execute_result"
    }
   ],
   "source": [
    "expr2.subs({a: 1, b: 0, c: 1})"
   ]
  },
  {
   "cell_type": "markdown",
   "id": "4f01dafd-a08e-4204-a2f5-9b9282ff13a6",
   "metadata": {},
   "source": [
    "## Numeric Evaluation"
   ]
  },
  {
   "cell_type": "markdown",
   "id": "628d93e7-28db-425a-93ba-329403d426cb",
   "metadata": {},
   "source": [
    "- Expand the decimals of $\\frac{100}{9899}$ in 10, 20, 30, 40 digits\n",
    "- Expand the decimals of $\\frac{1000}{9801}$ in 10, 20, 30, 40 digits"
   ]
  },
  {
   "cell_type": "code",
   "execution_count": 4,
   "id": "c4630aba-6e55-4b87-a7c3-dee6dc99cc6e",
   "metadata": {},
   "outputs": [
    {
     "data": {
      "text/latex": [
       "$\\displaystyle 0.01010203051$"
      ],
      "text/plain": [
       "0.01010203051"
      ]
     },
     "execution_count": 4,
     "metadata": {},
     "output_type": "execute_result"
    }
   ],
   "source": [
    "Rational(100, 9899).evalf(10)"
   ]
  },
  {
   "cell_type": "code",
   "execution_count": 5,
   "id": "7239524d-af5e-44da-aa6b-1e08f9cac282",
   "metadata": {},
   "outputs": [
    {
     "data": {
      "text/latex": [
       "$\\displaystyle 0.010102030508132134559$"
      ],
      "text/plain": [
       "0.010102030508132134559"
      ]
     },
     "execution_count": 5,
     "metadata": {},
     "output_type": "execute_result"
    }
   ],
   "source": [
    "Rational(100, 9899).evalf(20)"
   ]
  },
  {
   "cell_type": "code",
   "execution_count": 6,
   "id": "14595339-40b0-4b71-aa18-2202cabda786",
   "metadata": {},
   "outputs": [
    {
     "data": {
      "text/latex": [
       "$\\displaystyle 0.01010203050813213455904636832$"
      ],
      "text/plain": [
       "0.0101020305081321345590463683200"
      ]
     },
     "execution_count": 6,
     "metadata": {},
     "output_type": "execute_result"
    }
   ],
   "source": [
    "Rational(100, 9899).evalf(30)"
   ]
  },
  {
   "cell_type": "code",
   "execution_count": 7,
   "id": "3e3c594f-3054-407e-ad3d-a42be06e74a6",
   "metadata": {},
   "outputs": [
    {
     "data": {
      "text/latex": [
       "$\\displaystyle 0.1020304051$"
      ],
      "text/plain": [
       "0.1020304051"
      ]
     },
     "execution_count": 7,
     "metadata": {},
     "output_type": "execute_result"
    }
   ],
   "source": [
    "Rational(1000, 9801).evalf(10)"
   ]
  },
  {
   "cell_type": "code",
   "execution_count": 8,
   "id": "0c11e04b-f903-48ef-a922-cf525f1582b3",
   "metadata": {},
   "outputs": [
    {
     "data": {
      "text/latex": [
       "$\\displaystyle 0.10203040506070809101$"
      ],
      "text/plain": [
       "0.10203040506070809101"
      ]
     },
     "execution_count": 8,
     "metadata": {},
     "output_type": "execute_result"
    }
   ],
   "source": [
    "Rational(1000, 9801).evalf(20)"
   ]
  },
  {
   "cell_type": "code",
   "execution_count": 9,
   "id": "6dcc01e0-5d50-479a-9cc4-8bf309cee825",
   "metadata": {},
   "outputs": [
    {
     "data": {
      "text/latex": [
       "$\\displaystyle 0.102030405060708091011121314152$"
      ],
      "text/plain": [
       "0.102030405060708091011121314152"
      ]
     },
     "execution_count": 9,
     "metadata": {},
     "output_type": "execute_result"
    }
   ],
   "source": [
    "Rational(1000, 9801).evalf(30)"
   ]
  },
  {
   "cell_type": "markdown",
   "id": "5253c62d-da7a-41d4-9209-b6b36b2ba102",
   "metadata": {},
   "source": [
    "## Parsing"
   ]
  },
  {
   "cell_type": "markdown",
   "id": "71b6077f-5e77-4d26-be4a-e8e7a86c534a",
   "metadata": {},
   "source": [
    "- Parse `3 x y - y x**3 - x**2 + 2 x + x y**2 + x**2 y + y**2 x**2`\n",
    "- Parse `1 - sin(2*x)**2/4 - sin(y)**2 - cos(x)**4`"
   ]
  },
  {
   "cell_type": "code",
   "execution_count": 10,
   "id": "e4fa31c8-1065-4de6-a777-2784dd5fc23a",
   "metadata": {},
   "outputs": [
    {
     "data": {
      "text/latex": [
       "$\\displaystyle - x^{3} y + x^{2} y^{2} + x^{2} y - x^{2} + x y^{2} + 3 x y + 2 x$"
      ],
      "text/plain": [
       "-x**3*y + x**2*y**2 + x**2*y - x**2 + x*y**2 + 3*x*y + 2*x"
      ]
     },
     "execution_count": 10,
     "metadata": {},
     "output_type": "execute_result"
    }
   ],
   "source": [
    "from sympy.parsing.sympy_parser import standard_transformations, implicit_multiplication\n",
    "\n",
    "parse_expr(\n",
    "    '3 x y - y x**3 - x**2 + 2 x + x y**2 + x**2 y + y**2 x**2', \n",
    "    transformations=standard_transformations + (implicit_multiplication,))"
   ]
  },
  {
   "cell_type": "code",
   "execution_count": 11,
   "id": "0e1356d2-49b8-48c1-9af5-ce9b404036ce",
   "metadata": {},
   "outputs": [
    {
     "data": {
      "text/latex": [
       "$\\displaystyle - \\frac{\\sin^{2}{\\left(2 x \\right)}}{4} - \\sin^{2}{\\left(y \\right)} - \\cos^{4}{\\left(x \\right)} + 1$"
      ],
      "text/plain": [
       "-sin(2*x)**2/4 - sin(y)**2 - cos(x)**4 + 1"
      ]
     },
     "execution_count": 11,
     "metadata": {},
     "output_type": "execute_result"
    }
   ],
   "source": [
    "parse_expr(\n",
    "    '1 - sin(2*x)**2/4 - sin(y)**2 - cos(x)**4',\n",
    "    transformations=standard_transformations + (implicit_multiplication,))"
   ]
  },
  {
   "cell_type": "markdown",
   "id": "657d127e-9814-45af-b10e-3eb3fdc85cc5",
   "metadata": {},
   "source": [
    "## Printing"
   ]
  },
  {
   "cell_type": "markdown",
   "id": "51e54d88-18f5-44dc-a68b-de1393082681",
   "metadata": {},
   "source": [
    "- Try to print `sin(pi/60)` in LaTeX and copy-paste into a Markdown cell"
   ]
  },
  {
   "cell_type": "code",
   "execution_count": 12,
   "id": "55840c76-fd43-43e3-a345-e7b484dfd18a",
   "metadata": {},
   "outputs": [
    {
     "name": "stdout",
     "output_type": "stream",
     "text": [
      "\\left(- \\frac{\\sqrt{2} \\cdot \\left(\\frac{1}{4} + \\frac{\\sqrt{5}}{4}\\right)}{2} - \\frac{\\sqrt{2} \\sqrt{\\frac{5}{8} - \\frac{\\sqrt{5}}{8}}}{2}\\right) \\left(- \\frac{\\sqrt{5}}{8} - \\frac{1}{8} + \\frac{\\sqrt{3} \\sqrt{\\frac{5}{8} - \\frac{\\sqrt{5}}{8}}}{2}\\right) + \\left(- \\frac{\\sqrt{2} \\cdot \\left(\\frac{1}{4} + \\frac{\\sqrt{5}}{4}\\right)}{2} + \\frac{\\sqrt{2} \\sqrt{\\frac{5}{8} - \\frac{\\sqrt{5}}{8}}}{2}\\right) \\left(- \\frac{\\sqrt{3} \\cdot \\left(\\frac{1}{4} + \\frac{\\sqrt{5}}{4}\\right)}{2} - \\frac{\\sqrt{\\frac{5}{8} - \\frac{\\sqrt{5}}{8}}}{2}\\right)\n"
     ]
    }
   ],
   "source": [
    "print(latex(sin(pi/60)))"
   ]
  },
  {
   "cell_type": "markdown",
   "id": "87ad113e-8d89-4023-a7d8-b365b80b1a6f",
   "metadata": {},
   "source": [
    "**EDIT THIS CELL**\n",
    "\n",
    "<!-- Paste the result here between the dollar signs-->\n",
    "\n",
    "$$ \\left(- \\frac{\\sqrt{2} \\cdot \\left(\\frac{1}{4} + \\frac{\\sqrt{5}}{4}\\right)}{2} - \\frac{\\sqrt{2} \\sqrt{\\frac{5}{8} - \\frac{\\sqrt{5}}{8}}}{2}\\right) \\left(- \\frac{\\sqrt{5}}{8} - \\frac{1}{8} + \\frac{\\sqrt{3} \\sqrt{\\frac{5}{8} - \\frac{\\sqrt{5}}{8}}}{2}\\right) + \\left(- \\frac{\\sqrt{2} \\cdot \\left(\\frac{1}{4} + \\frac{\\sqrt{5}}{4}\\right)}{2} + \\frac{\\sqrt{2} \\sqrt{\\frac{5}{8} - \\frac{\\sqrt{5}}{8}}}{2}\\right) \\left(- \\frac{\\sqrt{3} \\cdot \\left(\\frac{1}{4} + \\frac{\\sqrt{5}}{4}\\right)}{2} - \\frac{\\sqrt{\\frac{5}{8} - \\frac{\\sqrt{5}}{8}}}{2}\\right) $$"
   ]
  },
  {
   "cell_type": "markdown",
   "id": "f8d03c6a-8b03-4474-8b1f-56cc68d85190",
   "metadata": {},
   "source": [
    "## Pattern Matching"
   ]
  },
  {
   "cell_type": "markdown",
   "id": "3a00b2ec-212e-4afb-a06c-0119d85d8dd0",
   "metadata": {},
   "source": [
    "- Define a pattern of differential binomial $x^m (a + bx^n)^p$\n",
    "- Match the pattern with $x$, $2x$, $x + 1$, $2x + 1$, $x^2 (x + 1)^3$"
   ]
  },
  {
   "cell_type": "code",
   "execution_count": 13,
   "id": "65dc4eaa-7ea5-46bc-ad60-1186cb6fbc17",
   "metadata": {},
   "outputs": [
    {
     "data": {
      "text/plain": [
       "{n_: 1, b_: 1, a_: 0, p_: 1, m_: 0}"
      ]
     },
     "execution_count": 13,
     "metadata": {},
     "output_type": "execute_result"
    }
   ],
   "source": [
    "from sympy import *\n",
    "\n",
    "x = Symbol('x')\n",
    "a = Wild('a', exclude=[x])\n",
    "b = Wild('b', exclude=[x])\n",
    "m = Wild('m', exclude=[x])\n",
    "n = Wild('n', exclude=[x])\n",
    "p = Wild('p', exclude=[x])\n",
    "\n",
    "pattern = x**m * (a + b*x**n)**p\n",
    "x.match(pattern)"
   ]
  },
  {
   "cell_type": "code",
   "execution_count": 14,
   "id": "f1be6dc7-7ff1-4b7d-b4cb-9439a6b2a7bd",
   "metadata": {},
   "outputs": [
    {
     "data": {
      "text/plain": [
       "{m_: 1, b_: 2, n_: 0, a_: 0, p_: 1}"
      ]
     },
     "execution_count": 14,
     "metadata": {},
     "output_type": "execute_result"
    }
   ],
   "source": [
    "(2*x).match(pattern)"
   ]
  },
  {
   "cell_type": "code",
   "execution_count": 15,
   "id": "d8d12e5b-8353-41f5-b99e-46aec8cea0bd",
   "metadata": {},
   "outputs": [
    {
     "data": {
      "text/plain": [
       "{n_: 1, b_: 1, a_: 1, p_: 1, m_: 0}"
      ]
     },
     "execution_count": 15,
     "metadata": {},
     "output_type": "execute_result"
    }
   ],
   "source": [
    "(x + 1).match(pattern)"
   ]
  },
  {
   "cell_type": "code",
   "execution_count": 16,
   "id": "9f45faa3-5c61-4721-ad60-71989f16a690",
   "metadata": {},
   "outputs": [
    {
     "data": {
      "text/plain": [
       "{n_: 1, b_: 2, a_: 1, p_: 1, m_: 0}"
      ]
     },
     "execution_count": 16,
     "metadata": {},
     "output_type": "execute_result"
    }
   ],
   "source": [
    "(2*x + 1).match(pattern)"
   ]
  },
  {
   "cell_type": "code",
   "execution_count": 17,
   "id": "12f82945-5c17-4fc4-8e53-c68d1320c101",
   "metadata": {},
   "outputs": [
    {
     "data": {
      "text/plain": [
       "{n_: 1, b_: 1, a_: 1, p_: 3, m_: 2}"
      ]
     },
     "execution_count": 17,
     "metadata": {},
     "output_type": "execute_result"
    }
   ],
   "source": [
    "(x**2 * (x + 1)**3).match(pattern)"
   ]
  }
 ],
 "metadata": {
  "kernelspec": {
   "display_name": "Python 3 (ipykernel)",
   "language": "python",
   "name": "python3"
  },
  "language_info": {
   "codemirror_mode": {
    "name": "ipython",
    "version": 3
   },
   "file_extension": ".py",
   "mimetype": "text/x-python",
   "name": "python",
   "nbconvert_exporter": "python",
   "pygments_lexer": "ipython3",
   "version": "3.11.4"
  }
 },
 "nbformat": 4,
 "nbformat_minor": 5
}
