{
 "cells": [
  {
   "cell_type": "markdown",
   "id": "eba195a6-2c94-43ef-941c-32d3d548003d",
   "metadata": {},
   "source": [
    "# Advanced Expression Manipulation: Solutions"
   ]
  },
  {
   "cell_type": "code",
   "execution_count": 1,
   "id": "962a3f78-490a-473a-98a1-77468160113c",
   "metadata": {
    "tags": []
   },
   "outputs": [],
   "source": [
    "from sympy import *\n",
    "x, y, z = symbols('x y z')\n",
    "init_printing()"
   ]
  },
  {
   "cell_type": "markdown",
   "id": "4e028611-615a-4d20-b332-72e0dd4e27f8",
   "metadata": {
    "tags": []
   },
   "source": [
    "## Nested args"
   ]
  },
  {
   "cell_type": "markdown",
   "id": "18090343-15ba-4e6a-8e58-6912c148eba2",
   "metadata": {},
   "source": [
    "Use nested `.args` calls to get the 3 in `expr`. (remember that you can use `Control-Enter` to execute a cell without moving to the next cell)"
   ]
  },
  {
   "cell_type": "code",
   "execution_count": 2,
   "id": "dec0fcde-99a2-443c-99ad-e1192d44cf7d",
   "metadata": {
    "collapsed": false,
    "jupyter": {
     "outputs_hidden": false
    },
    "tags": []
   },
   "outputs": [],
   "source": [
    "expr = x**2 - y*(2**(x + 3) + z)"
   ]
  },
  {
   "cell_type": "code",
   "execution_count": 3,
   "id": "f2d50932-dc0d-4dde-ba91-69711c72526e",
   "metadata": {
    "tags": []
   },
   "outputs": [
    {
     "data": {
      "image/png": "[encoded data removed]",
      "text/latex": [
       "$\\displaystyle 3$"
      ],
      "text/plain": [
       "3"
      ]
     },
     "execution_count": 3,
     "metadata": {},
     "output_type": "execute_result"
    }
   ],
   "source": [
    "expr.args[1].args[2].args[1].args[1].args[0]"
   ]
  },
  {
   "cell_type": "markdown",
   "id": "0ee67873-f777-4525-85c9-c0ca093208e5",
   "metadata": {
    "tags": []
   },
   "source": [
    "## Creating expressions from classes"
   ]
  },
  {
   "cell_type": "markdown",
   "id": "821d380e-d26f-44a6-9015-948b0e04e49a",
   "metadata": {},
   "source": [
    "Create the following objects without using any mathematical operators like `+`, `-`, `*`, `/`, or `**` by explicitly using the classes `Add`, `Mul`, and `Pow`.  You may use `x` instead of `Symbol('x')` and `4` instead of `Integer(4)`.\n",
    "\n",
    "$$x^2 + 4xyz$$\n",
    "$$x^{(x^y)}$$\n",
    "$$x - \\frac{y}{z}$$\n"
   ]
  },
  {
   "cell_type": "code",
   "execution_count": 4,
   "id": "96d1ecc8-b21b-4e94-a681-031b34feba41",
   "metadata": {
    "tags": []
   },
   "outputs": [
    {
     "data": {
      "image/png": "[encoded data removed]",
      "text/latex": [
       "$\\displaystyle x^{2} + 4 x y z$"
      ],
      "text/plain": [
       " 2          \n",
       "x  + 4⋅x⋅y⋅z"
      ]
     },
     "execution_count": 4,
     "metadata": {},
     "output_type": "execute_result"
    }
   ],
   "source": [
    "Add(Pow(x, 2), Mul(4, x, y, z))"
   ]
  },
  {
   "cell_type": "code",
   "execution_count": 5,
   "id": "445c296f-9524-4c36-be32-2977e1c9c3ff",
   "metadata": {
    "tags": []
   },
   "outputs": [
    {
     "data": {
      "image/png": "[encoded data removed]",
      "text/latex": [
       "$\\displaystyle x^{x^{y}}$"
      ],
      "text/plain": [
       " ⎛ y⎞\n",
       " ⎝x ⎠\n",
       "x    "
      ]
     },
     "execution_count": 5,
     "metadata": {},
     "output_type": "execute_result"
    }
   ],
   "source": [
    "Pow(x, Pow(x, y))"
   ]
  },
  {
   "cell_type": "code",
   "execution_count": 6,
   "id": "a7bc01ca-df3b-4b6b-afaa-3ad2ab195cf1",
   "metadata": {
    "tags": []
   },
   "outputs": [
    {
     "data": {
      "image/png": "[encoded data removed]",
      "text/latex": [
       "$\\displaystyle x - \\frac{y}{z}$"
      ],
      "text/plain": [
       "    y\n",
       "x - ─\n",
       "    z"
      ]
     },
     "execution_count": 6,
     "metadata": {},
     "output_type": "execute_result"
    }
   ],
   "source": [
    "Add(x, Mul(-1, Mul(y, Pow(z, -1))))"
   ]
  },
  {
   "cell_type": "markdown",
   "id": "e1a8c0e0-8d50-4df5-b996-dc2df41e38ae",
   "metadata": {},
   "source": [
    "## Traversal "
   ]
  },
  {
   "cell_type": "markdown",
   "id": "7a0dd18f-74cd-4a8e-9232-3371812ed71c",
   "metadata": {},
   "source": [
    "Write a [post-order traversal](https://en.wikipedia.org/wiki/Tree_traversal#Post-order,_LRN) function that prints each node."
   ]
  },
  {
   "cell_type": "code",
   "execution_count": 7,
   "id": "0a0c84cc-6689-4410-88b2-897cf8d1c2ae",
   "metadata": {
    "collapsed": false,
    "jupyter": {
     "outputs_hidden": false
    },
    "tags": []
   },
   "outputs": [],
   "source": [
    "def post(expr):\n",
    "    \"\"\"\n",
    "    Post-order traversal\n",
    "\n",
    "    >>> expr = x**2 - y*(2**(x + 3) + z)\n",
    "    >>> post(expr)\n",
    "    x\n",
    "    2\n",
    "    x**2\n",
    "    -1\n",
    "    y\n",
    "    z\n",
    "    2\n",
    "    3\n",
    "    x\n",
    "    x + 3\n",
    "    2**(x + 3)\n",
    "    2**(x + 3) + z\n",
    "    -y*(2**(x + 3) + z)\n",
    "    x**2 - y*(2**(x + 3) + z)\n",
    "    \"\"\"\n",
    "    for arg in expr.args:\n",
    "        post(arg)\n",
    "    print(expr)"
   ]
  },
  {
   "cell_type": "code",
   "execution_count": 8,
   "id": "e67d57a3-71fb-434d-bc99-02db9f0dfbac",
   "metadata": {
    "collapsed": false,
    "jupyter": {
     "outputs_hidden": false
    },
    "tags": []
   },
   "outputs": [],
   "source": [
    "expr = x**2 - y*(2**(x + 3) + z)"
   ]
  },
  {
   "cell_type": "code",
   "execution_count": 9,
   "id": "054a3d63-0568-4e18-92fa-717f567d2e14",
   "metadata": {
    "collapsed": false,
    "jupyter": {
     "outputs_hidden": false
    },
    "tags": []
   },
   "outputs": [
    {
     "name": "stdout",
     "output_type": "stream",
     "text": [
      "x\n",
      "2\n",
      "x**2\n",
      "-1\n",
      "y\n",
      "z\n",
      "2\n",
      "3\n",
      "x\n",
      "x + 3\n",
      "2**(x + 3)\n",
      "2**(x + 3) + z\n",
      "-y*(2**(x + 3) + z)\n",
      "x**2 - y*(2**(x + 3) + z)\n"
     ]
    }
   ],
   "source": [
    "post(expr)"
   ]
  }
 ],
 "metadata": {
  "kernelspec": {
   "display_name": "Python 3 (ipykernel)",
   "language": "python",
   "name": "python3"
  },
  "language_info": {
   "codemirror_mode": {
    "name": "ipython",
    "version": 3
   },
   "file_extension": ".py",
   "mimetype": "text/x-python",
   "name": "python",
   "nbconvert_exporter": "python",
   "pygments_lexer": "ipython3",
   "version": "3.11.4"
  }
 },
 "nbformat": 4,
 "nbformat_minor": 5
}
