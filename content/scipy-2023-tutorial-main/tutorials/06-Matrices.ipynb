{
 "cells": [
  {
   "cell_type": "markdown",
   "id": "6bcbe9f9-2be6-41db-9f6d-9f77f4ccdddb",
   "metadata": {},
   "source": [
    "# Matrices"
   ]
  },
  {
   "cell_type": "markdown",
   "id": "1fc94a53-5109-43e4-8f97-2168d35b906d",
   "metadata": {},
   "source": [
    "In this section, we will learn how to use matrices in SymPy. \n",
    "\n",
    "- Constructing matrices\n",
    "- Basic matrix methods and operations\n",
    "- Symbolic vs. numeric matrices\n",
    "- Matrix Expressions"
   ]
  },
  {
   "cell_type": "code",
   "execution_count": 1,
   "id": "fa221bb8-6a45-44ea-9bbd-ce27373717a2",
   "metadata": {
    "tags": []
   },
   "outputs": [],
   "source": [
    "from sympy import *\n",
    "x, y, z = symbols('x y z')\n",
    "init_printing()"
   ]
  },
  {
   "cell_type": "markdown",
   "id": "56c1390a-107a-475a-aed0-1edfc9859188",
   "metadata": {
    "tags": []
   },
   "source": [
    "## Constructing Matrices"
   ]
  },
  {
   "cell_type": "markdown",
   "id": "83172b5a-7850-4eea-854c-caa506ec8902",
   "metadata": {},
   "source": [
    "Matrices in SymPy are constructed with the `Matrix` class. Matrices can be constructed as a list of lists of elements, where each outer list is a list of row vectors that make up the matrix. For example, to construct the matrix\n",
    "\n",
    "$$\\begin{split}\\left[\\begin{array}{cc}1 & -1\\\\3 & 4\\\\0 & 2\\end{array}\\right]\\end{split}$$"
   ]
  },
  {
   "cell_type": "code",
   "execution_count": 2,
   "id": "c459d264-ca9e-443f-acd2-39ef0d725d2f",
   "metadata": {
    "tags": []
   },
   "outputs": [
    {
     "data": {
      "image/png": "[encoded data removed]",
      "text/latex": [
       "$\\displaystyle \\left[\\begin{matrix}1 & -1\\\\3 & 4\\\\0 & 2\\end{matrix}\\right]$"
      ],
      "text/plain": [
       "⎡1  -1⎤\n",
       "⎢     ⎥\n",
       "⎢3  4 ⎥\n",
       "⎢     ⎥\n",
       "⎣0  2 ⎦"
      ]
     },
     "execution_count": 2,
     "metadata": {},
     "output_type": "execute_result"
    }
   ],
   "source": [
    "M = Matrix([[1, -1], [3, 4], [0, 2]])\n",
    "M"
   ]
  },
  {
   "cell_type": "markdown",
   "id": "b1d27194-9e83-4f57-9224-71d67291e176",
   "metadata": {},
   "source": [
    "You can also construct a column vector (matrix) by pasing a single list of values)"
   ]
  },
  {
   "cell_type": "code",
   "execution_count": 3,
   "id": "b7474fdb-cfd0-43d5-9bc6-7c4433d459e2",
   "metadata": {
    "tags": []
   },
   "outputs": [
    {
     "data": {
      "image/png": "[encoded data removed]",
      "text/latex": [
       "$\\displaystyle \\left[\\begin{matrix}1\\\\-1\\\\2\\end{matrix}\\right]$"
      ],
      "text/plain": [
       "⎡1 ⎤\n",
       "⎢  ⎥\n",
       "⎢-1⎥\n",
       "⎢  ⎥\n",
       "⎣2 ⎦"
      ]
     },
     "execution_count": 3,
     "metadata": {},
     "output_type": "execute_result"
    }
   ],
   "source": [
    "a = Matrix([1, -1, 2])\n",
    "a"
   ]
  },
  {
   "cell_type": "markdown",
   "id": "0fc3dc72-361c-4f6e-a7bc-6ce5a1b5f5fa",
   "metadata": {},
   "source": [
    "Another way to construct a matrix is with a formula for the elements, using `Matrix(n, m, f)`, `n` and `m` are the number of rows and columns of the matrix, and `f` is a function that takes `f(i, j)` and returns the $i, j$ element of the matrix.\n",
    "\n",
    "For example, to construct the matrix $$[ i + j ]_{3,4}$$"
   ]
  },
  {
   "cell_type": "code",
   "execution_count": 4,
   "id": "f5456ff5-4dc2-4d35-b5d0-eeac8c4c0bd3",
   "metadata": {
    "tags": []
   },
   "outputs": [
    {
     "data": {
      "image/png": "[encoded data removed]",
      "text/latex": [
       "$\\displaystyle \\left[\\begin{matrix}0 & 1 & 2 & 3\\\\1 & 2 & 3 & 4\\\\2 & 3 & 4 & 5\\end{matrix}\\right]$"
      ],
      "text/plain": [
       "⎡0  1  2  3⎤\n",
       "⎢          ⎥\n",
       "⎢1  2  3  4⎥\n",
       "⎢          ⎥\n",
       "⎣2  3  4  5⎦"
      ]
     },
     "execution_count": 4,
     "metadata": {},
     "output_type": "execute_result"
    }
   ],
   "source": [
    "Matrix(3, 4, lambda i, j: i + j)"
   ]
  },
  {
   "cell_type": "markdown",
   "id": "bc565e72-59b2-4f50-a0c2-ab3ded79f2f4",
   "metadata": {},
   "source": [
    "SymPy also has some special constructors for common types of matrices"
   ]
  },
  {
   "cell_type": "code",
   "execution_count": 5,
   "id": "e9188ed3-fe7f-49e4-9dc5-cc7bb262d952",
   "metadata": {
    "tags": []
   },
   "outputs": [
    {
     "data": {
      "image/png": "[encoded data removed]",
      "text/latex": [
       "$\\displaystyle \\left[\\begin{matrix}1 & 0 & 0\\\\0 & 1 & 0\\\\0 & 0 & 1\\end{matrix}\\right]$"
      ],
      "text/plain": [
       "⎡1  0  0⎤\n",
       "⎢       ⎥\n",
       "⎢0  1  0⎥\n",
       "⎢       ⎥\n",
       "⎣0  0  1⎦"
      ]
     },
     "execution_count": 5,
     "metadata": {},
     "output_type": "execute_result"
    }
   ],
   "source": [
    "eye(3) # identity matrix"
   ]
  },
  {
   "cell_type": "code",
   "execution_count": 6,
   "id": "8ce6f4e1-7b8b-49b0-ad05-201f1150af81",
   "metadata": {
    "tags": []
   },
   "outputs": [
    {
     "data": {
      "image/png": "[encoded data removed]",
      "text/latex": [
       "$\\displaystyle \\left[\\begin{matrix}1 & 1\\\\1 & 1\\\\1 & 1\\\\1 & 1\\end{matrix}\\right]$"
      ],
      "text/plain": [
       "⎡1  1⎤\n",
       "⎢    ⎥\n",
       "⎢1  1⎥\n",
       "⎢    ⎥\n",
       "⎢1  1⎥\n",
       "⎢    ⎥\n",
       "⎣1  1⎦"
      ]
     },
     "execution_count": 6,
     "metadata": {},
     "output_type": "execute_result"
    }
   ],
   "source": [
    "ones(4, 2) # matrix of all ones"
   ]
  },
  {
   "cell_type": "code",
   "execution_count": 7,
   "id": "dcde7253-e9ed-4a71-b7c9-c40d7a77fa08",
   "metadata": {
    "tags": []
   },
   "outputs": [
    {
     "data": {
      "image/png": "[encoded data removed]",
      "text/latex": [
       "$\\displaystyle \\left[\\begin{matrix}0 & 0 & 0\\\\0 & 0 & 0\\end{matrix}\\right]$"
      ],
      "text/plain": [
       "⎡0  0  0⎤\n",
       "⎢       ⎥\n",
       "⎣0  0  0⎦"
      ]
     },
     "execution_count": 7,
     "metadata": {},
     "output_type": "execute_result"
    }
   ],
   "source": [
    "zeros(2, 3) # matrix of all zeros"
   ]
  },
  {
   "cell_type": "code",
   "execution_count": 8,
   "id": "7b6d931f-05df-4d2c-b00a-8321a0ade2c5",
   "metadata": {
    "tags": []
   },
   "outputs": [
    {
     "data": {
      "image/png": "[encoded data removed]",
      "text/latex": [
       "$\\displaystyle \\left[\\begin{matrix}1 & 0 & 0\\\\0 & -1 & 0\\\\0 & 0 & 2\\end{matrix}\\right]$"
      ],
      "text/plain": [
       "⎡1  0   0⎤\n",
       "⎢        ⎥\n",
       "⎢0  -1  0⎥\n",
       "⎢        ⎥\n",
       "⎣0  0   2⎦"
      ]
     },
     "execution_count": 8,
     "metadata": {},
     "output_type": "execute_result"
    }
   ],
   "source": [
    "diag(1, -1, 2) # matrix with specified entries along the diagonal"
   ]
  },
  {
   "cell_type": "markdown",
   "id": "2cf9fca8-73b9-47ab-8796-497f6dc5e147",
   "metadata": {},
   "source": [
    "### Exercises"
   ]
  },
  {
   "cell_type": "markdown",
   "id": "0cd55341-8bb7-4831-ac5d-688916f59240",
   "metadata": {},
   "source": [
    "Use the matrix constructors to construct the following matrices.  There may be more than one correct answer."
   ]
  },
  {
   "cell_type": "markdown",
   "id": "1fd22937-ce9d-4ebf-8120-83ce6c5dc0ef",
   "metadata": {},
   "source": [
    "$$\\left[\\begin{matrix}2 & 3\\\\0 & 1\\end{matrix}\\right]$$"
   ]
  },
  {
   "cell_type": "code",
   "execution_count": null,
   "id": "5f617ed0-cd2f-4f85-9ea4-0c1a748f4112",
   "metadata": {
    "collapsed": false,
    "jupyter": {
     "outputs_hidden": false
    }
   },
   "outputs": [],
   "source": []
  },
  {
   "cell_type": "markdown",
   "id": "d91dc260-6fa8-4c57-8cfe-a901fbab87b0",
   "metadata": {},
   "source": [
    "$$\\left[\\begin{array}{ccc}4 & 0 & 0\\\\\\\\ \n",
    "0 & 4 & 0\\\\\\\\ \n",
    "0 & 0 & 4\\end{array}\\right]$$"
   ]
  },
  {
   "cell_type": "code",
   "execution_count": null,
   "id": "84caa8dc-0650-4ef1-8889-f73fdcc55351",
   "metadata": {},
   "outputs": [],
   "source": []
  },
  {
   "cell_type": "markdown",
   "id": "69bbd553-ab09-4d2d-a5bd-46b65e064366",
   "metadata": {},
   "source": [
    "$$\\left[\\begin{matrix}0 & 0 & 0\\\\1 & 1 & 1\\\\2 & 2 & 2\\end{matrix}\\right]$$"
   ]
  },
  {
   "cell_type": "code",
   "execution_count": null,
   "id": "16330c5f-7dda-4115-a4f8-d2b2eedfab36",
   "metadata": {},
   "outputs": [],
   "source": []
  },
  {
   "cell_type": "markdown",
   "id": "36da7e25-72bd-4f00-aa2b-0bbe9755cba5",
   "metadata": {
    "tags": []
   },
   "source": [
    "## Basic Matrix Methods"
   ]
  },
  {
   "cell_type": "markdown",
   "id": "9683bb83-c6ac-48c7-9d66-e0d6bf1892df",
   "metadata": {},
   "source": [
    "Note that unlike NumPy arrays, SymPy matrices are always 2-dimensional ($n\\times m$). You can get the number of rows and columns of a matrix with the `rows` and `cols` attributes."
   ]
  },
  {
   "cell_type": "markdown",
   "id": "c28d8a03-3949-41cb-9852-5269855ad47a",
   "metadata": {},
   "source": [
    "### Indexing matrix"
   ]
  },
  {
   "cell_type": "markdown",
   "id": "39fa8236-5980-4001-a5c6-0a2ff60564e5",
   "metadata": {},
   "source": [
    "You can use `A[i, j]` for indexing SymPy matrix \n",
    "\n",
    "(You should not use `A[i][j]`)"
   ]
  },
  {
   "cell_type": "code",
   "execution_count": 9,
   "id": "64f380f1-f26d-4815-9776-849945a4d241",
   "metadata": {},
   "outputs": [
    {
     "data": {
      "image/png": "[encoded data removed]",
      "text/latex": [
       "$\\displaystyle -1$"
      ],
      "text/plain": [
       "-1"
      ]
     },
     "execution_count": 9,
     "metadata": {},
     "output_type": "execute_result"
    }
   ],
   "source": [
    "a[1, 0]"
   ]
  },
  {
   "cell_type": "markdown",
   "id": "37e08277-9d9d-4ef3-a0e2-d14db2204041",
   "metadata": {},
   "source": [
    "Use `rows, cols, shape` to get the matrix shape, \n",
    "\n",
    "which is useful for getting the bounds for iterating over the matrix elements."
   ]
  },
  {
   "cell_type": "code",
   "execution_count": 10,
   "id": "57b99fb4-eae5-49ba-87a7-53e2f093de77",
   "metadata": {
    "tags": []
   },
   "outputs": [
    {
     "data": {
      "image/png": "[encoded data removed]",
      "text/latex": [
       "$\\displaystyle 3$"
      ],
      "text/plain": [
       "3"
      ]
     },
     "execution_count": 10,
     "metadata": {},
     "output_type": "execute_result"
    }
   ],
   "source": [
    "a.rows"
   ]
  },
  {
   "cell_type": "code",
   "execution_count": 11,
   "id": "5d2c8769-4ff9-493a-902e-137559adbc57",
   "metadata": {
    "tags": []
   },
   "outputs": [
    {
     "data": {
      "image/png": "[encoded data removed]",
      "text/latex": [
       "$\\displaystyle 1$"
      ],
      "text/plain": [
       "1"
      ]
     },
     "execution_count": 11,
     "metadata": {},
     "output_type": "execute_result"
    }
   ],
   "source": [
    "a.cols"
   ]
  },
  {
   "cell_type": "code",
   "execution_count": 12,
   "id": "aa0e6d00-288d-4816-bb79-401f9160dad4",
   "metadata": {},
   "outputs": [
    {
     "data": {
      "image/png": "[encoded data removed]",
      "text/latex": [
       "$\\displaystyle \\left( 3, \\  1\\right)$"
      ],
      "text/plain": [
       "(3, 1)"
      ]
     },
     "execution_count": 12,
     "metadata": {},
     "output_type": "execute_result"
    }
   ],
   "source": [
    "a.shape"
   ]
  },
  {
   "cell_type": "markdown",
   "id": "981d632d-2ba3-473a-b344-665b16276837",
   "metadata": {},
   "source": [
    "### Adding and multiplying matrix"
   ]
  },
  {
   "cell_type": "markdown",
   "id": "79a6d7e1-6d98-47e0-bb46-dd4d0c7f8c61",
   "metadata": {},
   "source": [
    "Matrices support the basic arithmetic operations. \n",
    "\n",
    "Note that `*` does matrix multiplication (you can also use `@`), as well as scalar-matrix multiplication."
   ]
  },
  {
   "cell_type": "code",
   "execution_count": 13,
   "id": "c33a7de7-97e3-4442-8168-1cc6a67b35ed",
   "metadata": {
    "tags": []
   },
   "outputs": [
    {
     "data": {
      "image/png": "[encoded data removed]",
      "text/latex": [
       "$\\displaystyle \\left[\\begin{matrix}1 & 2\\\\3 & 4\\end{matrix}\\right]$"
      ],
      "text/plain": [
       "⎡1  2⎤\n",
       "⎢    ⎥\n",
       "⎣3  4⎦"
      ]
     },
     "execution_count": 13,
     "metadata": {},
     "output_type": "execute_result"
    }
   ],
   "source": [
    "A = Matrix([[1, 2], [3, 4]])\n",
    "A"
   ]
  },
  {
   "cell_type": "code",
   "execution_count": 14,
   "id": "8f2240e3-3d88-4770-830e-521990b6afcc",
   "metadata": {
    "tags": []
   },
   "outputs": [
    {
     "data": {
      "image/png": "[encoded data removed]",
      "text/latex": [
       "$\\displaystyle \\left[\\begin{matrix}2 & 3\\\\-1 & 0\\end{matrix}\\right]$"
      ],
      "text/plain": [
       "⎡2   3⎤\n",
       "⎢     ⎥\n",
       "⎣-1  0⎦"
      ]
     },
     "execution_count": 14,
     "metadata": {},
     "output_type": "execute_result"
    }
   ],
   "source": [
    "B = Matrix([[2, 3], [-1, 0]])\n",
    "B"
   ]
  },
  {
   "cell_type": "code",
   "execution_count": 15,
   "id": "bc877364-1a4f-4ade-b01c-d3b0f6b2224a",
   "metadata": {
    "tags": []
   },
   "outputs": [
    {
     "data": {
      "image/png": "[encoded data removed]",
      "text/latex": [
       "$\\displaystyle \\left[\\begin{matrix}3 & 5\\\\2 & 4\\end{matrix}\\right]$"
      ],
      "text/plain": [
       "⎡3  5⎤\n",
       "⎢    ⎥\n",
       "⎣2  4⎦"
      ]
     },
     "execution_count": 15,
     "metadata": {},
     "output_type": "execute_result"
    }
   ],
   "source": [
    "A + B"
   ]
  },
  {
   "cell_type": "code",
   "execution_count": 16,
   "id": "389f6ad8-dd14-4e43-aab6-2cfa684dbdaf",
   "metadata": {
    "tags": []
   },
   "outputs": [
    {
     "data": {
      "image/png": "[encoded data removed]",
      "text/latex": [
       "$\\displaystyle \\left[\\begin{matrix}0 & 3\\\\2 & 9\\end{matrix}\\right]$"
      ],
      "text/plain": [
       "⎡0  3⎤\n",
       "⎢    ⎥\n",
       "⎣2  9⎦"
      ]
     },
     "execution_count": 16,
     "metadata": {},
     "output_type": "execute_result"
    }
   ],
   "source": [
    "A * B # Matrix multiplication"
   ]
  },
  {
   "cell_type": "code",
   "execution_count": 17,
   "id": "68b33340-dac3-4e3b-801a-51c078141b59",
   "metadata": {
    "tags": []
   },
   "outputs": [
    {
     "data": {
      "image/png": "[encoded data removed]",
      "text/latex": [
       "$\\displaystyle \\left[\\begin{matrix}0 & 3\\\\2 & 9\\end{matrix}\\right]$"
      ],
      "text/plain": [
       "⎡0  3⎤\n",
       "⎢    ⎥\n",
       "⎣2  9⎦"
      ]
     },
     "execution_count": 17,
     "metadata": {},
     "output_type": "execute_result"
    }
   ],
   "source": [
    "A @ B # Same as A*B"
   ]
  },
  {
   "cell_type": "code",
   "execution_count": 18,
   "id": "51aa2de2-bcac-4b7b-8050-a9aeb1ec157a",
   "metadata": {
    "tags": []
   },
   "outputs": [
    {
     "data": {
      "image/png": "[encoded data removed]",
      "text/latex": [
       "$\\displaystyle \\left[\\begin{matrix}2 & 4\\\\6 & 8\\end{matrix}\\right]$"
      ],
      "text/plain": [
       "⎡2  4⎤\n",
       "⎢    ⎥\n",
       "⎣6  8⎦"
      ]
     },
     "execution_count": 18,
     "metadata": {},
     "output_type": "execute_result"
    }
   ],
   "source": [
    "2*A # Scalar-matrix multiplication"
   ]
  },
  {
   "cell_type": "markdown",
   "id": "5d852d1d-426f-449d-9bc4-3067c71ad5e6",
   "metadata": {},
   "source": [
    "If you want to do elementwise multiplication like numpy you should use `.multiply_elementwise` \n",
    "\n",
    "(it's rarely used if you want to do mathematical work.)"
   ]
  },
  {
   "cell_type": "code",
   "execution_count": 19,
   "id": "2db6f8e1-d165-41a6-9dc9-d19b6a2d6f8e",
   "metadata": {},
   "outputs": [
    {
     "data": {
      "image/png": "[encoded data removed]",
      "text/latex": [
       "$\\displaystyle \\left[\\begin{matrix}2 & 6\\\\-3 & 0\\end{matrix}\\right]$"
      ],
      "text/plain": [
       "⎡2   6⎤\n",
       "⎢     ⎥\n",
       "⎣-3  0⎦"
      ]
     },
     "execution_count": 19,
     "metadata": {},
     "output_type": "execute_result"
    }
   ],
   "source": [
    "A.multiply_elementwise(B) # NumPy like multiplication"
   ]
  },
  {
   "cell_type": "markdown",
   "id": "76e485db-b9d6-4cdf-8798-cfe115141bc8",
   "metadata": {},
   "source": [
    "### Matrix shape"
   ]
  },
  {
   "cell_type": "markdown",
   "id": "80a9d905-db25-4fdd-b904-7fd0fb76238c",
   "metadata": {},
   "source": [
    "Note that SymPy is strict about matrix shapes. \n",
    "\n",
    "It does not support implicitly treating a $1\\times 1$ matrix as a scalar. \n",
    "To convert a matrix into a scalar, use indexing to extract the element."
   ]
  },
  {
   "cell_type": "code",
   "execution_count": 20,
   "id": "2fe48471-98f8-45d1-a71e-46278a2b2e5a",
   "metadata": {
    "tags": []
   },
   "outputs": [
    {
     "data": {
      "image/png": "[encoded data removed]",
      "text/latex": [
       "$\\displaystyle \\left( \\left[\\begin{matrix}1\\\\2\\\\3\\end{matrix}\\right], \\  \\left[\\begin{matrix}-1\\\\1\\\\0\\end{matrix}\\right]\\right)$"
      ],
      "text/plain": [
       "⎛⎡1⎤  ⎡-1⎤⎞\n",
       "⎜⎢ ⎥  ⎢  ⎥⎟\n",
       "⎜⎢2⎥, ⎢1 ⎥⎟\n",
       "⎜⎢ ⎥  ⎢  ⎥⎟\n",
       "⎝⎣3⎦  ⎣0 ⎦⎠"
      ]
     },
     "execution_count": 20,
     "metadata": {},
     "output_type": "execute_result"
    }
   ],
   "source": [
    "a = Matrix([1, 2, 3])\n",
    "b = Matrix([-1, 1, 0])\n",
    "a, b"
   ]
  },
  {
   "cell_type": "code",
   "execution_count": 21,
   "id": "df83717a-08a2-4aba-8a6d-e8b03840efc1",
   "metadata": {
    "tags": []
   },
   "outputs": [
    {
     "data": {
      "image/png": "[encoded data removed]",
      "text/latex": [
       "$\\displaystyle \\left[\\begin{matrix}1\\end{matrix}\\right]$"
      ],
      "text/plain": [
       "[1]"
      ]
     },
     "execution_count": 21,
     "metadata": {},
     "output_type": "execute_result"
    }
   ],
   "source": [
    "s = a.T*b # Dot product. Note that a.T is the transpose of a\n",
    "s"
   ]
  },
  {
   "cell_type": "code",
   "execution_count": 22,
   "id": "53148954-e159-40e0-b327-1edd72d055d8",
   "metadata": {
    "tags": []
   },
   "outputs": [
    {
     "ename": "TypeError",
     "evalue": "cannot add <class 'sympy.matrices.dense.MutableDenseMatrix'> and <class 'int'>",
     "output_type": "error",
     "traceback": [
      "\u001b[0;31m---------------------------------------------------------------------------\u001b[0m",
      "\u001b[0;31mTypeError\u001b[0m                                 Traceback (most recent call last)",
      "Cell \u001b[0;32mIn[22], line 1\u001b[0m\n\u001b[0;32m----> 1\u001b[0m \u001b[43ms\u001b[49m\u001b[43m \u001b[49m\u001b[38;5;241;43m+\u001b[39;49m\u001b[43m \u001b[49m\u001b[38;5;241;43m4\u001b[39;49m \u001b[38;5;66;03m# An error\u001b[39;00m\n",
      "File \u001b[0;32m~/anaconda3/envs/sympy-tutorial/lib/python3.11/site-packages/sympy/core/decorators.py:106\u001b[0m, in \u001b[0;36mcall_highest_priority.<locals>.priority_decorator.<locals>.binary_op_wrapper\u001b[0;34m(self, other)\u001b[0m\n\u001b[1;32m    104\u001b[0m         \u001b[38;5;28;01mif\u001b[39;00m f \u001b[38;5;129;01mis\u001b[39;00m \u001b[38;5;129;01mnot\u001b[39;00m \u001b[38;5;28;01mNone\u001b[39;00m:\n\u001b[1;32m    105\u001b[0m             \u001b[38;5;28;01mreturn\u001b[39;00m f(\u001b[38;5;28mself\u001b[39m)\n\u001b[0;32m--> 106\u001b[0m \u001b[38;5;28;01mreturn\u001b[39;00m \u001b[43mfunc\u001b[49m\u001b[43m(\u001b[49m\u001b[38;5;28;43mself\u001b[39;49m\u001b[43m,\u001b[49m\u001b[43m \u001b[49m\u001b[43mother\u001b[49m\u001b[43m)\u001b[49m\n",
      "File \u001b[0;32m~/anaconda3/envs/sympy-tutorial/lib/python3.11/site-packages/sympy/matrices/common.py:2656\u001b[0m, in \u001b[0;36mMatrixArithmetic.__add__\u001b[0;34m(self, other)\u001b[0m\n\u001b[1;32m   2653\u001b[0m \u001b[38;5;28;01mif\u001b[39;00m \u001b[38;5;28mgetattr\u001b[39m(other, \u001b[38;5;124m'\u001b[39m\u001b[38;5;124mis_MatrixLike\u001b[39m\u001b[38;5;124m'\u001b[39m, \u001b[38;5;28;01mFalse\u001b[39;00m):\n\u001b[1;32m   2654\u001b[0m     \u001b[38;5;28;01mreturn\u001b[39;00m MatrixArithmetic\u001b[38;5;241m.\u001b[39m_eval_add(\u001b[38;5;28mself\u001b[39m, other)\n\u001b[0;32m-> 2656\u001b[0m \u001b[38;5;28;01mraise\u001b[39;00m \u001b[38;5;167;01mTypeError\u001b[39;00m(\u001b[38;5;124m'\u001b[39m\u001b[38;5;124mcannot add \u001b[39m\u001b[38;5;132;01m%s\u001b[39;00m\u001b[38;5;124m and \u001b[39m\u001b[38;5;132;01m%s\u001b[39;00m\u001b[38;5;124m'\u001b[39m \u001b[38;5;241m%\u001b[39m (\u001b[38;5;28mtype\u001b[39m(\u001b[38;5;28mself\u001b[39m), \u001b[38;5;28mtype\u001b[39m(other)))\n",
      "\u001b[0;31mTypeError\u001b[0m: cannot add <class 'sympy.matrices.dense.MutableDenseMatrix'> and <class 'int'>"
     ]
    }
   ],
   "source": [
    "s + 4 # An error"
   ]
  },
  {
   "cell_type": "code",
   "execution_count": null,
   "id": "09eba8e3-da7e-4587-9e5b-2c4798c7743c",
   "metadata": {
    "tags": []
   },
   "outputs": [],
   "source": [
    "s[0, 0] + 4"
   ]
  },
  {
   "cell_type": "markdown",
   "id": "3a0cb6a8-a7ff-47d4-a055-34791edf33e5",
   "metadata": {},
   "source": [
    "Matrices support common linear algebra operations. Most operations are present as methods on the matrix object. You can use tab completion to see all the available methods. "
   ]
  },
  {
   "cell_type": "code",
   "execution_count": null,
   "id": "5c607245-5d7c-4310-878c-852bcae2478d",
   "metadata": {
    "tags": []
   },
   "outputs": [],
   "source": [
    "M = Matrix([[2, 0, 0], [0, 2, 0], [-4, -4, 4]])\n",
    "M"
   ]
  },
  {
   "cell_type": "code",
   "execution_count": null,
   "id": "fe73e69c-5833-45d3-8b9d-72d9009774d4",
   "metadata": {
    "tags": []
   },
   "outputs": [],
   "source": [
    "M. # Place your cursor to the right of the . and press TAB"
   ]
  },
  {
   "cell_type": "markdown",
   "id": "1727824d-66a4-4cba-9812-f3faa67eb76c",
   "metadata": {},
   "source": [
    "### Linear algebra"
   ]
  },
  {
   "cell_type": "markdown",
   "id": "b6af52d2-f35c-44b4-8cec-4533d49b6353",
   "metadata": {},
   "source": [
    "A few useful ones are `eigenvals` and `eigenvects` to get eigenvalues and eigenvalue-eigenvector pairs. \n",
    "\n",
    "`eigenvects()` returns a list of tuples of the form `(eigenvalue, multiplicity, eigenvector_basis`)."
   ]
  },
  {
   "cell_type": "code",
   "execution_count": null,
   "id": "ef5bdfc7-5475-4b18-8ab7-653033807807",
   "metadata": {
    "tags": []
   },
   "outputs": [],
   "source": [
    "M.eigenvals()"
   ]
  },
  {
   "cell_type": "code",
   "execution_count": 23,
   "id": "516eb1b3-1741-46cc-89c5-a2c19cd738f8",
   "metadata": {
    "tags": []
   },
   "outputs": [
    {
     "ename": "DMNonSquareMatrixError",
     "evalue": "not square",
     "output_type": "error",
     "traceback": [
      "\u001b[0;31m---------------------------------------------------------------------------\u001b[0m",
      "\u001b[0;31mDMNonSquareMatrixError\u001b[0m                    Traceback (most recent call last)",
      "Cell \u001b[0;32mIn[23], line 1\u001b[0m\n\u001b[0;32m----> 1\u001b[0m \u001b[43mM\u001b[49m\u001b[38;5;241;43m.\u001b[39;49m\u001b[43meigenvects\u001b[49m\u001b[43m(\u001b[49m\u001b[43m)\u001b[49m\n",
      "File \u001b[0;32m~/anaconda3/envs/sympy-tutorial/lib/python3.11/site-packages/sympy/matrices/matrices.py:379\u001b[0m, in \u001b[0;36mMatrixEigen.eigenvects\u001b[0;34m(self, error_when_incomplete, iszerofunc, **flags)\u001b[0m\n\u001b[1;32m    378\u001b[0m \u001b[38;5;28;01mdef\u001b[39;00m \u001b[38;5;21meigenvects\u001b[39m(\u001b[38;5;28mself\u001b[39m, error_when_incomplete\u001b[38;5;241m=\u001b[39m\u001b[38;5;28;01mTrue\u001b[39;00m, iszerofunc\u001b[38;5;241m=\u001b[39m_iszero, \u001b[38;5;241m*\u001b[39m\u001b[38;5;241m*\u001b[39mflags):\n\u001b[0;32m--> 379\u001b[0m     \u001b[38;5;28;01mreturn\u001b[39;00m \u001b[43m_eigenvects\u001b[49m\u001b[43m(\u001b[49m\u001b[38;5;28;43mself\u001b[39;49m\u001b[43m,\u001b[49m\u001b[43m \u001b[49m\u001b[43merror_when_incomplete\u001b[49m\u001b[38;5;241;43m=\u001b[39;49m\u001b[43merror_when_incomplete\u001b[49m\u001b[43m,\u001b[49m\n\u001b[1;32m    380\u001b[0m \u001b[43m            \u001b[49m\u001b[43miszerofunc\u001b[49m\u001b[38;5;241;43m=\u001b[39;49m\u001b[43miszerofunc\u001b[49m\u001b[43m,\u001b[49m\u001b[43m \u001b[49m\u001b[38;5;241;43m*\u001b[39;49m\u001b[38;5;241;43m*\u001b[39;49m\u001b[43mflags\u001b[49m\u001b[43m)\u001b[49m\n",
      "File \u001b[0;32m~/anaconda3/envs/sympy-tutorial/lib/python3.11/site-packages/sympy/matrices/eigen.py:420\u001b[0m, in \u001b[0;36m_eigenvects\u001b[0;34m(M, error_when_incomplete, iszerofunc, chop, **flags)\u001b[0m\n\u001b[1;32m    417\u001b[0m     \u001b[38;5;28;01mfrom\u001b[39;00m \u001b[38;5;21;01msympy\u001b[39;00m\u001b[38;5;21;01m.\u001b[39;00m\u001b[38;5;21;01msimplify\u001b[39;00m \u001b[38;5;28;01mimport\u001b[39;00m nsimplify\n\u001b[1;32m    418\u001b[0m     M \u001b[38;5;241m=\u001b[39m M\u001b[38;5;241m.\u001b[39mapplyfunc(\u001b[38;5;28;01mlambda\u001b[39;00m x: nsimplify(x, rational\u001b[38;5;241m=\u001b[39m\u001b[38;5;28;01mTrue\u001b[39;00m))\n\u001b[0;32m--> 420\u001b[0m ret \u001b[38;5;241m=\u001b[39m \u001b[43m_eigenvects_DOM\u001b[49m\u001b[43m(\u001b[49m\u001b[43mM\u001b[49m\u001b[43m)\u001b[49m\n\u001b[1;32m    421\u001b[0m \u001b[38;5;28;01mif\u001b[39;00m ret \u001b[38;5;129;01mis\u001b[39;00m \u001b[38;5;28;01mNone\u001b[39;00m:\n\u001b[1;32m    422\u001b[0m     ret \u001b[38;5;241m=\u001b[39m _eigenvects_sympy(M, iszerofunc, simplify\u001b[38;5;241m=\u001b[39msimplify, \u001b[38;5;241m*\u001b[39m\u001b[38;5;241m*\u001b[39mflags)\n",
      "File \u001b[0;32m~/anaconda3/envs/sympy-tutorial/lib/python3.11/site-packages/sympy/matrices/eigen.py:301\u001b[0m, in \u001b[0;36m_eigenvects_DOM\u001b[0;34m(M, **kwargs)\u001b[0m\n\u001b[1;32m    298\u001b[0m DOM \u001b[38;5;241m=\u001b[39m DOM\u001b[38;5;241m.\u001b[39mto_dense()\n\u001b[1;32m    300\u001b[0m \u001b[38;5;28;01mif\u001b[39;00m DOM\u001b[38;5;241m.\u001b[39mdomain \u001b[38;5;241m!=\u001b[39m EX:\n\u001b[0;32m--> 301\u001b[0m     rational, algebraic \u001b[38;5;241m=\u001b[39m \u001b[43mdom_eigenvects\u001b[49m\u001b[43m(\u001b[49m\u001b[43mDOM\u001b[49m\u001b[43m)\u001b[49m\n\u001b[1;32m    302\u001b[0m     eigenvects \u001b[38;5;241m=\u001b[39m dom_eigenvects_to_sympy(\n\u001b[1;32m    303\u001b[0m         rational, algebraic, M\u001b[38;5;241m.\u001b[39m\u001b[38;5;18m__class__\u001b[39m, \u001b[38;5;241m*\u001b[39m\u001b[38;5;241m*\u001b[39mkwargs)\n\u001b[1;32m    304\u001b[0m     eigenvects \u001b[38;5;241m=\u001b[39m \u001b[38;5;28msorted\u001b[39m(eigenvects, key\u001b[38;5;241m=\u001b[39m\u001b[38;5;28;01mlambda\u001b[39;00m x: default_sort_key(x[\u001b[38;5;241m0\u001b[39m]))\n",
      "File \u001b[0;32m~/anaconda3/envs/sympy-tutorial/lib/python3.11/site-packages/sympy/polys/matrices/eigen.py:18\u001b[0m, in \u001b[0;36mdom_eigenvects\u001b[0;34m(A, l)\u001b[0m\n\u001b[1;32m     17\u001b[0m \u001b[38;5;28;01mdef\u001b[39;00m \u001b[38;5;21mdom_eigenvects\u001b[39m(A, l\u001b[38;5;241m=\u001b[39mDummy(\u001b[38;5;124m'\u001b[39m\u001b[38;5;124mlambda\u001b[39m\u001b[38;5;124m'\u001b[39m)):\n\u001b[0;32m---> 18\u001b[0m     charpoly \u001b[38;5;241m=\u001b[39m \u001b[43mA\u001b[49m\u001b[38;5;241;43m.\u001b[39;49m\u001b[43mcharpoly\u001b[49m\u001b[43m(\u001b[49m\u001b[43m)\u001b[49m\n\u001b[1;32m     19\u001b[0m     rows, cols \u001b[38;5;241m=\u001b[39m A\u001b[38;5;241m.\u001b[39mshape\n\u001b[1;32m     20\u001b[0m     domain \u001b[38;5;241m=\u001b[39m A\u001b[38;5;241m.\u001b[39mdomain\n",
      "File \u001b[0;32m~/anaconda3/envs/sympy-tutorial/lib/python3.11/site-packages/sympy/polys/matrices/domainmatrix.py:1574\u001b[0m, in \u001b[0;36mDomainMatrix.charpoly\u001b[0;34m(self)\u001b[0m\n\u001b[1;32m   1572\u001b[0m m, n \u001b[38;5;241m=\u001b[39m \u001b[38;5;28mself\u001b[39m\u001b[38;5;241m.\u001b[39mshape\n\u001b[1;32m   1573\u001b[0m \u001b[38;5;28;01mif\u001b[39;00m m \u001b[38;5;241m!=\u001b[39m n:\n\u001b[0;32m-> 1574\u001b[0m     \u001b[38;5;28;01mraise\u001b[39;00m DMNonSquareMatrixError(\u001b[38;5;124m\"\u001b[39m\u001b[38;5;124mnot square\u001b[39m\u001b[38;5;124m\"\u001b[39m)\n\u001b[1;32m   1575\u001b[0m \u001b[38;5;28;01mreturn\u001b[39;00m \u001b[38;5;28mself\u001b[39m\u001b[38;5;241m.\u001b[39mrep\u001b[38;5;241m.\u001b[39mcharpoly()\n",
      "\u001b[0;31mDMNonSquareMatrixError\u001b[0m: not square"
     ]
    }
   ],
   "source": [
    "M.eigenvects()"
   ]
  },
  {
   "cell_type": "markdown",
   "id": "f70bec04-3f61-4fd1-8780-a106f3e869de",
   "metadata": {},
   "source": [
    "The `A.solve(rhs)` method of a matrix solves a matrix equation $Ax=rhs$"
   ]
  },
  {
   "cell_type": "code",
   "execution_count": 24,
   "id": "62460b6f-9b46-4b0c-9314-a1a92ea95494",
   "metadata": {
    "tags": []
   },
   "outputs": [
    {
     "ename": "NonInvertibleMatrixError",
     "evalue": "Matrix det == 0; not invertible.",
     "output_type": "error",
     "traceback": [
      "\u001b[0;31m---------------------------------------------------------------------------\u001b[0m",
      "\u001b[0;31mValueError\u001b[0m                                Traceback (most recent call last)",
      "File \u001b[0;32m~/anaconda3/envs/sympy-tutorial/lib/python3.11/site-packages/sympy/matrices/solvers.py:751\u001b[0m, in \u001b[0;36m_solve\u001b[0;34m(M, rhs, method)\u001b[0m\n\u001b[1;32m    750\u001b[0m \u001b[38;5;28;01mtry\u001b[39;00m:\n\u001b[0;32m--> 751\u001b[0m     soln, param \u001b[38;5;241m=\u001b[39m \u001b[43mM\u001b[49m\u001b[38;5;241;43m.\u001b[39;49m\u001b[43mgauss_jordan_solve\u001b[49m\u001b[43m(\u001b[49m\u001b[43mrhs\u001b[49m\u001b[43m)\u001b[49m\n\u001b[1;32m    753\u001b[0m     \u001b[38;5;28;01mif\u001b[39;00m param:\n",
      "File \u001b[0;32m~/anaconda3/envs/sympy-tutorial/lib/python3.11/site-packages/sympy/matrices/matrices.py:2138\u001b[0m, in \u001b[0;36mMatrixBase.gauss_jordan_solve\u001b[0;34m(self, B, freevar)\u001b[0m\n\u001b[1;32m   2137\u001b[0m \u001b[38;5;28;01mdef\u001b[39;00m \u001b[38;5;21mgauss_jordan_solve\u001b[39m(\u001b[38;5;28mself\u001b[39m, B, freevar\u001b[38;5;241m=\u001b[39m\u001b[38;5;28;01mFalse\u001b[39;00m):\n\u001b[0;32m-> 2138\u001b[0m     \u001b[38;5;28;01mreturn\u001b[39;00m \u001b[43m_gauss_jordan_solve\u001b[49m\u001b[43m(\u001b[49m\u001b[38;5;28;43mself\u001b[39;49m\u001b[43m,\u001b[49m\u001b[43m \u001b[49m\u001b[43mB\u001b[49m\u001b[43m,\u001b[49m\u001b[43m \u001b[49m\u001b[43mfreevar\u001b[49m\u001b[38;5;241;43m=\u001b[39;49m\u001b[43mfreevar\u001b[49m\u001b[43m)\u001b[49m\n",
      "File \u001b[0;32m~/anaconda3/envs/sympy-tutorial/lib/python3.11/site-packages/sympy/matrices/solvers.py:580\u001b[0m, in \u001b[0;36m_gauss_jordan_solve\u001b[0;34m(M, B, freevar)\u001b[0m\n\u001b[1;32m    579\u001b[0m \u001b[38;5;28;01mif\u001b[39;00m \u001b[38;5;129;01mnot\u001b[39;00m v[rank:, :]\u001b[38;5;241m.\u001b[39mis_zero_matrix:\n\u001b[0;32m--> 580\u001b[0m     \u001b[38;5;28;01mraise\u001b[39;00m \u001b[38;5;167;01mValueError\u001b[39;00m(\u001b[38;5;124m\"\u001b[39m\u001b[38;5;124mLinear system has no solution\u001b[39m\u001b[38;5;124m\"\u001b[39m)\n\u001b[1;32m    582\u001b[0m \u001b[38;5;66;03m# Free parameters\u001b[39;00m\n\u001b[1;32m    583\u001b[0m \u001b[38;5;66;03m# what are current unnumbered free symbol names?\u001b[39;00m\n",
      "\u001b[0;31mValueError\u001b[0m: Linear system has no solution",
      "\nDuring handling of the above exception, another exception occurred:\n",
      "\u001b[0;31mNonInvertibleMatrixError\u001b[0m                  Traceback (most recent call last)",
      "Cell \u001b[0;32mIn[24], line 1\u001b[0m\n\u001b[0;32m----> 1\u001b[0m out \u001b[38;5;241m=\u001b[39m \u001b[43mM\u001b[49m\u001b[38;5;241;43m.\u001b[39;49m\u001b[43msolve\u001b[49m\u001b[43m(\u001b[49m\u001b[43mMatrix\u001b[49m\u001b[43m(\u001b[49m\u001b[43m[\u001b[49m\u001b[38;5;241;43m2\u001b[39;49m\u001b[43m,\u001b[49m\u001b[43m \u001b[49m\u001b[38;5;241;43m-\u001b[39;49m\u001b[38;5;241;43m6\u001b[39;49m\u001b[43m,\u001b[49m\u001b[43m \u001b[49m\u001b[38;5;241;43m15\u001b[39;49m\u001b[43m]\u001b[49m\u001b[43m)\u001b[49m\u001b[43m)\u001b[49m\n\u001b[1;32m      2\u001b[0m out\n",
      "File \u001b[0;32m~/anaconda3/envs/sympy-tutorial/lib/python3.11/site-packages/sympy/matrices/matrices.py:2144\u001b[0m, in \u001b[0;36mMatrixBase.solve\u001b[0;34m(self, rhs, method)\u001b[0m\n\u001b[1;32m   2143\u001b[0m \u001b[38;5;28;01mdef\u001b[39;00m \u001b[38;5;21msolve\u001b[39m(\u001b[38;5;28mself\u001b[39m, rhs, method\u001b[38;5;241m=\u001b[39m\u001b[38;5;124m'\u001b[39m\u001b[38;5;124mGJ\u001b[39m\u001b[38;5;124m'\u001b[39m):\n\u001b[0;32m-> 2144\u001b[0m     \u001b[38;5;28;01mreturn\u001b[39;00m \u001b[43m_solve\u001b[49m\u001b[43m(\u001b[49m\u001b[38;5;28;43mself\u001b[39;49m\u001b[43m,\u001b[49m\u001b[43m \u001b[49m\u001b[43mrhs\u001b[49m\u001b[43m,\u001b[49m\u001b[43m \u001b[49m\u001b[43mmethod\u001b[49m\u001b[38;5;241;43m=\u001b[39;49m\u001b[43mmethod\u001b[49m\u001b[43m)\u001b[49m\n",
      "File \u001b[0;32m~/anaconda3/envs/sympy-tutorial/lib/python3.11/site-packages/sympy/matrices/solvers.py:758\u001b[0m, in \u001b[0;36m_solve\u001b[0;34m(M, rhs, method)\u001b[0m\n\u001b[1;32m    754\u001b[0m             \u001b[38;5;28;01mraise\u001b[39;00m NonInvertibleMatrixError(\u001b[38;5;124m\"\u001b[39m\u001b[38;5;124mMatrix det == 0; not invertible. \u001b[39m\u001b[38;5;124m\"\u001b[39m\n\u001b[1;32m    755\u001b[0m             \u001b[38;5;124m\"\u001b[39m\u001b[38;5;124mTry ``M.gauss_jordan_solve(rhs)`` to obtain a parametric solution.\u001b[39m\u001b[38;5;124m\"\u001b[39m)\n\u001b[1;32m    757\u001b[0m     \u001b[38;5;28;01mexcept\u001b[39;00m \u001b[38;5;167;01mValueError\u001b[39;00m:\n\u001b[0;32m--> 758\u001b[0m         \u001b[38;5;28;01mraise\u001b[39;00m NonInvertibleMatrixError(\u001b[38;5;124m\"\u001b[39m\u001b[38;5;124mMatrix det == 0; not invertible.\u001b[39m\u001b[38;5;124m\"\u001b[39m)\n\u001b[1;32m    760\u001b[0m     \u001b[38;5;28;01mreturn\u001b[39;00m soln\n\u001b[1;32m    762\u001b[0m \u001b[38;5;28;01melif\u001b[39;00m method \u001b[38;5;241m==\u001b[39m \u001b[38;5;124m'\u001b[39m\u001b[38;5;124mLU\u001b[39m\u001b[38;5;124m'\u001b[39m:\n",
      "\u001b[0;31mNonInvertibleMatrixError\u001b[0m: Matrix det == 0; not invertible."
     ]
    }
   ],
   "source": [
    "out = M.solve(Matrix([2, -6, 15]))\n",
    "out"
   ]
  },
  {
   "cell_type": "code",
   "execution_count": 25,
   "id": "b07e5de4-3eb5-4bd0-85f0-a93947f66a0b",
   "metadata": {
    "tags": []
   },
   "outputs": [
    {
     "ename": "NameError",
     "evalue": "name 'out' is not defined",
     "output_type": "error",
     "traceback": [
      "\u001b[0;31m---------------------------------------------------------------------------\u001b[0m",
      "\u001b[0;31mNameError\u001b[0m                                 Traceback (most recent call last)",
      "Cell \u001b[0;32mIn[25], line 1\u001b[0m\n\u001b[0;32m----> 1\u001b[0m M \u001b[38;5;241m*\u001b[39m \u001b[43mout\u001b[49m\n",
      "\u001b[0;31mNameError\u001b[0m: name 'out' is not defined"
     ]
    }
   ],
   "source": [
    "M * out"
   ]
  },
  {
   "cell_type": "markdown",
   "id": "9189c495-1e3f-495a-9553-c3f3d88cf7ff",
   "metadata": {},
   "source": [
    "You can use SymPy matrix to verify fairly complicated matrix identities\n",
    "\n",
    "(like Sherman–Morrison formula)\n",
    "\n",
    "by expansion that cannot be easily done by hand."
   ]
  },
  {
   "cell_type": "code",
   "execution_count": 26,
   "id": "2ad948db-d2a5-4650-a5c1-a67ff495f8ea",
   "metadata": {},
   "outputs": [
    {
     "data": {
      "image/png": "[encoded data removed]",
      "text/latex": [
       "$\\displaystyle \\left[\\begin{matrix}0 & 0 & 0\\\\0 & 0 & 0\\\\0 & 0 & 0\\end{matrix}\\right]$"
      ],
      "text/plain": [
       "⎡0  0  0⎤\n",
       "⎢       ⎥\n",
       "⎢0  0  0⎥\n",
       "⎢       ⎥\n",
       "⎣0  0  0⎦"
      ]
     },
     "execution_count": 26,
     "metadata": {},
     "output_type": "execute_result"
    }
   ],
   "source": [
    "u, v, w = symbols('u v w')\n",
    "x, y, z = symbols('x y z')\n",
    "\n",
    "I = eye(3)\n",
    "u = Matrix([u, v, w])\n",
    "v = Matrix([x, y, z])\n",
    "lhs = (I + u*v.T).inv()\n",
    "rhs = I - (u*v.T) / (1 + v.dot(u))\n",
    "simplify(lhs - rhs)"
   ]
  },
  {
   "cell_type": "markdown",
   "id": "55759152-0d4d-42e8-bde6-78930023f178",
   "metadata": {},
   "source": [
    "An other example of how you can use symbolic matrix in practice\n",
    "\n",
    "is computing an explicit formula of bilinear interpolation.\n",
    "\n",
    "A biliniar interpolation is finding coefficients $c_0, c_1, c_2, c_3$ of polynomial function\n",
    "\n",
    "$$f = c_0 + c_1 x + c_2 y + c_3 x y$$\n",
    "\n",
    "Where the values of the functions are known at points \n",
    "$$(x_0, y_0), (x_0, y_1), (x_1, y_0), (x_1, y_1)$$\n",
    "\n",
    "Finding a solution of the problem involves writing down an equation with lots of variables\n",
    "\n",
    "and it is not easy to express the solution by hand, without using special algebraic techniques.\n",
    "\n",
    "However, with SymPy, it is easy to find the solutions\n",
    "and you can generalize this technique to extend to trilinear, ... so on."
   ]
  },
  {
   "cell_type": "code",
   "execution_count": 27,
   "id": "83c71c27-18dd-4879-b1d6-e615e0982de4",
   "metadata": {},
   "outputs": [
    {
     "data": {
      "image/png": "[encoded data removed]",
      "text/latex": [
       "$\\displaystyle \\left[\\begin{matrix}\\frac{f_{00} x_{2} y_{2} - f_{01} x_{2} y_{1} - f_{10} x_{1} y_{2} + f_{11} x_{1} y_{1}}{x_{1} y_{1} - x_{1} y_{2} - x_{2} y_{1} + x_{2} y_{2}}\\\\\\frac{- f_{00} y_{2} + f_{01} y_{1} + f_{10} y_{2} - f_{11} y_{1}}{x_{1} y_{1} - x_{1} y_{2} - x_{2} y_{1} + x_{2} y_{2}}\\\\\\frac{- f_{00} x_{2} + f_{01} x_{2} + f_{10} x_{1} - f_{11} x_{1}}{x_{1} y_{1} - x_{1} y_{2} - x_{2} y_{1} + x_{2} y_{2}}\\\\\\frac{f_{00} - f_{01} - f_{10} + f_{11}}{x_{1} y_{1} - x_{1} y_{2} - x_{2} y_{1} + x_{2} y_{2}}\\end{matrix}\\right]$"
      ],
      "text/plain": [
       "⎡f₀₀⋅x₂⋅y₂ - f₀₁⋅x₂⋅y₁ - f₁₀⋅x₁⋅y₂ + f₁₁⋅x₁⋅y₁⎤\n",
       "⎢─────────────────────────────────────────────⎥\n",
       "⎢        x₁⋅y₁ - x₁⋅y₂ - x₂⋅y₁ + x₂⋅y₂        ⎥\n",
       "⎢                                             ⎥\n",
       "⎢     -f₀₀⋅y₂ + f₀₁⋅y₁ + f₁₀⋅y₂ - f₁₁⋅y₁      ⎥\n",
       "⎢     ──────────────────────────────────      ⎥\n",
       "⎢       x₁⋅y₁ - x₁⋅y₂ - x₂⋅y₁ + x₂⋅y₂         ⎥\n",
       "⎢                                             ⎥\n",
       "⎢     -f₀₀⋅x₂ + f₀₁⋅x₂ + f₁₀⋅x₁ - f₁₁⋅x₁      ⎥\n",
       "⎢     ──────────────────────────────────      ⎥\n",
       "⎢       x₁⋅y₁ - x₁⋅y₂ - x₂⋅y₁ + x₂⋅y₂         ⎥\n",
       "⎢                                             ⎥\n",
       "⎢            f₀₀ - f₀₁ - f₁₀ + f₁₁            ⎥\n",
       "⎢        ─────────────────────────────        ⎥\n",
       "⎣        x₁⋅y₁ - x₁⋅y₂ - x₂⋅y₁ + x₂⋅y₂        ⎦"
      ]
     },
     "execution_count": 27,
     "metadata": {},
     "output_type": "execute_result"
    }
   ],
   "source": [
    "x1, x2 = symbols('x_1 x_2')\n",
    "y1, y2 = symbols('y_1 y_2')\n",
    "\n",
    "f00, f01, f10, f11 = symbols('f_00 f_01 f_10 f_11')\n",
    "\n",
    "M = Matrix([\n",
    "    [1, x1, y1, x1*y1],\n",
    "    [1, x1, y2, x1*y2],\n",
    "    [1, x2, y1, x2*y1],\n",
    "    [1, x2, y2, x2*y2]\n",
    "])\n",
    "b = Matrix([f00, f01, f10, f11])\n",
    "M.solve(b)"
   ]
  },
  {
   "cell_type": "markdown",
   "id": "186be700-e41d-41c5-9c93-b4f82cc1ddc4",
   "metadata": {
    "tags": []
   },
   "source": [
    "## Symbolic vs. Numeric Matrices"
   ]
  },
  {
   "cell_type": "markdown",
   "id": "349818c7-f456-4d1a-8c7a-d87f6c9730a2",
   "metadata": {},
   "source": [
    "It is important to note that SymPy matrices are designed to work with **symbolic** matrices. Matrix entries should be exact numbers and symbolic function:"
   ]
  },
  {
   "cell_type": "code",
   "execution_count": 28,
   "id": "2974448b-3f61-4ddb-8836-0d8dbc9d65bb",
   "metadata": {
    "tags": []
   },
   "outputs": [
    {
     "data": {
      "image/png": "[encoded data removed]",
      "text/latex": [
       "$\\displaystyle \\left[\\begin{matrix}1 & \\sin{\\left(x \\right)}\\\\- x^{2} & 0\\end{matrix}\\right]$"
      ],
      "text/plain": [
       "⎡ 1   sin(x)⎤\n",
       "⎢           ⎥\n",
       "⎢  2        ⎥\n",
       "⎣-x     0   ⎦"
      ]
     },
     "execution_count": 28,
     "metadata": {},
     "output_type": "execute_result"
    }
   ],
   "source": [
    "Matrix([[1, sin(x)], [-x**2, 0]])"
   ]
  },
  {
   "cell_type": "markdown",
   "id": "1393d64a-e45e-4bf5-a10c-3437390629fa",
   "metadata": {},
   "source": [
    "What this means is that SymPy always tries to compute things exactly.\n",
    "\n",
    "Calculations like eigenvalues, can get very complicated.\n",
    "\n",
    "For example, the following eigenvalues of `3*3` matrix is very complicated\n",
    "because it needs to solve the cubic equations completely."
   ]
  },
  {
   "cell_type": "code",
   "execution_count": 29,
   "id": "3d30e1c1-ff17-4375-ac20-8842911a8d4e",
   "metadata": {
    "tags": []
   },
   "outputs": [],
   "source": [
    "M = Matrix([[2, -1, 3], [1, 2, 0], [0, 1, 2]])"
   ]
  },
  {
   "cell_type": "code",
   "execution_count": 30,
   "id": "a23c2e0a-a151-41e4-8976-2418df8d009c",
   "metadata": {
    "tags": []
   },
   "outputs": [
    {
     "data": {
      "image/png": "[encoded data removed]",
      "text/latex": [
       "$\\displaystyle \\left\\{ 2 + \\left(- \\frac{1}{2} - \\frac{\\sqrt{3} i}{2}\\right) \\sqrt[3]{\\frac{3}{2} + \\frac{\\sqrt{741}}{18}} - \\frac{1}{3 \\left(- \\frac{1}{2} - \\frac{\\sqrt{3} i}{2}\\right) \\sqrt[3]{\\frac{3}{2} + \\frac{\\sqrt{741}}{18}}} : 1, \\  2 - \\frac{1}{3 \\left(- \\frac{1}{2} + \\frac{\\sqrt{3} i}{2}\\right) \\sqrt[3]{\\frac{3}{2} + \\frac{\\sqrt{741}}{18}}} + \\left(- \\frac{1}{2} + \\frac{\\sqrt{3} i}{2}\\right) \\sqrt[3]{\\frac{3}{2} + \\frac{\\sqrt{741}}{18}} : 1, \\  - \\frac{1}{3 \\sqrt[3]{\\frac{3}{2} + \\frac{\\sqrt{741}}{18}}} + \\sqrt[3]{\\frac{3}{2} + \\frac{\\sqrt{741}}{18}} + 2 : 1\\right\\}$"
      ],
      "text/plain": [
       "⎧                     __________                                                                                          __________                              _____\n",
       "⎪    ⎛  1   √3⋅ⅈ⎞    ╱ 3   √741                  1                                     1                 ⎛  1   √3⋅ⅈ⎞    ╱ 3   √741               1              ╱ 3   \n",
       "⎪2 + ⎜- ─ - ────⎟⋅3 ╱  ─ + ────  - ─────────────────────────────: 1, 2 - ───────────────────────────── + ⎜- ─ + ────⎟⋅3 ╱  ─ + ──── : 1, - ──────────────── + 3 ╱  ─ + \n",
       "⎨    ⎝  2    2  ⎠ ╲╱   2    18                        __________                            __________   ⎝  2    2  ⎠ ╲╱   2    18               __________   ╲╱   2   \n",
       "⎪                                    ⎛  1   √3⋅ⅈ⎞    ╱ 3   √741            ⎛  1   √3⋅ⅈ⎞    ╱ 3   √741                                           ╱ 3   √741             \n",
       "⎪                                  3⋅⎜- ─ - ────⎟⋅3 ╱  ─ + ────          3⋅⎜- ─ + ────⎟⋅3 ╱  ─ + ────                                      3⋅3 ╱  ─ + ────             \n",
       "⎩                                    ⎝  2    2  ⎠ ╲╱   2    18             ⎝  2    2  ⎠ ╲╱   2    18                                         ╲╱   2    18              \n",
       "\n",
       "_____       ⎫\n",
       "√741        ⎪\n",
       "────  + 2: 1⎪\n",
       " 18         ⎬\n",
       "            ⎪\n",
       "            ⎪\n",
       "            ⎭"
      ]
     },
     "execution_count": 30,
     "metadata": {},
     "output_type": "execute_result"
    }
   ],
   "source": [
    "M.eigenvals()"
   ]
  },
  {
   "cell_type": "markdown",
   "id": "ca01eea6-2e8f-4fa9-b73d-eb7d43d7deb8",
   "metadata": {},
   "source": [
    "If this is not what you want, and you want decimal results that are more compact\n",
    "\n",
    "you are much better of using a numerical library like `numpy.linalg`."
   ]
  },
  {
   "cell_type": "code",
   "execution_count": 31,
   "id": "2d362eec-1641-479e-89df-bb60fc7dafd9",
   "metadata": {
    "tags": []
   },
   "outputs": [
    {
     "data": {
      "text/plain": [
       "array([1.39329417+1.45061225j, 1.39329417-1.45061225j,\n",
       "       3.21341166+0.j        ])"
      ]
     },
     "execution_count": 31,
     "metadata": {},
     "output_type": "execute_result"
    }
   ],
   "source": [
    "import numpy as np\n",
    "\n",
    "m = np.asarray(M, dtype=float)\n",
    "np.linalg.eigvals(m)"
   ]
  },
  {
   "cell_type": "markdown",
   "id": "d7b83a85-ab1a-4ca1-a6c7-a4282047f5d3",
   "metadata": {},
   "source": [
    "However, if you want to 'count' the eigenvalues\n",
    "\n",
    "getting the algebraically correct result is important."
   ]
  },
  {
   "cell_type": "code",
   "execution_count": 32,
   "id": "494bbf84-5c09-43ef-ba59-590d44326d2b",
   "metadata": {},
   "outputs": [
    {
     "data": {
      "image/png": "[encoded data removed]",
      "text/latex": [
       "$\\displaystyle \\left[ \\left( 2, \\  2, \\  \\left[ \\left[\\begin{matrix}-1\\\\1\\\\0\\end{matrix}\\right], \\  \\left[\\begin{matrix}\\frac{1}{2}\\\\0\\\\1\\end{matrix}\\right]\\right]\\right), \\  \\left( 4, \\  1, \\  \\left[ \\left[\\begin{matrix}0\\\\0\\\\1\\end{matrix}\\right]\\right]\\right)\\right]$"
      ],
      "text/plain": [
       "⎡⎛      ⎡⎡-1⎤  ⎡1/2⎤⎤⎞  ⎛      ⎡⎡0⎤⎤⎞⎤\n",
       "⎢⎜      ⎢⎢  ⎥  ⎢   ⎥⎥⎟  ⎜      ⎢⎢ ⎥⎥⎟⎥\n",
       "⎢⎜2, 2, ⎢⎢1 ⎥, ⎢ 0 ⎥⎥⎟, ⎜4, 1, ⎢⎢0⎥⎥⎟⎥\n",
       "⎢⎜      ⎢⎢  ⎥  ⎢   ⎥⎥⎟  ⎜      ⎢⎢ ⎥⎥⎟⎥\n",
       "⎣⎝      ⎣⎣0 ⎦  ⎣ 1 ⎦⎦⎠  ⎝      ⎣⎣1⎦⎦⎠⎦"
      ]
     },
     "execution_count": 32,
     "metadata": {},
     "output_type": "execute_result"
    }
   ],
   "source": [
    "M_float = Matrix([[2, 0, 0], [0, 2, 0], [-4, -4, 4]])\n",
    "M_float.eigenvects()"
   ]
  },
  {
   "cell_type": "code",
   "execution_count": 33,
   "id": "920374d1-cea0-4d9b-8bc5-af2aa5857250",
   "metadata": {
    "tags": []
   },
   "outputs": [
    {
     "data": {
      "image/png": "[encoded data removed]",
      "text/latex": [
       "$\\displaystyle \\left[ \\left( 2.0, \\  1, \\  \\left[ \\left[\\begin{matrix}-0.447213595499958\\\\-6.83680877694706 \\cdot 10^{-64}\\\\-0.894427190999916\\end{matrix}\\right]\\right]\\right), \\  \\left( 2.0, \\  1, \\  \\left[ \\left[\\begin{matrix}-0.645975193499939\\\\0.248451997499977\\\\-0.795046391999925\\end{matrix}\\right]\\right]\\right), \\  \\left( 4.0, \\  1, \\  \\left[ \\left[\\begin{matrix}-1.01969458594341 \\cdot 10^{-64}\\\\-1.17377966879167 \\cdot 10^{-64}\\\\1.0\\end{matrix}\\right]\\right]\\right)\\right]$"
      ],
      "text/plain": [
       "⎡⎛        ⎡⎡ -0.447213595499958  ⎤⎤⎞  ⎛        ⎡⎡-0.645975193499939⎤⎤⎞  ⎛        ⎡⎡-1.01969458594341e-64⎤⎤⎞⎤\n",
       "⎢⎜        ⎢⎢                     ⎥⎥⎟  ⎜        ⎢⎢                  ⎥⎥⎟  ⎜        ⎢⎢                     ⎥⎥⎟⎥\n",
       "⎢⎜2.0, 1, ⎢⎢-6.83680877694706e-64⎥⎥⎟, ⎜2.0, 1, ⎢⎢0.248451997499977 ⎥⎥⎟, ⎜4.0, 1, ⎢⎢-1.17377966879167e-64⎥⎥⎟⎥\n",
       "⎢⎜        ⎢⎢                     ⎥⎥⎟  ⎜        ⎢⎢                  ⎥⎥⎟  ⎜        ⎢⎢                     ⎥⎥⎟⎥\n",
       "⎣⎝        ⎣⎣ -0.894427190999916  ⎦⎦⎠  ⎝        ⎣⎣-0.795046391999925⎦⎦⎠  ⎝        ⎣⎣         1.0         ⎦⎦⎠⎦"
      ]
     },
     "execution_count": 33,
     "metadata": {},
     "output_type": "execute_result"
    }
   ],
   "source": [
    "M_float = Matrix([[2.0, 0.0, 0.0], [0.0, 2.0, 0.0], [-4.0, -4.0, 4.0]])\n",
    "M_float.eigenvects()"
   ]
  },
  {
   "cell_type": "markdown",
   "id": "7b5f4d66-774e-4f3f-9fec-34a7741f9d9f",
   "metadata": {},
   "source": [
    "In this case, the `2.0` eigenvalue is not listed as repeated. \n",
    "\n",
    "This is because two eigenvalues are slightly different in floating points.\n",
    "\n",
    "And you can't easily 'count' such results."
   ]
  },
  {
   "cell_type": "markdown",
   "id": "d12bfba3-2955-4dea-b37a-c44e559f44a6",
   "metadata": {},
   "source": [
    "### Large matrices"
   ]
  },
  {
   "cell_type": "markdown",
   "id": "c2909a74-e4fd-49b1-b7e0-739e401ae95c",
   "metadata": {
    "tags": []
   },
   "source": [
    "You should also be aware that SymPy's matrix algorithms are designed for small sized matrices\n",
    "\n",
    "These algorithms do not behave as same as fast linear algebra library like LAPACK,\n",
    "\n",
    "which can operate on large matrix like 1000*1000.\n",
    "\n",
    "In SymPy, even for smaller sized matrix, the result can get very complicated or slow:"
   ]
  },
  {
   "cell_type": "code",
   "execution_count": 34,
   "id": "6f07ce7c-7852-48a8-93a2-c711443cec72",
   "metadata": {
    "tags": []
   },
   "outputs": [
    {
     "data": {
      "image/png": "[encoded data removed]",
      "text/latex": [
       "$\\displaystyle \\left[\\begin{matrix}A_{(0, 0)} & A_{(0, 1)} & A_{(0, 2)} & A_{(0, 3)} & A_{(0, 4)}\\\\A_{(1, 0)} & A_{(1, 1)} & A_{(1, 2)} & A_{(1, 3)} & A_{(1, 4)}\\\\A_{(2, 0)} & A_{(2, 1)} & A_{(2, 2)} & A_{(2, 3)} & A_{(2, 4)}\\\\A_{(3, 0)} & A_{(3, 1)} & A_{(3, 2)} & A_{(3, 3)} & A_{(3, 4)}\\\\A_{(4, 0)} & A_{(4, 1)} & A_{(4, 2)} & A_{(4, 3)} & A_{(4, 4)}\\end{matrix}\\right]$"
      ],
      "text/plain": [
       "⎡A_(0, 0)  A_(0, 1)  A_(0, 2)  A_(0, 3)  A_(0, 4)⎤\n",
       "⎢                                                ⎥\n",
       "⎢A_(1, 0)  A_(1, 1)  A_(1, 2)  A_(1, 3)  A_(1, 4)⎥\n",
       "⎢                                                ⎥\n",
       "⎢A_(2, 0)  A_(2, 1)  A_(2, 2)  A_(2, 3)  A_(2, 4)⎥\n",
       "⎢                                                ⎥\n",
       "⎢A_(3, 0)  A_(3, 1)  A_(3, 2)  A_(3, 3)  A_(3, 4)⎥\n",
       "⎢                                                ⎥\n",
       "⎣A_(4, 0)  A_(4, 1)  A_(4, 2)  A_(4, 3)  A_(4, 4)⎦"
      ]
     },
     "execution_count": 34,
     "metadata": {},
     "output_type": "execute_result"
    }
   ],
   "source": [
    "A = Matrix(5, 5, lambda i, j: Symbol(f\"A_{i,j}\"))\n",
    "A"
   ]
  },
  {
   "cell_type": "code",
   "execution_count": 35,
   "id": "b0f416f3-f642-4fe2-b5c9-06fedcdb6264",
   "metadata": {
    "tags": []
   },
   "outputs": [
    {
     "data": {
      "image/png": "[encoded data removed]",
      "text/latex": [
       "$\\displaystyle A_{(0, 0)} A_{(1, 1)} A_{(2, 2)} A_{(3, 3)} A_{(4, 4)} - A_{(0, 0)} A_{(1, 1)} A_{(2, 2)} A_{(3, 4)} A_{(4, 3)} - A_{(0, 0)} A_{(1, 1)} A_{(2, 3)} A_{(3, 2)} A_{(4, 4)} + A_{(0, 0)} A_{(1, 1)} A_{(2, 3)} A_{(3, 4)} A_{(4, 2)} + A_{(0, 0)} A_{(1, 1)} A_{(2, 4)} A_{(3, 2)} A_{(4, 3)} - A_{(0, 0)} A_{(1, 1)} A_{(2, 4)} A_{(3, 3)} A_{(4, 2)} - A_{(0, 0)} A_{(1, 2)} A_{(2, 1)} A_{(3, 3)} A_{(4, 4)} + A_{(0, 0)} A_{(1, 2)} A_{(2, 1)} A_{(3, 4)} A_{(4, 3)} + A_{(0, 0)} A_{(1, 2)} A_{(2, 3)} A_{(3, 1)} A_{(4, 4)} - A_{(0, 0)} A_{(1, 2)} A_{(2, 3)} A_{(3, 4)} A_{(4, 1)} - A_{(0, 0)} A_{(1, 2)} A_{(2, 4)} A_{(3, 1)} A_{(4, 3)} + A_{(0, 0)} A_{(1, 2)} A_{(2, 4)} A_{(3, 3)} A_{(4, 1)} + A_{(0, 0)} A_{(1, 3)} A_{(2, 1)} A_{(3, 2)} A_{(4, 4)} - A_{(0, 0)} A_{(1, 3)} A_{(2, 1)} A_{(3, 4)} A_{(4, 2)} - A_{(0, 0)} A_{(1, 3)} A_{(2, 2)} A_{(3, 1)} A_{(4, 4)} + A_{(0, 0)} A_{(1, 3)} A_{(2, 2)} A_{(3, 4)} A_{(4, 1)} + A_{(0, 0)} A_{(1, 3)} A_{(2, 4)} A_{(3, 1)} A_{(4, 2)} - A_{(0, 0)} A_{(1, 3)} A_{(2, 4)} A_{(3, 2)} A_{(4, 1)} - A_{(0, 0)} A_{(1, 4)} A_{(2, 1)} A_{(3, 2)} A_{(4, 3)} + A_{(0, 0)} A_{(1, 4)} A_{(2, 1)} A_{(3, 3)} A_{(4, 2)} + A_{(0, 0)} A_{(1, 4)} A_{(2, 2)} A_{(3, 1)} A_{(4, 3)} - A_{(0, 0)} A_{(1, 4)} A_{(2, 2)} A_{(3, 3)} A_{(4, 1)} - A_{(0, 0)} A_{(1, 4)} A_{(2, 3)} A_{(3, 1)} A_{(4, 2)} + A_{(0, 0)} A_{(1, 4)} A_{(2, 3)} A_{(3, 2)} A_{(4, 1)} - A_{(0, 1)} A_{(1, 0)} A_{(2, 2)} A_{(3, 3)} A_{(4, 4)} + A_{(0, 1)} A_{(1, 0)} A_{(2, 2)} A_{(3, 4)} A_{(4, 3)} + A_{(0, 1)} A_{(1, 0)} A_{(2, 3)} A_{(3, 2)} A_{(4, 4)} - A_{(0, 1)} A_{(1, 0)} A_{(2, 3)} A_{(3, 4)} A_{(4, 2)} - A_{(0, 1)} A_{(1, 0)} A_{(2, 4)} A_{(3, 2)} A_{(4, 3)} + A_{(0, 1)} A_{(1, 0)} A_{(2, 4)} A_{(3, 3)} A_{(4, 2)} + A_{(0, 1)} A_{(1, 2)} A_{(2, 0)} A_{(3, 3)} A_{(4, 4)} - A_{(0, 1)} A_{(1, 2)} A_{(2, 0)} A_{(3, 4)} A_{(4, 3)} - A_{(0, 1)} A_{(1, 2)} A_{(2, 3)} A_{(3, 0)} A_{(4, 4)} + A_{(0, 1)} A_{(1, 2)} A_{(2, 3)} A_{(3, 4)} A_{(4, 0)} + A_{(0, 1)} A_{(1, 2)} A_{(2, 4)} A_{(3, 0)} A_{(4, 3)} - A_{(0, 1)} A_{(1, 2)} A_{(2, 4)} A_{(3, 3)} A_{(4, 0)} - A_{(0, 1)} A_{(1, 3)} A_{(2, 0)} A_{(3, 2)} A_{(4, 4)} + A_{(0, 1)} A_{(1, 3)} A_{(2, 0)} A_{(3, 4)} A_{(4, 2)} + A_{(0, 1)} A_{(1, 3)} A_{(2, 2)} A_{(3, 0)} A_{(4, 4)} - A_{(0, 1)} A_{(1, 3)} A_{(2, 2)} A_{(3, 4)} A_{(4, 0)} - A_{(0, 1)} A_{(1, 3)} A_{(2, 4)} A_{(3, 0)} A_{(4, 2)} + A_{(0, 1)} A_{(1, 3)} A_{(2, 4)} A_{(3, 2)} A_{(4, 0)} + A_{(0, 1)} A_{(1, 4)} A_{(2, 0)} A_{(3, 2)} A_{(4, 3)} - A_{(0, 1)} A_{(1, 4)} A_{(2, 0)} A_{(3, 3)} A_{(4, 2)} - A_{(0, 1)} A_{(1, 4)} A_{(2, 2)} A_{(3, 0)} A_{(4, 3)} + A_{(0, 1)} A_{(1, 4)} A_{(2, 2)} A_{(3, 3)} A_{(4, 0)} + A_{(0, 1)} A_{(1, 4)} A_{(2, 3)} A_{(3, 0)} A_{(4, 2)} - A_{(0, 1)} A_{(1, 4)} A_{(2, 3)} A_{(3, 2)} A_{(4, 0)} + A_{(0, 2)} A_{(1, 0)} A_{(2, 1)} A_{(3, 3)} A_{(4, 4)} - A_{(0, 2)} A_{(1, 0)} A_{(2, 1)} A_{(3, 4)} A_{(4, 3)} - A_{(0, 2)} A_{(1, 0)} A_{(2, 3)} A_{(3, 1)} A_{(4, 4)} + A_{(0, 2)} A_{(1, 0)} A_{(2, 3)} A_{(3, 4)} A_{(4, 1)} + A_{(0, 2)} A_{(1, 0)} A_{(2, 4)} A_{(3, 1)} A_{(4, 3)} - A_{(0, 2)} A_{(1, 0)} A_{(2, 4)} A_{(3, 3)} A_{(4, 1)} - A_{(0, 2)} A_{(1, 1)} A_{(2, 0)} A_{(3, 3)} A_{(4, 4)} + A_{(0, 2)} A_{(1, 1)} A_{(2, 0)} A_{(3, 4)} A_{(4, 3)} + A_{(0, 2)} A_{(1, 1)} A_{(2, 3)} A_{(3, 0)} A_{(4, 4)} - A_{(0, 2)} A_{(1, 1)} A_{(2, 3)} A_{(3, 4)} A_{(4, 0)} - A_{(0, 2)} A_{(1, 1)} A_{(2, 4)} A_{(3, 0)} A_{(4, 3)} + A_{(0, 2)} A_{(1, 1)} A_{(2, 4)} A_{(3, 3)} A_{(4, 0)} + A_{(0, 2)} A_{(1, 3)} A_{(2, 0)} A_{(3, 1)} A_{(4, 4)} - A_{(0, 2)} A_{(1, 3)} A_{(2, 0)} A_{(3, 4)} A_{(4, 1)} - A_{(0, 2)} A_{(1, 3)} A_{(2, 1)} A_{(3, 0)} A_{(4, 4)} + A_{(0, 2)} A_{(1, 3)} A_{(2, 1)} A_{(3, 4)} A_{(4, 0)} + A_{(0, 2)} A_{(1, 3)} A_{(2, 4)} A_{(3, 0)} A_{(4, 1)} - A_{(0, 2)} A_{(1, 3)} A_{(2, 4)} A_{(3, 1)} A_{(4, 0)} - A_{(0, 2)} A_{(1, 4)} A_{(2, 0)} A_{(3, 1)} A_{(4, 3)} + A_{(0, 2)} A_{(1, 4)} A_{(2, 0)} A_{(3, 3)} A_{(4, 1)} + A_{(0, 2)} A_{(1, 4)} A_{(2, 1)} A_{(3, 0)} A_{(4, 3)} - A_{(0, 2)} A_{(1, 4)} A_{(2, 1)} A_{(3, 3)} A_{(4, 0)} - A_{(0, 2)} A_{(1, 4)} A_{(2, 3)} A_{(3, 0)} A_{(4, 1)} + A_{(0, 2)} A_{(1, 4)} A_{(2, 3)} A_{(3, 1)} A_{(4, 0)} - A_{(0, 3)} A_{(1, 0)} A_{(2, 1)} A_{(3, 2)} A_{(4, 4)} + A_{(0, 3)} A_{(1, 0)} A_{(2, 1)} A_{(3, 4)} A_{(4, 2)} + A_{(0, 3)} A_{(1, 0)} A_{(2, 2)} A_{(3, 1)} A_{(4, 4)} - A_{(0, 3)} A_{(1, 0)} A_{(2, 2)} A_{(3, 4)} A_{(4, 1)} - A_{(0, 3)} A_{(1, 0)} A_{(2, 4)} A_{(3, 1)} A_{(4, 2)} + A_{(0, 3)} A_{(1, 0)} A_{(2, 4)} A_{(3, 2)} A_{(4, 1)} + A_{(0, 3)} A_{(1, 1)} A_{(2, 0)} A_{(3, 2)} A_{(4, 4)} - A_{(0, 3)} A_{(1, 1)} A_{(2, 0)} A_{(3, 4)} A_{(4, 2)} - A_{(0, 3)} A_{(1, 1)} A_{(2, 2)} A_{(3, 0)} A_{(4, 4)} + A_{(0, 3)} A_{(1, 1)} A_{(2, 2)} A_{(3, 4)} A_{(4, 0)} + A_{(0, 3)} A_{(1, 1)} A_{(2, 4)} A_{(3, 0)} A_{(4, 2)} - A_{(0, 3)} A_{(1, 1)} A_{(2, 4)} A_{(3, 2)} A_{(4, 0)} - A_{(0, 3)} A_{(1, 2)} A_{(2, 0)} A_{(3, 1)} A_{(4, 4)} + A_{(0, 3)} A_{(1, 2)} A_{(2, 0)} A_{(3, 4)} A_{(4, 1)} + A_{(0, 3)} A_{(1, 2)} A_{(2, 1)} A_{(3, 0)} A_{(4, 4)} - A_{(0, 3)} A_{(1, 2)} A_{(2, 1)} A_{(3, 4)} A_{(4, 0)} - A_{(0, 3)} A_{(1, 2)} A_{(2, 4)} A_{(3, 0)} A_{(4, 1)} + A_{(0, 3)} A_{(1, 2)} A_{(2, 4)} A_{(3, 1)} A_{(4, 0)} + A_{(0, 3)} A_{(1, 4)} A_{(2, 0)} A_{(3, 1)} A_{(4, 2)} - A_{(0, 3)} A_{(1, 4)} A_{(2, 0)} A_{(3, 2)} A_{(4, 1)} - A_{(0, 3)} A_{(1, 4)} A_{(2, 1)} A_{(3, 0)} A_{(4, 2)} + A_{(0, 3)} A_{(1, 4)} A_{(2, 1)} A_{(3, 2)} A_{(4, 0)} + A_{(0, 3)} A_{(1, 4)} A_{(2, 2)} A_{(3, 0)} A_{(4, 1)} - A_{(0, 3)} A_{(1, 4)} A_{(2, 2)} A_{(3, 1)} A_{(4, 0)} + A_{(0, 4)} A_{(1, 0)} A_{(2, 1)} A_{(3, 2)} A_{(4, 3)} - A_{(0, 4)} A_{(1, 0)} A_{(2, 1)} A_{(3, 3)} A_{(4, 2)} - A_{(0, 4)} A_{(1, 0)} A_{(2, 2)} A_{(3, 1)} A_{(4, 3)} + A_{(0, 4)} A_{(1, 0)} A_{(2, 2)} A_{(3, 3)} A_{(4, 1)} + A_{(0, 4)} A_{(1, 0)} A_{(2, 3)} A_{(3, 1)} A_{(4, 2)} - A_{(0, 4)} A_{(1, 0)} A_{(2, 3)} A_{(3, 2)} A_{(4, 1)} - A_{(0, 4)} A_{(1, 1)} A_{(2, 0)} A_{(3, 2)} A_{(4, 3)} + A_{(0, 4)} A_{(1, 1)} A_{(2, 0)} A_{(3, 3)} A_{(4, 2)} + A_{(0, 4)} A_{(1, 1)} A_{(2, 2)} A_{(3, 0)} A_{(4, 3)} - A_{(0, 4)} A_{(1, 1)} A_{(2, 2)} A_{(3, 3)} A_{(4, 0)} - A_{(0, 4)} A_{(1, 1)} A_{(2, 3)} A_{(3, 0)} A_{(4, 2)} + A_{(0, 4)} A_{(1, 1)} A_{(2, 3)} A_{(3, 2)} A_{(4, 0)} + A_{(0, 4)} A_{(1, 2)} A_{(2, 0)} A_{(3, 1)} A_{(4, 3)} - A_{(0, 4)} A_{(1, 2)} A_{(2, 0)} A_{(3, 3)} A_{(4, 1)} - A_{(0, 4)} A_{(1, 2)} A_{(2, 1)} A_{(3, 0)} A_{(4, 3)} + A_{(0, 4)} A_{(1, 2)} A_{(2, 1)} A_{(3, 3)} A_{(4, 0)} + A_{(0, 4)} A_{(1, 2)} A_{(2, 3)} A_{(3, 0)} A_{(4, 1)} - A_{(0, 4)} A_{(1, 2)} A_{(2, 3)} A_{(3, 1)} A_{(4, 0)} - A_{(0, 4)} A_{(1, 3)} A_{(2, 0)} A_{(3, 1)} A_{(4, 2)} + A_{(0, 4)} A_{(1, 3)} A_{(2, 0)} A_{(3, 2)} A_{(4, 1)} + A_{(0, 4)} A_{(1, 3)} A_{(2, 1)} A_{(3, 0)} A_{(4, 2)} - A_{(0, 4)} A_{(1, 3)} A_{(2, 1)} A_{(3, 2)} A_{(4, 0)} - A_{(0, 4)} A_{(1, 3)} A_{(2, 2)} A_{(3, 0)} A_{(4, 1)} + A_{(0, 4)} A_{(1, 3)} A_{(2, 2)} A_{(3, 1)} A_{(4, 0)}$"
      ],
      "text/plain": [
       "A_(0, 0)⋅A_(1, 1)⋅A_(2, 2)⋅A_(3, 3)⋅A_(4, 4) - A_(0, 0)⋅A_(1, 1)⋅A_(2, 2)⋅A_(3, 4)⋅A_(4, 3) - A_(0, 0)⋅A_(1, 1)⋅A_(2, 3)⋅A_(3, 2)⋅A_(4, 4) + A_(0, 0)⋅A_(1, 1)⋅A_(2, 3)\n",
       "⋅A_(3, 4)⋅A_(4, 2) + A_(0, 0)⋅A_(1, 1)⋅A_(2, 4)⋅A_(3, 2)⋅A_(4, 3) - A_(0, 0)⋅A_(1, 1)⋅A_(2, 4)⋅A_(3, 3)⋅A_(4, 2) - A_(0, 0)⋅A_(1, 2)⋅A_(2, 1)⋅A_(3, 3)⋅A_(4, 4) + A_(0,\n",
       " 0)⋅A_(1, 2)⋅A_(2, 1)⋅A_(3, 4)⋅A_(4, 3) + A_(0, 0)⋅A_(1, 2)⋅A_(2, 3)⋅A_(3, 1)⋅A_(4, 4) - A_(0, 0)⋅A_(1, 2)⋅A_(2, 3)⋅A_(3, 4)⋅A_(4, 1) - A_(0, 0)⋅A_(1, 2)⋅A_(2, 4)⋅A_(3\n",
       ", 1)⋅A_(4, 3) + A_(0, 0)⋅A_(1, 2)⋅A_(2, 4)⋅A_(3, 3)⋅A_(4, 1) + A_(0, 0)⋅A_(1, 3)⋅A_(2, 1)⋅A_(3, 2)⋅A_(4, 4) - A_(0, 0)⋅A_(1, 3)⋅A_(2, 1)⋅A_(3, 4)⋅A_(4, 2) - A_(0, 0)⋅A\n",
       "_(1, 3)⋅A_(2, 2)⋅A_(3, 1)⋅A_(4, 4) + A_(0, 0)⋅A_(1, 3)⋅A_(2, 2)⋅A_(3, 4)⋅A_(4, 1) + A_(0, 0)⋅A_(1, 3)⋅A_(2, 4)⋅A_(3, 1)⋅A_(4, 2) - A_(0, 0)⋅A_(1, 3)⋅A_(2, 4)⋅A_(3, 2)⋅\n",
       "A_(4, 1) - A_(0, 0)⋅A_(1, 4)⋅A_(2, 1)⋅A_(3, 2)⋅A_(4, 3) + A_(0, 0)⋅A_(1, 4)⋅A_(2, 1)⋅A_(3, 3)⋅A_(4, 2) + A_(0, 0)⋅A_(1, 4)⋅A_(2, 2)⋅A_(3, 1)⋅A_(4, 3) - A_(0, 0)⋅A_(1, \n",
       "4)⋅A_(2, 2)⋅A_(3, 3)⋅A_(4, 1) - A_(0, 0)⋅A_(1, 4)⋅A_(2, 3)⋅A_(3, 1)⋅A_(4, 2) + A_(0, 0)⋅A_(1, 4)⋅A_(2, 3)⋅A_(3, 2)⋅A_(4, 1) - A_(0, 1)⋅A_(1, 0)⋅A_(2, 2)⋅A_(3, 3)⋅A_(4,\n",
       " 4) + A_(0, 1)⋅A_(1, 0)⋅A_(2, 2)⋅A_(3, 4)⋅A_(4, 3) + A_(0, 1)⋅A_(1, 0)⋅A_(2, 3)⋅A_(3, 2)⋅A_(4, 4) - A_(0, 1)⋅A_(1, 0)⋅A_(2, 3)⋅A_(3, 4)⋅A_(4, 2) - A_(0, 1)⋅A_(1, 0)⋅A_\n",
       "(2, 4)⋅A_(3, 2)⋅A_(4, 3) + A_(0, 1)⋅A_(1, 0)⋅A_(2, 4)⋅A_(3, 3)⋅A_(4, 2) + A_(0, 1)⋅A_(1, 2)⋅A_(2, 0)⋅A_(3, 3)⋅A_(4, 4) - A_(0, 1)⋅A_(1, 2)⋅A_(2, 0)⋅A_(3, 4)⋅A_(4, 3) -\n",
       " A_(0, 1)⋅A_(1, 2)⋅A_(2, 3)⋅A_(3, 0)⋅A_(4, 4) + A_(0, 1)⋅A_(1, 2)⋅A_(2, 3)⋅A_(3, 4)⋅A_(4, 0) + A_(0, 1)⋅A_(1, 2)⋅A_(2, 4)⋅A_(3, 0)⋅A_(4, 3) - A_(0, 1)⋅A_(1, 2)⋅A_(2, 4\n",
       ")⋅A_(3, 3)⋅A_(4, 0) - A_(0, 1)⋅A_(1, 3)⋅A_(2, 0)⋅A_(3, 2)⋅A_(4, 4) + A_(0, 1)⋅A_(1, 3)⋅A_(2, 0)⋅A_(3, 4)⋅A_(4, 2) + A_(0, 1)⋅A_(1, 3)⋅A_(2, 2)⋅A_(3, 0)⋅A_(4, 4) - A_(0\n",
       ", 1)⋅A_(1, 3)⋅A_(2, 2)⋅A_(3, 4)⋅A_(4, 0) - A_(0, 1)⋅A_(1, 3)⋅A_(2, 4)⋅A_(3, 0)⋅A_(4, 2) + A_(0, 1)⋅A_(1, 3)⋅A_(2, 4)⋅A_(3, 2)⋅A_(4, 0) + A_(0, 1)⋅A_(1, 4)⋅A_(2, 0)⋅A_(\n",
       "3, 2)⋅A_(4, 3) - A_(0, 1)⋅A_(1, 4)⋅A_(2, 0)⋅A_(3, 3)⋅A_(4, 2) - A_(0, 1)⋅A_(1, 4)⋅A_(2, 2)⋅A_(3, 0)⋅A_(4, 3) + A_(0, 1)⋅A_(1, 4)⋅A_(2, 2)⋅A_(3, 3)⋅A_(4, 0) + A_(0, 1)⋅\n",
       "A_(1, 4)⋅A_(2, 3)⋅A_(3, 0)⋅A_(4, 2) - A_(0, 1)⋅A_(1, 4)⋅A_(2, 3)⋅A_(3, 2)⋅A_(4, 0) + A_(0, 2)⋅A_(1, 0)⋅A_(2, 1)⋅A_(3, 3)⋅A_(4, 4) - A_(0, 2)⋅A_(1, 0)⋅A_(2, 1)⋅A_(3, 4)\n",
       "⋅A_(4, 3) - A_(0, 2)⋅A_(1, 0)⋅A_(2, 3)⋅A_(3, 1)⋅A_(4, 4) + A_(0, 2)⋅A_(1, 0)⋅A_(2, 3)⋅A_(3, 4)⋅A_(4, 1) + A_(0, 2)⋅A_(1, 0)⋅A_(2, 4)⋅A_(3, 1)⋅A_(4, 3) - A_(0, 2)⋅A_(1,\n",
       " 0)⋅A_(2, 4)⋅A_(3, 3)⋅A_(4, 1) - A_(0, 2)⋅A_(1, 1)⋅A_(2, 0)⋅A_(3, 3)⋅A_(4, 4) + A_(0, 2)⋅A_(1, 1)⋅A_(2, 0)⋅A_(3, 4)⋅A_(4, 3) + A_(0, 2)⋅A_(1, 1)⋅A_(2, 3)⋅A_(3, 0)⋅A_(4\n",
       ", 4) - A_(0, 2)⋅A_(1, 1)⋅A_(2, 3)⋅A_(3, 4)⋅A_(4, 0) - A_(0, 2)⋅A_(1, 1)⋅A_(2, 4)⋅A_(3, 0)⋅A_(4, 3) + A_(0, 2)⋅A_(1, 1)⋅A_(2, 4)⋅A_(3, 3)⋅A_(4, 0) + A_(0, 2)⋅A_(1, 3)⋅A\n",
       "_(2, 0)⋅A_(3, 1)⋅A_(4, 4) - A_(0, 2)⋅A_(1, 3)⋅A_(2, 0)⋅A_(3, 4)⋅A_(4, 1) - A_(0, 2)⋅A_(1, 3)⋅A_(2, 1)⋅A_(3, 0)⋅A_(4, 4) + A_(0, 2)⋅A_(1, 3)⋅A_(2, 1)⋅A_(3, 4)⋅A_(4, 0) \n",
       "+ A_(0, 2)⋅A_(1, 3)⋅A_(2, 4)⋅A_(3, 0)⋅A_(4, 1) - A_(0, 2)⋅A_(1, 3)⋅A_(2, 4)⋅A_(3, 1)⋅A_(4, 0) - A_(0, 2)⋅A_(1, 4)⋅A_(2, 0)⋅A_(3, 1)⋅A_(4, 3) + A_(0, 2)⋅A_(1, 4)⋅A_(2, \n",
       "0)⋅A_(3, 3)⋅A_(4, 1) + A_(0, 2)⋅A_(1, 4)⋅A_(2, 1)⋅A_(3, 0)⋅A_(4, 3) - A_(0, 2)⋅A_(1, 4)⋅A_(2, 1)⋅A_(3, 3)⋅A_(4, 0) - A_(0, 2)⋅A_(1, 4)⋅A_(2, 3)⋅A_(3, 0)⋅A_(4, 1) + A_(\n",
       "0, 2)⋅A_(1, 4)⋅A_(2, 3)⋅A_(3, 1)⋅A_(4, 0) - A_(0, 3)⋅A_(1, 0)⋅A_(2, 1)⋅A_(3, 2)⋅A_(4, 4) + A_(0, 3)⋅A_(1, 0)⋅A_(2, 1)⋅A_(3, 4)⋅A_(4, 2) + A_(0, 3)⋅A_(1, 0)⋅A_(2, 2)⋅A_\n",
       "(3, 1)⋅A_(4, 4) - A_(0, 3)⋅A_(1, 0)⋅A_(2, 2)⋅A_(3, 4)⋅A_(4, 1) - A_(0, 3)⋅A_(1, 0)⋅A_(2, 4)⋅A_(3, 1)⋅A_(4, 2) + A_(0, 3)⋅A_(1, 0)⋅A_(2, 4)⋅A_(3, 2)⋅A_(4, 1) + A_(0, 3)\n",
       "⋅A_(1, 1)⋅A_(2, 0)⋅A_(3, 2)⋅A_(4, 4) - A_(0, 3)⋅A_(1, 1)⋅A_(2, 0)⋅A_(3, 4)⋅A_(4, 2) - A_(0, 3)⋅A_(1, 1)⋅A_(2, 2)⋅A_(3, 0)⋅A_(4, 4) + A_(0, 3)⋅A_(1, 1)⋅A_(2, 2)⋅A_(3, 4\n",
       ")⋅A_(4, 0) + A_(0, 3)⋅A_(1, 1)⋅A_(2, 4)⋅A_(3, 0)⋅A_(4, 2) - A_(0, 3)⋅A_(1, 1)⋅A_(2, 4)⋅A_(3, 2)⋅A_(4, 0) - A_(0, 3)⋅A_(1, 2)⋅A_(2, 0)⋅A_(3, 1)⋅A_(4, 4) + A_(0, 3)⋅A_(1\n",
       ", 2)⋅A_(2, 0)⋅A_(3, 4)⋅A_(4, 1) + A_(0, 3)⋅A_(1, 2)⋅A_(2, 1)⋅A_(3, 0)⋅A_(4, 4) - A_(0, 3)⋅A_(1, 2)⋅A_(2, 1)⋅A_(3, 4)⋅A_(4, 0) - A_(0, 3)⋅A_(1, 2)⋅A_(2, 4)⋅A_(3, 0)⋅A_(\n",
       "4, 1) + A_(0, 3)⋅A_(1, 2)⋅A_(2, 4)⋅A_(3, 1)⋅A_(4, 0) + A_(0, 3)⋅A_(1, 4)⋅A_(2, 0)⋅A_(3, 1)⋅A_(4, 2) - A_(0, 3)⋅A_(1, 4)⋅A_(2, 0)⋅A_(3, 2)⋅A_(4, 1) - A_(0, 3)⋅A_(1, 4)⋅\n",
       "A_(2, 1)⋅A_(3, 0)⋅A_(4, 2) + A_(0, 3)⋅A_(1, 4)⋅A_(2, 1)⋅A_(3, 2)⋅A_(4, 0) + A_(0, 3)⋅A_(1, 4)⋅A_(2, 2)⋅A_(3, 0)⋅A_(4, 1) - A_(0, 3)⋅A_(1, 4)⋅A_(2, 2)⋅A_(3, 1)⋅A_(4, 0)\n",
       " + A_(0, 4)⋅A_(1, 0)⋅A_(2, 1)⋅A_(3, 2)⋅A_(4, 3) - A_(0, 4)⋅A_(1, 0)⋅A_(2, 1)⋅A_(3, 3)⋅A_(4, 2) - A_(0, 4)⋅A_(1, 0)⋅A_(2, 2)⋅A_(3, 1)⋅A_(4, 3) + A_(0, 4)⋅A_(1, 0)⋅A_(2,\n",
       " 2)⋅A_(3, 3)⋅A_(4, 1) + A_(0, 4)⋅A_(1, 0)⋅A_(2, 3)⋅A_(3, 1)⋅A_(4, 2) - A_(0, 4)⋅A_(1, 0)⋅A_(2, 3)⋅A_(3, 2)⋅A_(4, 1) - A_(0, 4)⋅A_(1, 1)⋅A_(2, 0)⋅A_(3, 2)⋅A_(4, 3) + A_\n",
       "(0, 4)⋅A_(1, 1)⋅A_(2, 0)⋅A_(3, 3)⋅A_(4, 2) + A_(0, 4)⋅A_(1, 1)⋅A_(2, 2)⋅A_(3, 0)⋅A_(4, 3) - A_(0, 4)⋅A_(1, 1)⋅A_(2, 2)⋅A_(3, 3)⋅A_(4, 0) - A_(0, 4)⋅A_(1, 1)⋅A_(2, 3)⋅A\n",
       "_(3, 0)⋅A_(4, 2) + A_(0, 4)⋅A_(1, 1)⋅A_(2, 3)⋅A_(3, 2)⋅A_(4, 0) + A_(0, 4)⋅A_(1, 2)⋅A_(2, 0)⋅A_(3, 1)⋅A_(4, 3) - A_(0, 4)⋅A_(1, 2)⋅A_(2, 0)⋅A_(3, 3)⋅A_(4, 1) - A_(0, 4\n",
       ")⋅A_(1, 2)⋅A_(2, 1)⋅A_(3, 0)⋅A_(4, 3) + A_(0, 4)⋅A_(1, 2)⋅A_(2, 1)⋅A_(3, 3)⋅A_(4, 0) + A_(0, 4)⋅A_(1, 2)⋅A_(2, 3)⋅A_(3, 0)⋅A_(4, 1) - A_(0, 4)⋅A_(1, 2)⋅A_(2, 3)⋅A_(3, \n",
       "1)⋅A_(4, 0) - A_(0, 4)⋅A_(1, 3)⋅A_(2, 0)⋅A_(3, 1)⋅A_(4, 2) + A_(0, 4)⋅A_(1, 3)⋅A_(2, 0)⋅A_(3, 2)⋅A_(4, 1) + A_(0, 4)⋅A_(1, 3)⋅A_(2, 1)⋅A_(3, 0)⋅A_(4, 2) - A_(0, 4)⋅A_(\n",
       "1, 3)⋅A_(2, 1)⋅A_(3, 2)⋅A_(4, 0) - A_(0, 4)⋅A_(1, 3)⋅A_(2, 2)⋅A_(3, 0)⋅A_(4, 1) + A_(0, 4)⋅A_(1, 3)⋅A_(2, 2)⋅A_(3, 1)⋅A_(4, 0)"
      ]
     },
     "execution_count": 35,
     "metadata": {},
     "output_type": "execute_result"
    }
   ],
   "source": [
    "A.det()"
   ]
  },
  {
   "cell_type": "markdown",
   "id": "5af1b8cf-e1dc-4155-9a97-475ba171dc8c",
   "metadata": {},
   "source": [
    "The symbolic determinant of an $n\\times n$ matrix has $n!$ terms. \n",
    "\n",
    "While the above expression for the $5\\times 5$ case is manageable, it would be slow even with the computer, when $n$ is larger. \n",
    "\n",
    "This is relevant because, for instance, the general formula for $A^{-1}$ involves $|A|$."
   ]
  },
  {
   "cell_type": "code",
   "execution_count": 36,
   "id": "dffda32e-ed7f-4ef3-8120-a3c6ec94f483",
   "metadata": {
    "tags": []
   },
   "outputs": [
    {
     "data": {
      "image/png": "[encoded data removed]",
      "text/latex": [
       "$\\displaystyle \\left[\\begin{matrix}\\frac{A_{11} A_{22} - A_{12} A_{21}}{A_{00} A_{11} A_{22} - A_{00} A_{12} A_{21} - A_{01} A_{10} A_{22} + A_{01} A_{12} A_{20} + A_{02} A_{10} A_{21} - A_{02} A_{11} A_{20}} & \\frac{- A_{01} A_{22} + A_{02} A_{21}}{A_{00} A_{11} A_{22} - A_{00} A_{12} A_{21} - A_{01} A_{10} A_{22} + A_{01} A_{12} A_{20} + A_{02} A_{10} A_{21} - A_{02} A_{11} A_{20}} & \\frac{A_{01} A_{12} - A_{02} A_{11}}{A_{00} A_{11} A_{22} - A_{00} A_{12} A_{21} - A_{01} A_{10} A_{22} + A_{01} A_{12} A_{20} + A_{02} A_{10} A_{21} - A_{02} A_{11} A_{20}}\\\\\\frac{- A_{10} A_{22} + A_{12} A_{20}}{A_{00} A_{11} A_{22} - A_{00} A_{12} A_{21} - A_{01} A_{10} A_{22} + A_{01} A_{12} A_{20} + A_{02} A_{10} A_{21} - A_{02} A_{11} A_{20}} & \\frac{A_{00} A_{22} - A_{02} A_{20}}{A_{00} A_{11} A_{22} - A_{00} A_{12} A_{21} - A_{01} A_{10} A_{22} + A_{01} A_{12} A_{20} + A_{02} A_{10} A_{21} - A_{02} A_{11} A_{20}} & \\frac{- A_{00} A_{12} + A_{02} A_{10}}{A_{00} A_{11} A_{22} - A_{00} A_{12} A_{21} - A_{01} A_{10} A_{22} + A_{01} A_{12} A_{20} + A_{02} A_{10} A_{21} - A_{02} A_{11} A_{20}}\\\\\\frac{A_{10} A_{21} - A_{11} A_{20}}{A_{00} A_{11} A_{22} - A_{00} A_{12} A_{21} - A_{01} A_{10} A_{22} + A_{01} A_{12} A_{20} + A_{02} A_{10} A_{21} - A_{02} A_{11} A_{20}} & \\frac{- A_{00} A_{21} + A_{01} A_{20}}{A_{00} A_{11} A_{22} - A_{00} A_{12} A_{21} - A_{01} A_{10} A_{22} + A_{01} A_{12} A_{20} + A_{02} A_{10} A_{21} - A_{02} A_{11} A_{20}} & \\frac{A_{00} A_{11} - A_{01} A_{10}}{A_{00} A_{11} A_{22} - A_{00} A_{12} A_{21} - A_{01} A_{10} A_{22} + A_{01} A_{12} A_{20} + A_{02} A_{10} A_{21} - A_{02} A_{11} A_{20}}\\end{matrix}\\right]$"
      ],
      "text/plain": [
       "⎡                                A₁₁⋅A₂₂ - A₁₂⋅A₂₁                                                                  -A₀₁⋅A₂₂ + A₀₂⋅A₂₁                                 \n",
       "⎢─────────────────────────────────────────────────────────────────────────────────  ─────────────────────────────────────────────────────────────────────────────────  \n",
       "⎢A₀₀⋅A₁₁⋅A₂₂ - A₀₀⋅A₁₂⋅A₂₁ - A₀₁⋅A₁₀⋅A₂₂ + A₀₁⋅A₁₂⋅A₂₀ + A₀₂⋅A₁₀⋅A₂₁ - A₀₂⋅A₁₁⋅A₂₀  A₀₀⋅A₁₁⋅A₂₂ - A₀₀⋅A₁₂⋅A₂₁ - A₀₁⋅A₁₀⋅A₂₂ + A₀₁⋅A₁₂⋅A₂₀ + A₀₂⋅A₁₀⋅A₂₁ - A₀₂⋅A₁₁⋅A₂₀  \n",
       "⎢                                                                                                                                                                      \n",
       "⎢                                -A₁₀⋅A₂₂ + A₁₂⋅A₂₀                                                                 A₀₀⋅A₂₂ - A₀₂⋅A₂₀                                  \n",
       "⎢─────────────────────────────────────────────────────────────────────────────────  ─────────────────────────────────────────────────────────────────────────────────  \n",
       "⎢A₀₀⋅A₁₁⋅A₂₂ - A₀₀⋅A₁₂⋅A₂₁ - A₀₁⋅A₁₀⋅A₂₂ + A₀₁⋅A₁₂⋅A₂₀ + A₀₂⋅A₁₀⋅A₂₁ - A₀₂⋅A₁₁⋅A₂₀  A₀₀⋅A₁₁⋅A₂₂ - A₀₀⋅A₁₂⋅A₂₁ - A₀₁⋅A₁₀⋅A₂₂ + A₀₁⋅A₁₂⋅A₂₀ + A₀₂⋅A₁₀⋅A₂₁ - A₀₂⋅A₁₁⋅A₂₀  \n",
       "⎢                                                                                                                                                                      \n",
       "⎢                                A₁₀⋅A₂₁ - A₁₁⋅A₂₀                                                                  -A₀₀⋅A₂₁ + A₀₁⋅A₂₀                                 \n",
       "⎢─────────────────────────────────────────────────────────────────────────────────  ─────────────────────────────────────────────────────────────────────────────────  \n",
       "⎣A₀₀⋅A₁₁⋅A₂₂ - A₀₀⋅A₁₂⋅A₂₁ - A₀₁⋅A₁₀⋅A₂₂ + A₀₁⋅A₁₂⋅A₂₀ + A₀₂⋅A₁₀⋅A₂₁ - A₀₂⋅A₁₁⋅A₂₀  A₀₀⋅A₁₁⋅A₂₂ - A₀₀⋅A₁₂⋅A₂₁ - A₀₁⋅A₁₀⋅A₂₂ + A₀₁⋅A₁₂⋅A₂₀ + A₀₂⋅A₁₀⋅A₂₁ - A₀₂⋅A₁₁⋅A₂₀  \n",
       "\n",
       "                                A₀₁⋅A₁₂ - A₀₂⋅A₁₁                                ⎤\n",
       "─────────────────────────────────────────────────────────────────────────────────⎥\n",
       "A₀₀⋅A₁₁⋅A₂₂ - A₀₀⋅A₁₂⋅A₂₁ - A₀₁⋅A₁₀⋅A₂₂ + A₀₁⋅A₁₂⋅A₂₀ + A₀₂⋅A₁₀⋅A₂₁ - A₀₂⋅A₁₁⋅A₂₀⎥\n",
       "                                                                                 ⎥\n",
       "                                -A₀₀⋅A₁₂ + A₀₂⋅A₁₀                               ⎥\n",
       "─────────────────────────────────────────────────────────────────────────────────⎥\n",
       "A₀₀⋅A₁₁⋅A₂₂ - A₀₀⋅A₁₂⋅A₂₁ - A₀₁⋅A₁₀⋅A₂₂ + A₀₁⋅A₁₂⋅A₂₀ + A₀₂⋅A₁₀⋅A₂₁ - A₀₂⋅A₁₁⋅A₂₀⎥\n",
       "                                                                                 ⎥\n",
       "                                A₀₀⋅A₁₁ - A₀₁⋅A₁₀                                ⎥\n",
       "─────────────────────────────────────────────────────────────────────────────────⎥\n",
       "A₀₀⋅A₁₁⋅A₂₂ - A₀₀⋅A₁₂⋅A₂₁ - A₀₁⋅A₁₀⋅A₂₂ + A₀₁⋅A₁₂⋅A₂₀ + A₀₂⋅A₁₀⋅A₂₁ - A₀₂⋅A₁₁⋅A₂₀⎦"
      ]
     },
     "execution_count": 36,
     "metadata": {},
     "output_type": "execute_result"
    }
   ],
   "source": [
    "B = Matrix(3, 3, lambda i, j: Symbol(f\"A_{i}{j}\")) \n",
    "# The 3x3 case is already large. Larger cases are too slow because they are so large and because of some issues in SymPy right now.\n",
    "B**-1"
   ]
  },
  {
   "cell_type": "markdown",
   "id": "cd939e76-0ea5-4692-8417-6107ac96258b",
   "metadata": {},
   "source": [
    "Symbolic matrix inverses are something that you should only compute if the matrix is small enough \n",
    "\n",
    "or if the solution is small enough.\n",
    "\n",
    "If you want to represent the arbitrarily large matrix multiplication or inverse,\n",
    "\n",
    "you should not compute with each elements symbolically,\n",
    "\n",
    "but try to represent the whole matrix computation symbolically with matrix expressions.\n",
    "\n",
    "Note that you can symbolically represent the inverse of a matrix without actually computing it using `Inverse` (see the next section)."
   ]
  },
  {
   "cell_type": "markdown",
   "id": "a5b08edc-3a56-41c4-a207-6564eb3a1180",
   "metadata": {},
   "source": [
    "## Matrix Expressions"
   ]
  },
  {
   "cell_type": "markdown",
   "id": "d310497e-8da5-4978-b45c-02e423790603",
   "metadata": {},
   "source": [
    "SymPy also supports representing matrices where the dimensions $n$ and $m$ are themselves symbolic. These are called matrix expressions. To create a matrix expression, start with `MatrixSymbol`, which works like `Symbol`, except it also contains a number of rows and columns."
   ]
  },
  {
   "cell_type": "code",
   "execution_count": 37,
   "id": "9e34a002-7468-4251-8f4c-96b2b275d90e",
   "metadata": {
    "tags": []
   },
   "outputs": [
    {
     "data": {
      "image/png": "[encoded data removed]",
      "text/latex": [
       "$\\displaystyle \\left( A, \\  B\\right)$"
      ],
      "text/plain": [
       "(A, B)"
      ]
     },
     "execution_count": 37,
     "metadata": {},
     "output_type": "execute_result"
    }
   ],
   "source": [
    "n, m, k = symbols('n, m, k', integer=True)\n",
    "A = MatrixSymbol(\"A\", n, m)\n",
    "B = MatrixSymbol(\"B\", m, n)\n",
    "A, B"
   ]
  },
  {
   "cell_type": "markdown",
   "id": "69ae09fc-4296-4655-aaa6-88043a1807d2",
   "metadata": {},
   "source": [
    "You can then create matrix formulas from these expressions using the usual operations."
   ]
  },
  {
   "cell_type": "code",
   "execution_count": 38,
   "id": "a044bc42-484b-46d4-9baf-b86807fadd2a",
   "metadata": {
    "tags": []
   },
   "outputs": [
    {
     "data": {
      "image/png": "[encoded data removed]",
      "text/latex": [
       "$\\displaystyle A B$"
      ],
      "text/plain": [
       "A⋅B"
      ]
     },
     "execution_count": 38,
     "metadata": {},
     "output_type": "execute_result"
    }
   ],
   "source": [
    "A*B"
   ]
  },
  {
   "cell_type": "code",
   "execution_count": 39,
   "id": "febb6f15-485f-4e85-b04f-179aec3fa396",
   "metadata": {
    "tags": []
   },
   "outputs": [
    {
     "data": {
      "image/png": "[encoded data removed]",
      "text/latex": [
       "$\\displaystyle B^{T} A^{T}$"
      ],
      "text/plain": [
       " T  T\n",
       "B ⋅A "
      ]
     },
     "execution_count": 39,
     "metadata": {},
     "output_type": "execute_result"
    }
   ],
   "source": [
    "(A*B).T"
   ]
  },
  {
   "cell_type": "markdown",
   "id": "93d05405-17d2-4b5c-a651-0a6d41a4a9b9",
   "metadata": {},
   "source": [
    "Similar as how `Matrix` operates,\n",
    "\n",
    "Shapes must match or you will get an error. The shape of a matrix expression can be accessed with `.shape`."
   ]
  },
  {
   "cell_type": "code",
   "execution_count": 40,
   "id": "0e4e2945-d24f-4019-828e-f7a325d177e6",
   "metadata": {
    "tags": []
   },
   "outputs": [
    {
     "data": {
      "image/png": "[encoded data removed]",
      "text/latex": [
       "$\\displaystyle A + B$"
      ],
      "text/plain": [
       "A + B"
      ]
     },
     "execution_count": 40,
     "metadata": {},
     "output_type": "execute_result"
    }
   ],
   "source": [
    "A + B"
   ]
  },
  {
   "cell_type": "code",
   "execution_count": 41,
   "id": "e48f8d8b-8f31-4cb6-ac92-30ededacc862",
   "metadata": {
    "tags": []
   },
   "outputs": [
    {
     "data": {
      "image/png": "[encoded data removed]",
      "text/latex": [
       "$\\displaystyle \\left( n, \\  n\\right)$"
      ],
      "text/plain": [
       "(n, n)"
      ]
     },
     "execution_count": 41,
     "metadata": {},
     "output_type": "execute_result"
    }
   ],
   "source": [
    "(A*B).shape"
   ]
  },
  {
   "cell_type": "markdown",
   "id": "618b8c98-7425-46de-b22d-68e5fa4593c2",
   "metadata": {},
   "source": [
    "There are also functions to represent special matrix and matrix functions.\n",
    "\n",
    "(You need to use `.doit` to compute the algebra over matrices)"
   ]
  },
  {
   "cell_type": "code",
   "execution_count": 42,
   "id": "7948a4b0-3ae2-4378-9ffc-2cad8170d825",
   "metadata": {
    "tags": []
   },
   "outputs": [],
   "source": [
    "I = Identity(n)"
   ]
  },
  {
   "cell_type": "code",
   "execution_count": 43,
   "id": "154bfcab-9fe9-4111-b976-51a4d4500153",
   "metadata": {
    "tags": []
   },
   "outputs": [
    {
     "data": {
      "image/png": "[encoded data removed]",
      "text/latex": [
       "$\\displaystyle \\mathbb{I} + A B$"
      ],
      "text/plain": [
       "A⋅B + 𝕀"
      ]
     },
     "execution_count": 43,
     "metadata": {},
     "output_type": "execute_result"
    }
   ],
   "source": [
    "A*B + I"
   ]
  },
  {
   "cell_type": "code",
   "execution_count": 44,
   "id": "462ff21e-81d8-44f7-b32a-47ff104c423a",
   "metadata": {},
   "outputs": [
    {
     "data": {
      "image/png": "[encoded data removed]",
      "text/latex": [
       "$\\displaystyle B^{T} A^{T}$"
      ],
      "text/plain": [
       " T  T\n",
       "B ⋅A "
      ]
     },
     "execution_count": 44,
     "metadata": {},
     "output_type": "execute_result"
    }
   ],
   "source": [
    "Transpose(A*B).doit()"
   ]
  },
  {
   "cell_type": "code",
   "execution_count": 45,
   "id": "b7f3263a-e519-4cb5-8d7c-fe611186666a",
   "metadata": {
    "tags": []
   },
   "outputs": [
    {
     "data": {
      "image/png": "[encoded data removed]",
      "text/latex": [
       "$\\displaystyle \\left|{A B}\\right|$"
      ],
      "text/plain": [
       "│A⋅B│"
      ]
     },
     "execution_count": 45,
     "metadata": {},
     "output_type": "execute_result"
    }
   ],
   "source": [
    "Determinant(A*B).doit()"
   ]
  },
  {
   "cell_type": "code",
   "execution_count": 46,
   "id": "39bc7c62-dda8-44a9-8774-a85053bc1e72",
   "metadata": {
    "tags": []
   },
   "outputs": [
    {
     "data": {
      "image/png": "[encoded data removed]",
      "text/latex": [
       "$\\displaystyle \\operatorname{tr}\\left(A B \\right)$"
      ],
      "text/plain": [
       "tr(A⋅B)"
      ]
     },
     "execution_count": 46,
     "metadata": {},
     "output_type": "execute_result"
    }
   ],
   "source": [
    "Trace(A*B).doit()"
   ]
  },
  {
   "cell_type": "code",
   "execution_count": 47,
   "id": "e81b0a2d-e371-4bb4-8045-c7d48722a9c0",
   "metadata": {
    "tags": []
   },
   "outputs": [
    {
     "data": {
      "image/png": "[encoded data removed]",
      "text/latex": [
       "$\\displaystyle \\left(A B\\right)^{-1}$"
      ],
      "text/plain": [
       "     -1\n",
       "(A⋅B)  "
      ]
     },
     "execution_count": 47,
     "metadata": {},
     "output_type": "execute_result"
    }
   ],
   "source": [
    "Inverse(A*B)"
   ]
  },
  {
   "cell_type": "markdown",
   "id": "da322331-4869-4dfe-847e-b76a440802ba",
   "metadata": {},
   "source": [
    "Similar to how the assumption system in symbol works,\n",
    "\n",
    "the matrix shape affects some matrix properties like\n",
    "\n",
    "- $(A B)^{-1} = B^{-1} A^{-1}$\n",
    "- $|AB| = |A||B|$\n",
    "\n",
    "(See how the results are different for square matrices)"
   ]
  },
  {
   "cell_type": "code",
   "execution_count": 48,
   "id": "32fcc53a-3c1f-4fe2-85ae-371c99da7a76",
   "metadata": {},
   "outputs": [
    {
     "data": {
      "image/png": "[encoded data removed]",
      "text/latex": [
       "$\\displaystyle B^{-1} A^{-1}$"
      ],
      "text/plain": [
       " -1  -1\n",
       "B  ⋅A  "
      ]
     },
     "execution_count": 48,
     "metadata": {},
     "output_type": "execute_result"
    }
   ],
   "source": [
    "A = MatrixSymbol('A', n, n)\n",
    "B = MatrixSymbol('B', n, n)\n",
    "\n",
    "Inverse(A*B).doit()"
   ]
  },
  {
   "cell_type": "code",
   "execution_count": 49,
   "id": "33576f51-dbd2-414d-a646-c3c9fc9f42ad",
   "metadata": {},
   "outputs": [
    {
     "data": {
      "image/png": "[encoded data removed]",
      "text/latex": [
       "$\\displaystyle \\left|{A}\\right| \\left|{B}\\right|$"
      ],
      "text/plain": [
       "│A│⋅│B│"
      ]
     },
     "execution_count": 49,
     "metadata": {},
     "output_type": "execute_result"
    }
   ],
   "source": [
    "Determinant(A*B).doit()"
   ]
  },
  {
   "cell_type": "markdown",
   "id": "24c2bb09-945e-42c2-8732-c7889cbc67a4",
   "metadata": {},
   "source": [
    "### Symbolic Matrix with Explicit Matrix"
   ]
  },
  {
   "cell_type": "markdown",
   "id": "3b981546-144b-4dcd-a8ea-41ef9fa6da91",
   "metadata": {},
   "source": [
    "These functions can also be used on explicit matrices to represent them without evaluation. "
   ]
  },
  {
   "cell_type": "code",
   "execution_count": 50,
   "id": "774edc54-8247-4aae-abff-47fbb84c3ccd",
   "metadata": {
    "tags": []
   },
   "outputs": [
    {
     "data": {
      "image/png": "[encoded data removed]",
      "text/latex": [
       "$\\displaystyle \\left[\\begin{matrix}2 & -1 & 3\\\\1 & 2 & 0\\\\0 & 1 & 2\\end{matrix}\\right]^{-1}$"
      ],
      "text/plain": [
       "          -1\n",
       "⎡2  -1  3⎤  \n",
       "⎢        ⎥  \n",
       "⎢1  2   0⎥  \n",
       "⎢        ⎥  \n",
       "⎣0  1   2⎦  "
      ]
     },
     "execution_count": 50,
     "metadata": {},
     "output_type": "execute_result"
    }
   ],
   "source": [
    "Inverse(M)"
   ]
  },
  {
   "cell_type": "markdown",
   "id": "69c7527b-ac38-4645-a1f9-c6a0dc848a0e",
   "metadata": {},
   "source": [
    "You can combine matrix expressions and explicit matrices. \n"
   ]
  },
  {
   "cell_type": "code",
   "execution_count": 51,
   "id": "44790b74-39a7-4071-b069-dc4ca77ebdb3",
   "metadata": {
    "tags": []
   },
   "outputs": [],
   "source": [
    "C = MatrixSymbol(\"C\", 3, 3)"
   ]
  },
  {
   "cell_type": "code",
   "execution_count": 52,
   "id": "ef25a1eb-858f-4d12-b8a1-5be60b3a172c",
   "metadata": {
    "tags": []
   },
   "outputs": [
    {
     "data": {
      "image/png": "[encoded data removed]",
      "text/latex": [
       "$\\displaystyle \\left[\\begin{matrix}2 & -1 & 3\\\\1 & 2 & 0\\\\0 & 1 & 2\\end{matrix}\\right] + C$"
      ],
      "text/plain": [
       "⎡2  -1  3⎤    \n",
       "⎢        ⎥    \n",
       "⎢1  2   0⎥ + C\n",
       "⎢        ⎥    \n",
       "⎣0  1   2⎦    "
      ]
     },
     "execution_count": 52,
     "metadata": {},
     "output_type": "execute_result"
    }
   ],
   "source": [
    "C + M"
   ]
  },
  {
   "cell_type": "markdown",
   "id": "d279d1d7-f63a-4246-8c88-2606d7d9b73e",
   "metadata": {},
   "source": [
    "If a matrix expression has an explicit numerical shape (nonsymbolic), you can compute its entries with `.as_explicit()`."
   ]
  },
  {
   "cell_type": "code",
   "execution_count": 53,
   "id": "3a6a0258-db15-4096-9a9f-066b1dcced83",
   "metadata": {
    "tags": []
   },
   "outputs": [
    {
     "data": {
      "image/png": "[encoded data removed]",
      "text/latex": [
       "$\\displaystyle \\left[\\begin{matrix}C_{0, 0} + 2 & C_{0, 1} - 1 & C_{0, 2} + 3\\\\C_{1, 0} + 1 & C_{1, 1} + 2 & C_{1, 2}\\\\C_{2, 0} & C_{2, 1} + 1 & C_{2, 2} + 2\\end{matrix}\\right]$"
      ],
      "text/plain": [
       "⎡C₀₀ + 2  C₀₁ - 1  C₀₂ + 3⎤\n",
       "⎢                         ⎥\n",
       "⎢C₁₀ + 1  C₁₁ + 2    C₁₂  ⎥\n",
       "⎢                         ⎥\n",
       "⎣  C₂₀    C₂₁ + 1  C₂₂ + 2⎦"
      ]
     },
     "execution_count": 53,
     "metadata": {},
     "output_type": "execute_result"
    }
   ],
   "source": [
    "(C + M).as_explicit()"
   ]
  },
  {
   "cell_type": "markdown",
   "id": "5980dc51-838f-43e5-a5fd-61ac144d41e3",
   "metadata": {},
   "source": [
    "You can also substitute a matrix symbol with an explicit matrix. This will not evaluate by default unless you call `as_explicit()`."
   ]
  },
  {
   "cell_type": "code",
   "execution_count": 54,
   "id": "1f85c91f-c489-469b-b85f-35c96ce9185b",
   "metadata": {
    "tags": []
   },
   "outputs": [
    {
     "data": {
      "image/png": "[encoded data removed]",
      "text/latex": [
       "$\\displaystyle \\mathbb{I} + \\left[\\begin{matrix}2 & -1 & 3\\\\1 & 2 & 0\\\\0 & 1 & 2\\end{matrix}\\right]$"
      ],
      "text/plain": [
       "    ⎡2  -1  3⎤\n",
       "    ⎢        ⎥\n",
       "𝕀 + ⎢1  2   0⎥\n",
       "    ⎢        ⎥\n",
       "    ⎣0  1   2⎦"
      ]
     },
     "execution_count": 54,
     "metadata": {},
     "output_type": "execute_result"
    }
   ],
   "source": [
    "expr = (C + Identity(3)).subs({C: M})\n",
    "expr"
   ]
  },
  {
   "cell_type": "code",
   "execution_count": 55,
   "id": "21a843a0-aedd-4bcb-9dbd-f2887298299c",
   "metadata": {
    "tags": []
   },
   "outputs": [
    {
     "data": {
      "image/png": "[encoded data removed]",
      "text/latex": [
       "$\\displaystyle \\left[\\begin{matrix}3 & -1 & 3\\\\1 & 3 & 0\\\\0 & 1 & 3\\end{matrix}\\right]$"
      ],
      "text/plain": [
       "⎡3  -1  3⎤\n",
       "⎢        ⎥\n",
       "⎢1  3   0⎥\n",
       "⎢        ⎥\n",
       "⎣0  1   3⎦"
      ]
     },
     "execution_count": 55,
     "metadata": {},
     "output_type": "execute_result"
    }
   ],
   "source": [
    "expr.as_explicit()"
   ]
  },
  {
   "cell_type": "markdown",
   "id": "2edc7fa4-fa3d-4697-a502-07fdeabc409e",
   "metadata": {},
   "source": [
    "As with normal matrices, SymPy is strict about shapes. \n",
    "\n",
    "You can multiply a matrix expression by a scalar expression, but you cannot add a matrix expression and a scalar expression (even if it is $1\\times 1$)."
   ]
  },
  {
   "cell_type": "code",
   "execution_count": 56,
   "id": "fd70ea30-41e7-4162-9f78-eba1737460bc",
   "metadata": {
    "tags": []
   },
   "outputs": [],
   "source": [
    "D = MatrixSymbol(\"D\", 1, 1)"
   ]
  },
  {
   "cell_type": "code",
   "execution_count": 57,
   "id": "1f98ccb2-c141-4094-a8b0-b102756693ff",
   "metadata": {
    "tags": []
   },
   "outputs": [
    {
     "data": {
      "image/png": "[encoded data removed]",
      "text/latex": [
       "$\\displaystyle x D$"
      ],
      "text/plain": [
       "x⋅D"
      ]
     },
     "execution_count": 57,
     "metadata": {},
     "output_type": "execute_result"
    }
   ],
   "source": [
    "x*D"
   ]
  },
  {
   "cell_type": "code",
   "execution_count": 58,
   "id": "85e53888-23f1-4e8a-b16b-5e0f8ff13400",
   "metadata": {
    "tags": []
   },
   "outputs": [
    {
     "ename": "TypeError",
     "evalue": "Mix of Matrix and Scalar symbols",
     "output_type": "error",
     "traceback": [
      "\u001b[0;31m---------------------------------------------------------------------------\u001b[0m",
      "\u001b[0;31mTypeError\u001b[0m                                 Traceback (most recent call last)",
      "Cell \u001b[0;32mIn[58], line 1\u001b[0m\n\u001b[0;32m----> 1\u001b[0m \u001b[43mD\u001b[49m\u001b[43m \u001b[49m\u001b[38;5;241;43m+\u001b[39;49m\u001b[43m \u001b[49m\u001b[43mx\u001b[49m\n",
      "File \u001b[0;32m~/anaconda3/envs/sympy-tutorial/lib/python3.11/site-packages/sympy/matrices/expressions/matexpr.py:27\u001b[0m, in \u001b[0;36m_sympifyit.<locals>.deco.<locals>.__sympifyit_wrapper\u001b[0;34m(a, b)\u001b[0m\n\u001b[1;32m     25\u001b[0m \u001b[38;5;28;01mtry\u001b[39;00m:\n\u001b[1;32m     26\u001b[0m     b \u001b[38;5;241m=\u001b[39m _sympify(b)\n\u001b[0;32m---> 27\u001b[0m     \u001b[38;5;28;01mreturn\u001b[39;00m \u001b[43mfunc\u001b[49m\u001b[43m(\u001b[49m\u001b[43ma\u001b[49m\u001b[43m,\u001b[49m\u001b[43m \u001b[49m\u001b[43mb\u001b[49m\u001b[43m)\u001b[49m\n\u001b[1;32m     28\u001b[0m \u001b[38;5;28;01mexcept\u001b[39;00m SympifyError:\n\u001b[1;32m     29\u001b[0m     \u001b[38;5;28;01mreturn\u001b[39;00m retval\n",
      "File \u001b[0;32m~/anaconda3/envs/sympy-tutorial/lib/python3.11/site-packages/sympy/core/decorators.py:106\u001b[0m, in \u001b[0;36mcall_highest_priority.<locals>.priority_decorator.<locals>.binary_op_wrapper\u001b[0;34m(self, other)\u001b[0m\n\u001b[1;32m    104\u001b[0m         \u001b[38;5;28;01mif\u001b[39;00m f \u001b[38;5;129;01mis\u001b[39;00m \u001b[38;5;129;01mnot\u001b[39;00m \u001b[38;5;28;01mNone\u001b[39;00m:\n\u001b[1;32m    105\u001b[0m             \u001b[38;5;28;01mreturn\u001b[39;00m f(\u001b[38;5;28mself\u001b[39m)\n\u001b[0;32m--> 106\u001b[0m \u001b[38;5;28;01mreturn\u001b[39;00m \u001b[43mfunc\u001b[49m\u001b[43m(\u001b[49m\u001b[38;5;28;43mself\u001b[39;49m\u001b[43m,\u001b[49m\u001b[43m \u001b[49m\u001b[43mother\u001b[49m\u001b[43m)\u001b[49m\n",
      "File \u001b[0;32m~/anaconda3/envs/sympy-tutorial/lib/python3.11/site-packages/sympy/matrices/expressions/matexpr.py:107\u001b[0m, in \u001b[0;36mMatrixExpr.__add__\u001b[0;34m(self, other)\u001b[0m\n\u001b[1;32m    104\u001b[0m \u001b[38;5;129m@_sympifyit\u001b[39m(\u001b[38;5;124m'\u001b[39m\u001b[38;5;124mother\u001b[39m\u001b[38;5;124m'\u001b[39m, \u001b[38;5;28mNotImplemented\u001b[39m)\n\u001b[1;32m    105\u001b[0m \u001b[38;5;129m@call_highest_priority\u001b[39m(\u001b[38;5;124m'\u001b[39m\u001b[38;5;124m__radd__\u001b[39m\u001b[38;5;124m'\u001b[39m)\n\u001b[1;32m    106\u001b[0m \u001b[38;5;28;01mdef\u001b[39;00m \u001b[38;5;21m__add__\u001b[39m(\u001b[38;5;28mself\u001b[39m, other):\n\u001b[0;32m--> 107\u001b[0m     \u001b[38;5;28;01mreturn\u001b[39;00m \u001b[43mMatAdd\u001b[49m\u001b[43m(\u001b[49m\u001b[38;5;28;43mself\u001b[39;49m\u001b[43m,\u001b[49m\u001b[43m \u001b[49m\u001b[43mother\u001b[49m\u001b[43m)\u001b[49m\u001b[38;5;241m.\u001b[39mdoit()\n",
      "File \u001b[0;32m~/anaconda3/envs/sympy-tutorial/lib/python3.11/site-packages/sympy/matrices/expressions/matadd.py:49\u001b[0m, in \u001b[0;36mMatAdd.__new__\u001b[0;34m(cls, evaluate, check, _sympify, *args)\u001b[0m\n\u001b[1;32m     46\u001b[0m     args \u001b[38;5;241m=\u001b[39m \u001b[38;5;28mlist\u001b[39m(\u001b[38;5;28mmap\u001b[39m(sympify, args))\n\u001b[1;32m     48\u001b[0m \u001b[38;5;28;01mif\u001b[39;00m \u001b[38;5;129;01mnot\u001b[39;00m \u001b[38;5;28mall\u001b[39m(\u001b[38;5;28misinstance\u001b[39m(arg, MatrixExpr) \u001b[38;5;28;01mfor\u001b[39;00m arg \u001b[38;5;129;01min\u001b[39;00m args):\n\u001b[0;32m---> 49\u001b[0m     \u001b[38;5;28;01mraise\u001b[39;00m \u001b[38;5;167;01mTypeError\u001b[39;00m(\u001b[38;5;124m\"\u001b[39m\u001b[38;5;124mMix of Matrix and Scalar symbols\u001b[39m\u001b[38;5;124m\"\u001b[39m)\n\u001b[1;32m     51\u001b[0m obj \u001b[38;5;241m=\u001b[39m Basic\u001b[38;5;241m.\u001b[39m\u001b[38;5;21m__new__\u001b[39m(\u001b[38;5;28mcls\u001b[39m, \u001b[38;5;241m*\u001b[39margs)\n\u001b[1;32m     53\u001b[0m \u001b[38;5;28;01mif\u001b[39;00m check \u001b[38;5;129;01mis\u001b[39;00m \u001b[38;5;129;01mnot\u001b[39;00m \u001b[38;5;28;01mNone\u001b[39;00m:\n",
      "\u001b[0;31mTypeError\u001b[0m: Mix of Matrix and Scalar symbols"
     ]
    }
   ],
   "source": [
    "D + x"
   ]
  },
  {
   "cell_type": "markdown",
   "id": "522b54e7-d8f7-45f7-8386-85fcac8cab47",
   "metadata": {},
   "source": [
    "If you want a matrix, use $xI$. If you want a scalar, use indexing `D[0, 0]`."
   ]
  },
  {
   "cell_type": "code",
   "execution_count": null,
   "id": "e6ccea44-660a-4bfd-96a4-7ab9f8bebef7",
   "metadata": {
    "tags": []
   },
   "outputs": [],
   "source": [
    "D + x*Identity(1)"
   ]
  },
  {
   "cell_type": "code",
   "execution_count": null,
   "id": "bec9a089-d6de-41e5-bba7-fc1a11a1e786",
   "metadata": {
    "tags": []
   },
   "outputs": [],
   "source": [
    "_.as_explicit()"
   ]
  },
  {
   "cell_type": "code",
   "execution_count": null,
   "id": "9439fd66-5ca5-4aa9-a90b-dbdf39a9aff7",
   "metadata": {
    "tags": []
   },
   "outputs": [],
   "source": [
    "D[0, 0] + x"
   ]
  },
  {
   "cell_type": "markdown",
   "id": "4232dc69-7699-4634-a9cc-c73f75bd8a8d",
   "metadata": {},
   "source": [
    "## Exercises"
   ]
  },
  {
   "cell_type": "markdown",
   "id": "dbc73603-5e9b-4d35-b5ad-79e6feab0bd9",
   "metadata": {},
   "source": [
    "Construct the following matrix expressions, where $A$ is $n\\times n$, $B$ is $m\\times m$, $C$ is $n \\times m$, and $x$ is a scalar `Symbol`.\n",
    "\n",
    "$$A - xI$$\n",
    "$$BC^TA$$\n",
    "$$(B^2 + I)^{-1}$$\n",
    "$$tr(A) + x$$"
   ]
  },
  {
   "cell_type": "code",
   "execution_count": null,
   "id": "75683931-53d4-4c78-ae57-e40847e229ed",
   "metadata": {},
   "outputs": [],
   "source": []
  }
 ],
 "metadata": {
  "kernelspec": {
   "display_name": "Python 3 (ipykernel)",
   "language": "python",
   "name": "python3"
  },
  "language_info": {
   "codemirror_mode": {
    "name": "ipython",
    "version": 3
   },
   "file_extension": ".py",
   "mimetype": "text/x-python",
   "name": "python",
   "nbconvert_exporter": "python",
   "pygments_lexer": "ipython3",
   "version": "3.11.4"
  }
 },
 "nbformat": 4,
 "nbformat_minor": 5
}
