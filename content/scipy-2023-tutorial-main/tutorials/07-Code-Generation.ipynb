{
 "cells": [
  {
   "cell_type": "markdown",
   "id": "cbf9336d-08da-49ff-ba55-516b237c6fbb",
   "metadata": {},
   "source": [
    "# Code Generation"
   ]
  },
  {
   "cell_type": "code",
   "execution_count": 1,
   "id": "b113778a-d9d8-41ed-b807-25f408e0c97d",
   "metadata": {
    "tags": []
   },
   "outputs": [],
   "source": [
    "from sympy import *\n",
    "x, y, z = symbols('x y z')\n",
    "init_printing()"
   ]
  },
  {
   "cell_type": "code",
   "execution_count": 2,
   "id": "c06aa198-8bb1-4388-9a96-9099e3fe1ca5",
   "metadata": {
    "tags": []
   },
   "outputs": [],
   "source": [
    "%matplotlib inline"
   ]
  },
  {
   "cell_type": "markdown",
   "id": "3cbc5a3c-704b-45ec-b988-c5983ce990ba",
   "metadata": {},
   "source": [
    "Code generation refers to converting a SymPy expression into code from another language so that it can be numerically evaluated. SymPy supports most popular languages, including\n",
    "\n",
    "- Python (NumPy/SciPy)\n",
    "- C\n",
    "- C++\n",
    "- Fortran\n",
    "- MATLAB/Octave\n",
    "- Julia\n",
    "- Mathematica\n",
    "- Javascript\n",
    "- LLVM\n",
    "- Rust\n",
    "- Theano\n",
    "- Tensorflow\n",
    "- PyTorch\n",
    "- And more...\n",
    "- Easy to extend to others..."
   ]
  },
  {
   "cell_type": "markdown",
   "id": "aa155f49-a546-43f1-9315-056f20d5ffe9",
   "metadata": {},
   "source": [
    "The basic idea for using SymPy to model a real world problem is to split this into three steps: first use SymPy to model the problem mathematically, then use SymPy's codegen tools to convert this symbolic model into something that can be numerically evaluated, and finally, use these numerical libraries and/or languages to evaluate the problem on data.\n",
    "\n",
    "![codegen](images/codegen1.png)\n",
    "\n",
    "This section of the tutorial focuses on the second step here."
   ]
  },
  {
   "cell_type": "markdown",
   "id": "00b3126b-6578-4672-b475-d4dc763d5643",
   "metadata": {},
   "source": [
    "## Code Printers"
   ]
  },
  {
   "cell_type": "markdown",
   "id": "94729e40-bdef-4bae-a728-c61de53bfee4",
   "metadata": {
    "editable": true
   },
   "source": [
    "The most basic form of code generation are the code printers. The convert SymPy expressions into the target language. \n",
    "\n",
    "The most common languages are C, C++, Fortran, and Python, but over a dozen languages are supported. Here, we will quickly go over each supported language. "
   ]
  },
  {
   "cell_type": "markdown",
   "id": "d31675f8-1a7e-4e54-8e20-21581bda9b8d",
   "metadata": {
    "editable": true
   },
   "source": [
    "Let us use the function $$|\\sin(x^2)|.$$"
   ]
  },
  {
   "cell_type": "code",
   "execution_count": 3,
   "id": "9bc067a3-6529-4390-9d35-5b97ea5fd2c6",
   "metadata": {
    "collapsed": false,
    "editable": true,
    "jupyter": {
     "outputs_hidden": false
    },
    "tags": []
   },
   "outputs": [
    {
     "data": {
      "image/png": "[encoded data removed]",
      "text/latex": [
       "$\\displaystyle \\left|{\\sin{\\left(x^{2} \\right)}}\\right|$"
      ],
      "text/plain": [
       "│   ⎛ 2⎞│\n",
       "│sin⎝x ⎠│"
      ]
     },
     "execution_count": 3,
     "metadata": {},
     "output_type": "execute_result"
    }
   ],
   "source": [
    "expr = abs(sin(x**2))\n",
    "expr"
   ]
  },
  {
   "cell_type": "code",
   "execution_count": 4,
   "id": "d9133538-dd6c-4ac1-9f21-1e23c5f1abe2",
   "metadata": {
    "collapsed": false,
    "editable": true,
    "jupyter": {
     "outputs_hidden": false
    },
    "tags": []
   },
   "outputs": [
    {
     "data": {
      "text/plain": [
       "'fabs(sin(pow(x, 2)))'"
      ]
     },
     "execution_count": 4,
     "metadata": {},
     "output_type": "execute_result"
    }
   ],
   "source": [
    "ccode(expr) # C"
   ]
  },
  {
   "cell_type": "code",
   "execution_count": 5,
   "id": "b1618ac9-3bd9-4f4e-a215-6ea0c0525c72",
   "metadata": {
    "collapsed": false,
    "editable": true,
    "jupyter": {
     "outputs_hidden": false
    },
    "tags": []
   },
   "outputs": [
    {
     "data": {
      "text/plain": [
       "'      abs(sin(x**2))'"
      ]
     },
     "execution_count": 5,
     "metadata": {},
     "output_type": "execute_result"
    }
   ],
   "source": [
    "fcode(expr) # Fortran"
   ]
  },
  {
   "cell_type": "code",
   "execution_count": 6,
   "id": "ae02d464-cdcd-4d57-bbeb-c638670584fe",
   "metadata": {
    "collapsed": false,
    "editable": true,
    "jupyter": {
     "outputs_hidden": false
    },
    "tags": []
   },
   "outputs": [
    {
     "data": {
      "text/plain": [
       "'abs(sin(x .^ 2))'"
      ]
     },
     "execution_count": 6,
     "metadata": {},
     "output_type": "execute_result"
    }
   ],
   "source": [
    "julia_code(expr) # Julia"
   ]
  },
  {
   "cell_type": "code",
   "execution_count": 7,
   "id": "02c3bd08-c6cb-4312-8271-939c81619b15",
   "metadata": {
    "collapsed": false,
    "editable": true,
    "jupyter": {
     "outputs_hidden": false
    },
    "tags": []
   },
   "outputs": [
    {
     "data": {
      "text/plain": [
       "'Math.abs(Math.sin(Math.pow(x, 2)))'"
      ]
     },
     "execution_count": 7,
     "metadata": {},
     "output_type": "execute_result"
    }
   ],
   "source": [
    "jscode(expr) # Javascript"
   ]
  },
  {
   "cell_type": "code",
   "execution_count": 8,
   "id": "3204488d-c1ec-40f7-a063-583fc383826b",
   "metadata": {
    "collapsed": false,
    "editable": true,
    "jupyter": {
     "outputs_hidden": false
    },
    "tags": []
   },
   "outputs": [
    {
     "data": {
      "text/plain": [
       "'Abs[Sin[x^2]]'"
      ]
     },
     "execution_count": 8,
     "metadata": {},
     "output_type": "execute_result"
    }
   ],
   "source": [
    "mathematica_code(expr) # Mathematica"
   ]
  },
  {
   "cell_type": "code",
   "execution_count": 9,
   "id": "07ecbbcc-92d5-45be-ae23-b16386b00f2f",
   "metadata": {
    "collapsed": false,
    "editable": true,
    "jupyter": {
     "outputs_hidden": false
    },
    "tags": []
   },
   "outputs": [
    {
     "data": {
      "text/plain": [
       "'abs(sin(x.^2))'"
      ]
     },
     "execution_count": 9,
     "metadata": {},
     "output_type": "execute_result"
    }
   ],
   "source": [
    "octave_code(expr) # Octave/MATLAB"
   ]
  },
  {
   "cell_type": "code",
   "execution_count": 10,
   "id": "ca1978fc-6f7c-48e5-890f-2803618b9115",
   "metadata": {
    "collapsed": false,
    "editable": true,
    "jupyter": {
     "outputs_hidden": false
    },
    "tags": []
   },
   "outputs": [
    {
     "data": {
      "text/plain": [
       "'(x.powi(2)).sin().abs()'"
      ]
     },
     "execution_count": 10,
     "metadata": {},
     "output_type": "execute_result"
    }
   ],
   "source": [
    "rust_code(expr) # Rust"
   ]
  },
  {
   "cell_type": "code",
   "execution_count": 11,
   "id": "e257cf56-2dac-43f1-9fa8-b04dc65ceacb",
   "metadata": {
    "collapsed": false,
    "editable": true,
    "jupyter": {
     "outputs_hidden": false
    },
    "tags": []
   },
   "outputs": [
    {
     "data": {
      "text/plain": [
       "'abs(sin(x^2))'"
      ]
     },
     "execution_count": 11,
     "metadata": {},
     "output_type": "execute_result"
    }
   ],
   "source": [
    "rcode(expr) # R"
   ]
  },
  {
   "cell_type": "code",
   "execution_count": 12,
   "id": "c75c13f0-7920-4fb2-8840-9395de22a8e7",
   "metadata": {
    "collapsed": false,
    "editable": true,
    "jupyter": {
     "outputs_hidden": false
    },
    "tags": []
   },
   "outputs": [
    {
     "data": {
      "text/plain": [
       "'std::fabs(std::sin(std::pow(x, 2)))'"
      ]
     },
     "execution_count": 12,
     "metadata": {},
     "output_type": "execute_result"
    }
   ],
   "source": [
    "cxxcode(expr) # C++"
   ]
  },
  {
   "cell_type": "markdown",
   "id": "777772fe-2063-4ce1-b68a-af61f25d8eb8",
   "metadata": {},
   "source": [
    "### Exercise: Codegen your own function"
   ]
  },
  {
   "cell_type": "markdown",
   "id": "f0ed22a7-6210-48d3-b536-00a02be74ccc",
   "metadata": {},
   "source": [
    "Come up with a symbolic expression and try generating code for it in each language. Note, some languages don't support everything. What works and what doesn't? What things are the same across languages and what things are different?\n",
    "\n",
    "**Reminder: If you click a cell and press `b` it will add a new cell below it.**"
   ]
  },
  {
   "cell_type": "code",
   "execution_count": 13,
   "id": "ed6b8f15-a3a2-471c-81fb-1dfc3fc55a77",
   "metadata": {
    "tags": []
   },
   "outputs": [],
   "source": [
    "# Write your answer here\n"
   ]
  },
  {
   "cell_type": "code",
   "execution_count": null,
   "id": "bdb659a2-ab24-4255-b917-babe25567f23",
   "metadata": {
    "tags": []
   },
   "outputs": [],
   "source": []
  },
  {
   "cell_type": "code",
   "execution_count": null,
   "id": "f29bb85c-a5a4-402f-9869-3428b868e17d",
   "metadata": {
    "tags": []
   },
   "outputs": [],
   "source": []
  },
  {
   "cell_type": "markdown",
   "id": "0e11e28e-b8df-49c0-8503-1a4c581b1e53",
   "metadata": {},
   "source": [
    "## Lambdify"
   ]
  },
  {
   "cell_type": "markdown",
   "id": "639e5194-a704-4a4b-bc3c-63479d5a7ec5",
   "metadata": {},
   "source": [
    "In addition to generating a string for code, SymPy also supports directly executing that code. The most basic and useful instances of this is the `lambdify` function. `lambdify(x, expr)` takes an expression and converts it into an equivalent function that can be evaluated using NumPy."
   ]
  },
  {
   "cell_type": "code",
   "execution_count": 14,
   "id": "2eefa8d4-f639-4f06-9da8-8d3d3d6aa776",
   "metadata": {
    "tags": []
   },
   "outputs": [
    {
     "data": {
      "image/png": "[encoded data removed]",
      "text/latex": [
       "$\\displaystyle \\left|{\\sin{\\left(x^{2} \\right)}}\\right|$"
      ],
      "text/plain": [
       "│   ⎛ 2⎞│\n",
       "│sin⎝x ⎠│"
      ]
     },
     "execution_count": 14,
     "metadata": {},
     "output_type": "execute_result"
    }
   ],
   "source": [
    "expr = abs(sin(x**2))\n",
    "expr"
   ]
  },
  {
   "cell_type": "code",
   "execution_count": 15,
   "id": "e5afb697-f85b-47ae-839a-f0816213a8ca",
   "metadata": {
    "tags": []
   },
   "outputs": [],
   "source": [
    "f = lambdify(x, expr)"
   ]
  },
  {
   "cell_type": "markdown",
   "id": "d9c8c5cc-b462-4f06-a95b-719e5c86b37a",
   "metadata": {},
   "source": [
    "`f` is now a function that can be evaluated on numerical inputs."
   ]
  },
  {
   "cell_type": "code",
   "execution_count": 16,
   "id": "20b80e4b-ebff-498a-801a-f0cc9bdc5078",
   "metadata": {
    "tags": []
   },
   "outputs": [
    {
     "data": {
      "image/png": "[encoded data removed]",
      "text/latex": [
       "$\\displaystyle 0.841470984807897$"
      ],
      "text/plain": [
       "0.8414709848078965"
      ]
     },
     "execution_count": 16,
     "metadata": {},
     "output_type": "execute_result"
    }
   ],
   "source": [
    "f(1.0)"
   ]
  },
  {
   "cell_type": "code",
   "execution_count": 17,
   "id": "d3e32e84-df3f-42c7-9a64-92e61a0de3c9",
   "metadata": {
    "tags": []
   },
   "outputs": [],
   "source": [
    "import numpy as np\n",
    "a = np.linspace(0, 10)"
   ]
  },
  {
   "cell_type": "code",
   "execution_count": 18,
   "id": "7c2dd592-6c0f-4229-829f-59a068e61822",
   "metadata": {
    "tags": []
   },
   "outputs": [
    {
     "data": {
      "text/plain": [
       "array([0.        , 0.04163727, 0.16582768, 0.36612719, 0.61815157,\n",
       "       0.86302765, 0.9974506 , 0.89155923, 0.45826007, 0.22992604,\n",
       "       0.85385059, 0.94695307, 0.28181405, 0.68568806, 0.95255185,\n",
       "       0.0536568 , 0.94495142, 0.50529106, 0.8004267 , 0.62299159,\n",
       "       0.81443908, 0.4637374 , 0.9658519 , 0.04132612, 0.90977307,\n",
       "       0.78213152, 0.11911495, 0.86919774, 0.94484948, 0.45248759,\n",
       "       0.21308396, 0.72821575, 0.97195378, 0.98065977, 0.85352622,\n",
       "       0.68523456, 0.5399976 , 0.45220985, 0.43617826, 0.49405856,\n",
       "       0.61741691, 0.78174326, 0.93658562, 0.99917758, 0.86659578,\n",
       "       0.46456494, 0.1645991 , 0.78154902, 0.99001393, 0.50636564])"
      ]
     },
     "execution_count": 18,
     "metadata": {},
     "output_type": "execute_result"
    }
   ],
   "source": [
    "f(a)"
   ]
  },
  {
   "cell_type": "markdown",
   "id": "eccb29be-35ac-48ce-95c5-968eb9ddc8cc",
   "metadata": {},
   "source": [
    "Note that this is much faster than trying to evaluate the function numerically with SymPy"
   ]
  },
  {
   "cell_type": "code",
   "execution_count": 19,
   "id": "60c83e7f-092a-4937-8ca9-8494fef732ff",
   "metadata": {
    "tags": []
   },
   "outputs": [
    {
     "name": "stdout",
     "output_type": "stream",
     "text": [
      "2.46 ms ± 525 µs per loop (mean ± std. dev. of 7 runs, 100 loops each)\n"
     ]
    }
   ],
   "source": [
    "%%timeit\n",
    "[expr.subs(x, i) for i in a]"
   ]
  },
  {
   "cell_type": "code",
   "execution_count": 20,
   "id": "26983194-f2ae-4893-9d6c-e5e95aa67d22",
   "metadata": {
    "tags": []
   },
   "outputs": [
    {
     "name": "stdout",
     "output_type": "stream",
     "text": [
      "1.67 µs ± 16.9 ns per loop (mean ± std. dev. of 7 runs, 1,000,000 loops each)\n"
     ]
    }
   ],
   "source": [
    "%%timeit\n",
    "f(a)"
   ]
  },
  {
   "cell_type": "markdown",
   "id": "02e48153-6bf5-4b0c-8f09-2cf34f126f09",
   "metadata": {},
   "source": [
    "Using SymPy to evaluate expressions numerically is OK for a few points, or if you want to make use of SymPy's more accurate arbitrary floating-point numbers, but if you are doing a lot of numeric computation, you are better off using `lambdify` and evaluating with NumPy (or code generation and a different library/language)."
   ]
  },
  {
   "cell_type": "markdown",
   "id": "7db7b5ad-e167-486e-bc20-59f7f384dbaf",
   "metadata": {},
   "source": [
    "### How Lambdify Works\n",
    "The way to think of `lambdify` is that it's as if took our SymPy expression, `abs(sin(x**2))` and we wrote \"`f = lambda x: np.abs(np.sin(x**2))`.\n",
    "\n",
    "Under the hood, this is roughly what it is doing. We can use `??` to view the source code for `f`:"
   ]
  },
  {
   "cell_type": "code",
   "execution_count": 21,
   "id": "22fbe2ef-4c3e-4fb3-8b12-ee2a0b01d8c8",
   "metadata": {
    "tags": []
   },
   "outputs": [
    {
     "data": {
      "text/plain": [
       "\u001b[0;31mSignature:\u001b[0m \u001b[0mf\u001b[0m\u001b[0;34m(\u001b[0m\u001b[0mx\u001b[0m\u001b[0;34m)\u001b[0m\u001b[0;34m\u001b[0m\u001b[0;34m\u001b[0m\u001b[0m\n",
       "\u001b[0;31mDocstring:\u001b[0m\n",
       "Created with lambdify. Signature:\n",
       "\n",
       "func(x)\n",
       "\n",
       "Expression:\n",
       "\n",
       "Abs(sin(x**2))\n",
       "\n",
       "Source code:\n",
       "\n",
       "def _lambdifygenerated(x):\n",
       "    return abs(sin(x**2))\n",
       "\n",
       "\n",
       "Imported modules:\n",
       "\u001b[0;31mSource:\u001b[0m   \n",
       "\u001b[0;32mdef\u001b[0m \u001b[0m_lambdifygenerated\u001b[0m\u001b[0;34m(\u001b[0m\u001b[0mx\u001b[0m\u001b[0;34m)\u001b[0m\u001b[0;34m:\u001b[0m\u001b[0;34m\u001b[0m\n",
       "\u001b[0;34m\u001b[0m    \u001b[0;32mreturn\u001b[0m \u001b[0mabs\u001b[0m\u001b[0;34m(\u001b[0m\u001b[0msin\u001b[0m\u001b[0;34m(\u001b[0m\u001b[0mx\u001b[0m\u001b[0;34m**\u001b[0m\u001b[0;36m2\u001b[0m\u001b[0;34m)\u001b[0m\u001b[0;34m)\u001b[0m\u001b[0;34m\u001b[0m\u001b[0;34m\u001b[0m\u001b[0m\n",
       "\u001b[0;31mFile:\u001b[0m      ~/Documents/scipy-2023-tutorial/tutorials/<lambdifygenerated-1>\n",
       "\u001b[0;31mType:\u001b[0m      function"
      ]
     },
     "metadata": {},
     "output_type": "display_data"
    }
   ],
   "source": [
    "f??"
   ]
  },
  {
   "cell_type": "markdown",
   "id": "5aff0f91-605f-4e1c-9d5a-cfff387f2abb",
   "metadata": {},
   "source": [
    "The source is literally just `return abs(sin(x**2))`. Except in this function's namespace, `abs` and `sin` come from `numpy` (imagine there is a `from numpy import *` at the top). `lambdify` also automatically handles translation of SymPy idioms into NumPy ones, for example:"
   ]
  },
  {
   "cell_type": "code",
   "execution_count": 22,
   "id": "ea880b2b-dc6e-4f4a-b335-b363ebeb4b6f",
   "metadata": {
    "tags": []
   },
   "outputs": [
    {
     "data": {
      "text/plain": [
       "\u001b[0;31mSignature:\u001b[0m \u001b[0mg\u001b[0m\u001b[0;34m(\u001b[0m\u001b[0mx\u001b[0m\u001b[0;34m)\u001b[0m\u001b[0;34m\u001b[0m\u001b[0;34m\u001b[0m\u001b[0m\n",
       "\u001b[0;31mDocstring:\u001b[0m\n",
       "Created with lambdify. Signature:\n",
       "\n",
       "func(x)\n",
       "\n",
       "Expression:\n",
       "\n",
       "acos(x)\n",
       "\n",
       "Source code:\n",
       "\n",
       "def _lambdifygenerated(x):\n",
       "    return arccos(x)\n",
       "\n",
       "\n",
       "Imported modules:\n",
       "\u001b[0;31mSource:\u001b[0m   \n",
       "\u001b[0;32mdef\u001b[0m \u001b[0m_lambdifygenerated\u001b[0m\u001b[0;34m(\u001b[0m\u001b[0mx\u001b[0m\u001b[0;34m)\u001b[0m\u001b[0;34m:\u001b[0m\u001b[0;34m\u001b[0m\n",
       "\u001b[0;34m\u001b[0m    \u001b[0;32mreturn\u001b[0m \u001b[0marccos\u001b[0m\u001b[0;34m(\u001b[0m\u001b[0mx\u001b[0m\u001b[0;34m)\u001b[0m\u001b[0;34m\u001b[0m\u001b[0;34m\u001b[0m\u001b[0m\n",
       "\u001b[0;31mFile:\u001b[0m      ~/Documents/scipy-2023-tutorial/tutorials/<lambdifygenerated-2>\n",
       "\u001b[0;31mType:\u001b[0m      function"
      ]
     },
     "metadata": {},
     "output_type": "display_data"
    }
   ],
   "source": [
    "g = lambdify(x, acos(x))\n",
    "g??"
   ]
  },
  {
   "cell_type": "markdown",
   "id": "1467f890-54b1-4fbe-b183-6367e4f8cc54",
   "metadata": {},
   "source": [
    "SymPy calls $\\cos^{-1}(x)$ `acos(x)` but NumPy calls it `arccos(x)`. `lambdify` automatically translates one to the other. "
   ]
  },
  {
   "cell_type": "markdown",
   "id": "7f7fbca1-1aef-4682-b482-e001be5f2474",
   "metadata": {},
   "source": [
    "### Example: Using lambdify to numerically solve equations"
   ]
  },
  {
   "cell_type": "markdown",
   "id": "d6f94a3a-2a0e-4123-82ca-a4ef59cc50b8",
   "metadata": {},
   "source": [
    "You can also use `lambdify` to convert an expression into a function which can be passed to a numerical solver like `fsolve`. Let's look at solving $\\cos(x) = x$ from the [solvers notebook](05-Solvers.ipynb)."
   ]
  },
  {
   "cell_type": "code",
   "execution_count": 23,
   "id": "d651ec87-f3f9-4e30-90d6-9a8accff3af5",
   "metadata": {
    "tags": []
   },
   "outputs": [],
   "source": [
    "from scipy.optimize import fsolve"
   ]
  },
  {
   "cell_type": "markdown",
   "id": "aed40536-58d3-4b5d-946f-afc27f0c2f3d",
   "metadata": {},
   "source": [
    "Let's look at the help for `fsolve`:"
   ]
  },
  {
   "cell_type": "code",
   "execution_count": 24,
   "id": "c04cfa0a-5af6-4bc2-8b2a-4e3e1fbcaf2f",
   "metadata": {
    "tags": []
   },
   "outputs": [
    {
     "data": {
      "text/plain": [
       "\u001b[0;31mSignature:\u001b[0m\n",
       "\u001b[0mfsolve\u001b[0m\u001b[0;34m(\u001b[0m\u001b[0;34m\u001b[0m\n",
       "\u001b[0;34m\u001b[0m    \u001b[0mfunc\u001b[0m\u001b[0;34m,\u001b[0m\u001b[0;34m\u001b[0m\n",
       "\u001b[0;34m\u001b[0m    \u001b[0mx0\u001b[0m\u001b[0;34m,\u001b[0m\u001b[0;34m\u001b[0m\n",
       "\u001b[0;34m\u001b[0m    \u001b[0margs\u001b[0m\u001b[0;34m=\u001b[0m\u001b[0;34m(\u001b[0m\u001b[0;34m)\u001b[0m\u001b[0;34m,\u001b[0m\u001b[0;34m\u001b[0m\n",
       "\u001b[0;34m\u001b[0m    \u001b[0mfprime\u001b[0m\u001b[0;34m=\u001b[0m\u001b[0;32mNone\u001b[0m\u001b[0;34m,\u001b[0m\u001b[0;34m\u001b[0m\n",
       "\u001b[0;34m\u001b[0m    \u001b[0mfull_output\u001b[0m\u001b[0;34m=\u001b[0m\u001b[0;36m0\u001b[0m\u001b[0;34m,\u001b[0m\u001b[0;34m\u001b[0m\n",
       "\u001b[0;34m\u001b[0m    \u001b[0mcol_deriv\u001b[0m\u001b[0;34m=\u001b[0m\u001b[0;36m0\u001b[0m\u001b[0;34m,\u001b[0m\u001b[0;34m\u001b[0m\n",
       "\u001b[0;34m\u001b[0m    \u001b[0mxtol\u001b[0m\u001b[0;34m=\u001b[0m\u001b[0;36m1.49012e-08\u001b[0m\u001b[0;34m,\u001b[0m\u001b[0;34m\u001b[0m\n",
       "\u001b[0;34m\u001b[0m    \u001b[0mmaxfev\u001b[0m\u001b[0;34m=\u001b[0m\u001b[0;36m0\u001b[0m\u001b[0;34m,\u001b[0m\u001b[0;34m\u001b[0m\n",
       "\u001b[0;34m\u001b[0m    \u001b[0mband\u001b[0m\u001b[0;34m=\u001b[0m\u001b[0;32mNone\u001b[0m\u001b[0;34m,\u001b[0m\u001b[0;34m\u001b[0m\n",
       "\u001b[0;34m\u001b[0m    \u001b[0mepsfcn\u001b[0m\u001b[0;34m=\u001b[0m\u001b[0;32mNone\u001b[0m\u001b[0;34m,\u001b[0m\u001b[0;34m\u001b[0m\n",
       "\u001b[0;34m\u001b[0m    \u001b[0mfactor\u001b[0m\u001b[0;34m=\u001b[0m\u001b[0;36m100\u001b[0m\u001b[0;34m,\u001b[0m\u001b[0;34m\u001b[0m\n",
       "\u001b[0;34m\u001b[0m    \u001b[0mdiag\u001b[0m\u001b[0;34m=\u001b[0m\u001b[0;32mNone\u001b[0m\u001b[0;34m,\u001b[0m\u001b[0;34m\u001b[0m\n",
       "\u001b[0;34m\u001b[0m\u001b[0;34m)\u001b[0m\u001b[0;34m\u001b[0m\u001b[0;34m\u001b[0m\u001b[0m\n",
       "\u001b[0;31mDocstring:\u001b[0m\n",
       "Find the roots of a function.\n",
       "\n",
       "Return the roots of the (non-linear) equations defined by\n",
       "``func(x) = 0`` given a starting estimate.\n",
       "\n",
       "Parameters\n",
       "----------\n",
       "func : callable ``f(x, *args)``\n",
       "    A function that takes at least one (possibly vector) argument,\n",
       "    and returns a value of the same length.\n",
       "x0 : ndarray\n",
       "    The starting estimate for the roots of ``func(x) = 0``.\n",
       "args : tuple, optional\n",
       "    Any extra arguments to `func`.\n",
       "fprime : callable ``f(x, *args)``, optional\n",
       "    A function to compute the Jacobian of `func` with derivatives\n",
       "    across the rows. By default, the Jacobian will be estimated.\n",
       "full_output : bool, optional\n",
       "    If True, return optional outputs.\n",
       "col_deriv : bool, optional\n",
       "    Specify whether the Jacobian function computes derivatives down\n",
       "    the columns (faster, because there is no transpose operation).\n",
       "xtol : float, optional\n",
       "    The calculation will terminate if the relative error between two\n",
       "    consecutive iterates is at most `xtol`.\n",
       "maxfev : int, optional\n",
       "    The maximum number of calls to the function. If zero, then\n",
       "    ``100*(N+1)`` is the maximum where N is the number of elements\n",
       "    in `x0`.\n",
       "band : tuple, optional\n",
       "    If set to a two-sequence containing the number of sub- and\n",
       "    super-diagonals within the band of the Jacobi matrix, the\n",
       "    Jacobi matrix is considered banded (only for ``fprime=None``).\n",
       "epsfcn : float, optional\n",
       "    A suitable step length for the forward-difference\n",
       "    approximation of the Jacobian (for ``fprime=None``). If\n",
       "    `epsfcn` is less than the machine precision, it is assumed\n",
       "    that the relative errors in the functions are of the order of\n",
       "    the machine precision.\n",
       "factor : float, optional\n",
       "    A parameter determining the initial step bound\n",
       "    (``factor * || diag * x||``). Should be in the interval\n",
       "    ``(0.1, 100)``.\n",
       "diag : sequence, optional\n",
       "    N positive entries that serve as a scale factors for the\n",
       "    variables.\n",
       "\n",
       "Returns\n",
       "-------\n",
       "x : ndarray\n",
       "    The solution (or the result of the last iteration for\n",
       "    an unsuccessful call).\n",
       "infodict : dict\n",
       "    A dictionary of optional outputs with the keys:\n",
       "\n",
       "    ``nfev``\n",
       "        number of function calls\n",
       "    ``njev``\n",
       "        number of Jacobian calls\n",
       "    ``fvec``\n",
       "        function evaluated at the output\n",
       "    ``fjac``\n",
       "        the orthogonal matrix, q, produced by the QR\n",
       "        factorization of the final approximate Jacobian\n",
       "        matrix, stored column wise\n",
       "    ``r``\n",
       "        upper triangular matrix produced by QR factorization\n",
       "        of the same matrix\n",
       "    ``qtf``\n",
       "        the vector ``(transpose(q) * fvec)``\n",
       "\n",
       "ier : int\n",
       "    An integer flag.  Set to 1 if a solution was found, otherwise refer\n",
       "    to `mesg` for more information.\n",
       "mesg : str\n",
       "    If no solution is found, `mesg` details the cause of failure.\n",
       "\n",
       "See Also\n",
       "--------\n",
       "root : Interface to root finding algorithms for multivariate\n",
       "       functions. See the ``method='hybr'`` in particular.\n",
       "\n",
       "Notes\n",
       "-----\n",
       "``fsolve`` is a wrapper around MINPACK's hybrd and hybrj algorithms.\n",
       "\n",
       "Examples\n",
       "--------\n",
       "Find a solution to the system of equations:\n",
       "``x0*cos(x1) = 4,  x1*x0 - x1 = 5``.\n",
       "\n",
       ">>> import numpy as np\n",
       ">>> from scipy.optimize import fsolve\n",
       ">>> def func(x):\n",
       "...     return [x[0] * np.cos(x[1]) - 4,\n",
       "...             x[1] * x[0] - x[1] - 5]\n",
       ">>> root = fsolve(func, [1, 1])\n",
       ">>> root\n",
       "array([6.50409711, 0.90841421])\n",
       ">>> np.isclose(func(root), [0.0, 0.0])  # func(root) should be almost 0.0.\n",
       "array([ True,  True])\n",
       "\u001b[0;31mFile:\u001b[0m      ~/anaconda3/envs/sympy-tutorial/lib/python3.11/site-packages/scipy/optimize/_minpack_py.py\n",
       "\u001b[0;31mType:\u001b[0m      function"
      ]
     },
     "metadata": {},
     "output_type": "display_data"
    }
   ],
   "source": [
    "fsolve?"
   ]
  },
  {
   "cell_type": "markdown",
   "id": "09f8732e-00f8-4890-b179-a8245bfbd0d3",
   "metadata": {},
   "source": [
    "We can see that, like `nsolve`, `fsolve` takes a function and a starting point. The function should be an expression that equals 0 (another reason to prefer that instead of `Eq`). We can create the function with lambdify"
   ]
  },
  {
   "cell_type": "code",
   "execution_count": 25,
   "id": "c6b7c5a5-bdc2-4711-bbeb-96f9d2af617d",
   "metadata": {
    "tags": []
   },
   "outputs": [],
   "source": [
    "f = lambdify(x, cos(x) - x)"
   ]
  },
  {
   "cell_type": "code",
   "execution_count": 26,
   "id": "477959f9-9ac9-40c1-addf-d94f8cc183fb",
   "metadata": {
    "tags": []
   },
   "outputs": [
    {
     "data": {
      "text/plain": [
       "array([0.73908513])"
      ]
     },
     "execution_count": 26,
     "metadata": {},
     "output_type": "execute_result"
    }
   ],
   "source": [
    "fsolve(f, 1)"
   ]
  },
  {
   "cell_type": "markdown",
   "id": "b41d4336-af61-4e76-9113-163bedc8afdc",
   "metadata": {},
   "source": [
    "### Exercise"
   ]
  },
  {
   "cell_type": "markdown",
   "id": "aee0f83e-424e-49de-af55-fc4eeda710e4",
   "metadata": {},
   "source": [
    "Solve these equations numerically, using `lambdify` and `fsolve`.\n",
    "\n",
    "$$x^2 + 2x - 4 = 0$$\n",
    "$$\\tan(x) = \\sin(x)$$\n",
    "\n",
    "Remember that these equations have multiple solutions, so you may need to use multiple different starting points to find them all."
   ]
  },
  {
   "cell_type": "code",
   "execution_count": null,
   "id": "1bf086d7-c056-4bb9-be57-e0b6bfaf3138",
   "metadata": {},
   "outputs": [],
   "source": []
  },
  {
   "cell_type": "code",
   "execution_count": null,
   "id": "c469391e-2d03-4139-b6ea-1d0128fb19f1",
   "metadata": {},
   "outputs": [],
   "source": []
  },
  {
   "cell_type": "markdown",
   "id": "9dfaec35-b61e-4e78-9280-2abe2f216d64",
   "metadata": {},
   "source": [
    "### Solving Systems of Equations with Lambdify and fsolve"
   ]
  },
  {
   "cell_type": "markdown",
   "id": "50678b6d-5029-408f-956b-159f79de1e3b",
   "metadata": {},
   "source": [
    "Let's look at how to solve the system of equations from the [solvers notebook](05-Solvers.ipynb) numerically with `lambdify` and `fsolve`."
   ]
  },
  {
   "cell_type": "code",
   "execution_count": 27,
   "id": "3ca17ab2-e329-4f15-ab0e-322fa64aa82d",
   "metadata": {
    "tags": []
   },
   "outputs": [],
   "source": [
    "equations = [cos(x) - sin(y), cos(x)*y - 1]"
   ]
  },
  {
   "cell_type": "markdown",
   "id": "37ecf27c-9a9d-4206-8ea0-c389f5d29dca",
   "metadata": {
    "tags": []
   },
   "source": [
    "To solve a system with `fsolve`, we need a to create a function `f(a)` that returns an array of the values of the two functions at a given `a` point, where `a` is an array of two values. \n",
    "\n",
    "To do this, we can use `IndexedBase`. `IndexedBase` creates a special kind of symbol that can be indexed. It is very useful for code generation as it can be used to represent an array. For example,"
   ]
  },
  {
   "cell_type": "code",
   "execution_count": 28,
   "id": "30e87ac8-516b-40e2-94bd-3d4a53c7558e",
   "metadata": {
    "tags": []
   },
   "outputs": [
    {
     "data": {
      "image/png": "[encoded data removed]",
      "text/latex": [
       "$\\displaystyle {a}_{0}$"
      ],
      "text/plain": [
       "a[0]"
      ]
     },
     "execution_count": 28,
     "metadata": {},
     "output_type": "execute_result"
    }
   ],
   "source": [
    "a = IndexedBase('a')\n",
    "a[0]"
   ]
  },
  {
   "cell_type": "markdown",
   "id": "1248f9c9-2d70-42a8-a3cf-5b68e655e026",
   "metadata": {},
   "source": [
    "IndexedBase also supports symbolic indices."
   ]
  },
  {
   "cell_type": "code",
   "execution_count": 29,
   "id": "083fb2ba-e66a-4385-84b1-c04a7533b639",
   "metadata": {
    "tags": []
   },
   "outputs": [
    {
     "data": {
      "image/png": "[encoded data removed]",
      "text/latex": [
       "$\\displaystyle {a}_{i}$"
      ],
      "text/plain": [
       "a[i]"
      ]
     },
     "execution_count": 29,
     "metadata": {},
     "output_type": "execute_result"
    }
   ],
   "source": [
    "i = Symbol('i')\n",
    "a[i]"
   ]
  },
  {
   "cell_type": "markdown",
   "id": "079e3e1c-2a5b-4580-9e5e-915639c91187",
   "metadata": {},
   "source": [
    "When used in `lambdify`, IndexedBase can be used to index the variable. For example, to create a lambdified function that always returns the first element of the input array, we can use"
   ]
  },
  {
   "cell_type": "code",
   "execution_count": 30,
   "id": "5e91ee24-f436-4c12-a97f-0285d14f3fdd",
   "metadata": {
    "tags": []
   },
   "outputs": [
    {
     "data": {
      "text/plain": [
       "10"
      ]
     },
     "execution_count": 30,
     "metadata": {},
     "output_type": "execute_result"
    }
   ],
   "source": [
    "f = lambdify(a, a[0])\n",
    "f(np.array([10, 20, 30]))"
   ]
  },
  {
   "cell_type": "markdown",
   "id": "15127ec6-a24b-418c-bc73-9ac6a8014bec",
   "metadata": {},
   "source": [
    "So to solve our system of equations with `fsolve`, let's create an `IndexedBase` so that the two variables `x` and `y` can be replaced with a single array variable, `a[0]`, and `a[1]`."
   ]
  },
  {
   "cell_type": "code",
   "execution_count": 31,
   "id": "6e575bdc-bbca-4425-beae-94654a93c2de",
   "metadata": {
    "tags": []
   },
   "outputs": [
    {
     "data": {
      "image/png": "[encoded data removed]",
      "text/latex": [
       "$\\displaystyle \\left[ - \\sin{\\left({a}_{1} \\right)} + \\cos{\\left({a}_{0} \\right)}, \\  \\cos{\\left({a}_{0} \\right)} {a}_{1} - 1\\right]$"
      ],
      "text/plain": [
       "[-sin(a[1]) + cos(a[0]), cos(a[0])⋅a[1] - 1]"
      ]
     },
     "execution_count": 31,
     "metadata": {},
     "output_type": "execute_result"
    }
   ],
   "source": [
    "a = IndexedBase('a')\n",
    "equations_a = [expr.subs({x: a[0], y: a[1]}) for expr in equations]\n",
    "equations_a"
   ]
  },
  {
   "cell_type": "code",
   "execution_count": 32,
   "id": "757a2948-7968-4a1b-b88e-c6eb42b0a0af",
   "metadata": {
    "tags": []
   },
   "outputs": [],
   "source": [
    "f = lambdify(a, equations_a)"
   ]
  },
  {
   "cell_type": "markdown",
   "id": "23e6e726-7b3e-49a6-a99d-64627571896b",
   "metadata": {},
   "source": [
    "Let's verify that `f` accepts a single array argument, like `fsolve` requires."
   ]
  },
  {
   "cell_type": "code",
   "execution_count": 33,
   "id": "12c2b276-de12-469f-932e-339a63b99ab1",
   "metadata": {
    "tags": []
   },
   "outputs": [],
   "source": [
    "import numpy as np\n",
    "arr = np.array([0, 1])"
   ]
  },
  {
   "cell_type": "code",
   "execution_count": 34,
   "id": "932a48fe-dcf8-43db-9269-00ede173a516",
   "metadata": {
    "tags": []
   },
   "outputs": [
    {
     "data": {
      "image/png": "[encoded data removed]",
      "text/latex": [
       "$\\displaystyle \\left[ 0.158529015192103, \\  0.0\\right]$"
      ],
      "text/plain": [
       "[0.1585290151921035, 0.0]"
      ]
     },
     "execution_count": 34,
     "metadata": {},
     "output_type": "execute_result"
    }
   ],
   "source": [
    "f(arr)"
   ]
  },
  {
   "cell_type": "code",
   "execution_count": 35,
   "id": "4a592178-8a60-4e95-9a6e-899545a44348",
   "metadata": {
    "tags": []
   },
   "outputs": [
    {
     "data": {
      "text/plain": [
       "array([0.45663919, 1.11415714])"
      ]
     },
     "execution_count": 35,
     "metadata": {},
     "output_type": "execute_result"
    }
   ],
   "source": [
    "fsolve(f, [1, 1])"
   ]
  },
  {
   "cell_type": "markdown",
   "id": "e0723b0b-9ae9-4007-b7d5-133cd30e3e4f",
   "metadata": {},
   "source": [
    "## Exercise"
   ]
  },
  {
   "cell_type": "markdown",
   "id": "a99e8fe8-dda3-48a6-a7b7-7146e4188bb3",
   "metadata": {},
   "source": [
    "SymPy has a `plot` function which plots a symbolic expression. For example:"
   ]
  },
  {
   "cell_type": "code",
   "execution_count": 36,
   "id": "3448cb49-9915-400c-bea6-1b4f315776df",
   "metadata": {
    "tags": []
   },
   "outputs": [],
   "source": [
    "expr = abs(sin(x**2))"
   ]
  },
  {
   "cell_type": "code",
   "execution_count": 37,
   "id": "648a2d69-1e7b-49e6-a430-4346d1f1a20d",
   "metadata": {
    "tags": []
   },
   "outputs": [
    {
     "data": {
      "image/png": "[encoded data removed]",
      "text/plain": [
       "<Figure size 640x480 with 1 Axes>"
      ]
     },
     "metadata": {},
     "output_type": "display_data"
    }
   ],
   "source": [
    "plot(expr, (x, -3, 3));"
   ]
  },
  {
   "cell_type": "markdown",
   "id": "f57c31da-893b-484e-a60e-47dbddea5f36",
   "metadata": {},
   "source": [
    "We can easily build our own plotting function using lambdify. Write your own `plot` function that takes an input expression, lambdifies it, then plots it with `matplotlib.pyplot.plot`. Remember that `np.linspace(a, b)` generates a uniform set of points from `a` to `b`, and that `plt.plot(x, y)` plots the array `x` of x values vs. the array `y` of y values."
   ]
  },
  {
   "cell_type": "code",
   "execution_count": 38,
   "id": "b037ba87-d37b-4b07-9f8a-ddbfed37264e",
   "metadata": {
    "tags": []
   },
   "outputs": [],
   "source": [
    "import matplotlib.pyplot as plt\n",
    "import numpy as np\n",
    "\n",
    "def myplot(expr, x, a, b):\n",
    "    \"\"\"\n",
    "    Plot the SymPy expression expr with variable x from a to b\n",
    "    \"\"\"\n",
    "    "
   ]
  },
  {
   "cell_type": "code",
   "execution_count": 39,
   "id": "f7f8b6d8-acb1-4e14-aa23-4b92d716ae00",
   "metadata": {},
   "outputs": [],
   "source": [
    "expr = abs(sin(x**2))\n",
    "myplot(expr, x, -3, 3)"
   ]
  }
 ],
 "metadata": {
  "kernelspec": {
   "display_name": "Python 3 (ipykernel)",
   "language": "python",
   "name": "python3"
  },
  "language_info": {
   "codemirror_mode": {
    "name": "ipython",
    "version": 3
   },
   "file_extension": ".py",
   "mimetype": "text/x-python",
   "name": "python",
   "nbconvert_exporter": "python",
   "pygments_lexer": "ipython3",
   "version": "3.11.4"
  }
 },
 "nbformat": 4,
 "nbformat_minor": 5
}
