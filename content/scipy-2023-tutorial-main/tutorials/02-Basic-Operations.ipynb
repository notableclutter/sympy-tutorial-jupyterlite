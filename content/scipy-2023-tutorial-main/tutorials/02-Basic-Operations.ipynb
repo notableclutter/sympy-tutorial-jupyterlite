{
 "cells": [
  {
   "cell_type": "markdown",
   "id": "c18dce1c-60e0-461a-abb6-b481a2b3e3f2",
   "metadata": {},
   "source": [
    "# Basic Operations"
   ]
  },
  {
   "cell_type": "markdown",
   "id": "605cb9dc-38b9-435b-9937-494e1dbbbb75",
   "metadata": {},
   "source": [
    "## Substitution"
   ]
  },
  {
   "cell_type": "markdown",
   "id": "4638426d-7189-419d-a916-1cb6c157fe71",
   "metadata": {},
   "source": [
    "In the prior section, you learned how to build the sympy expressions."
   ]
  },
  {
   "cell_type": "code",
   "execution_count": 1,
   "id": "3e249898-582c-4d24-8408-7bd0297c539f",
   "metadata": {
    "tags": []
   },
   "outputs": [
    {
     "data": {
      "text/latex": [
       "$\\displaystyle x^{2} + x + 1$"
      ],
      "text/plain": [
       "x**2 + x + 1"
      ]
     },
     "execution_count": 1,
     "metadata": {},
     "output_type": "execute_result"
    }
   ],
   "source": [
    "from sympy import *\n",
    "\n",
    "x = Symbol('x')\n",
    "f = x**2 + x + 1\n",
    "f"
   ]
  },
  {
   "cell_type": "markdown",
   "id": "f533146d-bc9c-4765-bdee-82098e2a6883",
   "metadata": {},
   "source": [
    "However, how to edit the mathematical expression?\n",
    "\n",
    "You are not able to edit by re-assigning the variable "
   ]
  },
  {
   "cell_type": "code",
   "execution_count": 2,
   "id": "fa9e360b-329e-4c0f-9452-274463fd8c14",
   "metadata": {
    "tags": []
   },
   "outputs": [
    {
     "data": {
      "text/latex": [
       "$\\displaystyle x^{2} + x + 1$"
      ],
      "text/plain": [
       "x**2 + x + 1"
      ]
     },
     "execution_count": 2,
     "metadata": {},
     "output_type": "execute_result"
    }
   ],
   "source": [
    "x = Symbol('y')\n",
    "f"
   ]
  },
  {
   "cell_type": "markdown",
   "id": "bd5cf7bf-3d19-4e3d-8b98-42d2406a6864",
   "metadata": {},
   "source": [
    "And you are not able to edit the sympy expression directly,\n",
    "because sympy protects it."
   ]
  },
  {
   "cell_type": "code",
   "execution_count": 3,
   "id": "f4406c49-cc38-4d5e-b350-06729d4dc743",
   "metadata": {
    "tags": []
   },
   "outputs": [
    {
     "ename": "TypeError",
     "evalue": "'tuple' object does not support item assignment",
     "output_type": "error",
     "traceback": [
      "\u001b[0;31m---------------------------------------------------------------------------\u001b[0m",
      "\u001b[0;31mTypeError\u001b[0m                                 Traceback (most recent call last)",
      "Cell \u001b[0;32mIn[3], line 1\u001b[0m\n\u001b[0;32m----> 1\u001b[0m \u001b[43mf\u001b[49m\u001b[38;5;241;43m.\u001b[39;49m\u001b[43margs\u001b[49m\u001b[43m[\u001b[49m\u001b[38;5;241;43m1\u001b[39;49m\u001b[43m]\u001b[49m \u001b[38;5;241m=\u001b[39m Symbol(\u001b[38;5;124m'\u001b[39m\u001b[38;5;124my\u001b[39m\u001b[38;5;124m'\u001b[39m)\n",
      "\u001b[0;31mTypeError\u001b[0m: 'tuple' object does not support item assignment"
     ]
    }
   ],
   "source": [
    "f.args[1] = Symbol('y')"
   ]
  },
  {
   "cell_type": "markdown",
   "id": "221b5d12-de07-44a1-9005-d9b02ed9a7e6",
   "metadata": {},
   "source": [
    "In fact, the only ways to make a new formula is:\n",
    "\n",
    "Destroying the old formula and try to build new formula by scratch.\n"
   ]
  },
  {
   "cell_type": "code",
   "execution_count": 4,
   "id": "9289ced0-df84-44ff-978c-7b6d526ae602",
   "metadata": {
    "tags": []
   },
   "outputs": [
    {
     "data": {
      "text/latex": [
       "$\\displaystyle y^{2} + y + 1$"
      ],
      "text/plain": [
       "y**2 + y + 1"
      ]
     },
     "execution_count": 4,
     "metadata": {},
     "output_type": "execute_result"
    }
   ],
   "source": [
    "y = Symbol('y')\n",
    "y**2 + y + 1"
   ]
  },
  {
   "cell_type": "markdown",
   "id": "f0c2900a-2689-4b0e-a480-4d721d958b3a",
   "metadata": {},
   "source": [
    "However, in this way, you can't reuse the old formula programmatically.\n",
    "\n",
    "The programatic way to replace $x$ by $y$ is substitution"
   ]
  },
  {
   "cell_type": "code",
   "execution_count": 5,
   "id": "fc434c67-0eab-462c-9ffe-6cfb750a2666",
   "metadata": {
    "tags": []
   },
   "outputs": [
    {
     "data": {
      "text/latex": [
       "$\\displaystyle y^{2} + y + 1$"
      ],
      "text/plain": [
       "y**2 + y + 1"
      ]
     },
     "execution_count": 5,
     "metadata": {},
     "output_type": "execute_result"
    }
   ],
   "source": [
    "x = Symbol('x')\n",
    "y = Symbol('y')\n",
    "g = f.subs(x, y)\n",
    "g"
   ]
  },
  {
   "cell_type": "markdown",
   "id": "4ba48001-8811-4556-8d98-f994a5214f11",
   "metadata": {},
   "source": [
    "Because sympy expressions are immutable, the substitution doesn't change the original expression"
   ]
  },
  {
   "cell_type": "code",
   "execution_count": 6,
   "id": "3f3903ec-1e03-4546-a3f1-aa9034c61a62",
   "metadata": {
    "tags": []
   },
   "outputs": [
    {
     "data": {
      "text/latex": [
       "$\\displaystyle x^{2} + x + 1$"
      ],
      "text/plain": [
       "x**2 + x + 1"
      ]
     },
     "execution_count": 6,
     "metadata": {},
     "output_type": "execute_result"
    }
   ],
   "source": [
    "f"
   ]
  },
  {
   "cell_type": "markdown",
   "id": "1b277497-a367-46d2-9b3d-287d34995399",
   "metadata": {},
   "source": [
    "It's similar to string `replace` in Python"
   ]
  },
  {
   "cell_type": "code",
   "execution_count": 7,
   "id": "e4e980bc-a845-4a5d-a6dd-0d4ecb9799c8",
   "metadata": {
    "tags": []
   },
   "outputs": [
    {
     "data": {
      "text/plain": [
       "'(y + 1)**2 + (y + 1) + 1'"
      ]
     },
     "execution_count": 7,
     "metadata": {},
     "output_type": "execute_result"
    }
   ],
   "source": [
    "f = \"x**2 + x + 1\"\n",
    "g = f.replace('x', '(y + 1)')\n",
    "g"
   ]
  },
  {
   "cell_type": "code",
   "execution_count": 8,
   "id": "a5e40208-8edd-4454-808d-36290643fd77",
   "metadata": {
    "tags": []
   },
   "outputs": [
    {
     "data": {
      "text/plain": [
       "'x**2 + x + 1'"
      ]
     },
     "execution_count": 8,
     "metadata": {},
     "output_type": "execute_result"
    }
   ],
   "source": [
    "f"
   ]
  },
  {
   "cell_type": "markdown",
   "id": "3ea1982d-7030-49b5-ae2b-b8332c3507a2",
   "metadata": {},
   "source": [
    "Substitution the variable with general function works\n",
    "\n",
    "(with automatic evaluation)"
   ]
  },
  {
   "cell_type": "code",
   "execution_count": 9,
   "id": "eaadbd08-8178-47fb-a387-71913a3b6d8a",
   "metadata": {
    "tags": []
   },
   "outputs": [
    {
     "data": {
      "text/latex": [
       "$\\displaystyle y + \\left(y + 1\\right)^{2} + 2$"
      ],
      "text/plain": [
       "y + (y + 1)**2 + 2"
      ]
     },
     "execution_count": 9,
     "metadata": {},
     "output_type": "execute_result"
    }
   ],
   "source": [
    "x = Symbol('x')\n",
    "y = Symbol('y')\n",
    "expr = x**2 + x + 1\n",
    "expr.subs(x, y + 1)"
   ]
  },
  {
   "cell_type": "markdown",
   "id": "b0be93f5-43b7-4264-9545-f21ad1deb0ba",
   "metadata": {},
   "source": [
    "You can also substitute multiple things at once using a dictionary."
   ]
  },
  {
   "cell_type": "code",
   "execution_count": 10,
   "id": "736fe00c-160b-42bf-a149-d78e434e0d5a",
   "metadata": {
    "tags": []
   },
   "outputs": [
    {
     "data": {
      "text/latex": [
       "$\\displaystyle 1$"
      ],
      "text/plain": [
       "1"
      ]
     },
     "execution_count": 10,
     "metadata": {},
     "output_type": "execute_result"
    }
   ],
   "source": [
    "expr.subs({x: 0, y: 1})"
   ]
  },
  {
   "cell_type": "markdown",
   "id": "d33795c2-6890-4b22-90ef-c40d304b917b",
   "metadata": {},
   "source": [
    "### Exercises"
   ]
  },
  {
   "cell_type": "markdown",
   "id": "5ad927e8-5fde-44e2-9e3f-734bfc023f95",
   "metadata": {},
   "source": [
    "- Substitute $x \\to 1$ to $x^2 + 2x - 3$ to check the solution\n",
    "- Substitute $x \\to \\frac{-b + \\sqrt{b^2 - 4ac}}{2a}$ to $x^2 + 1$. Then substitute a=1, b=0, c=1 into this expression to check the solution."
   ]
  },
  {
   "cell_type": "code",
   "execution_count": null,
   "id": "96d3c6cb-383d-44b1-8e35-eaadf8d422bd",
   "metadata": {},
   "outputs": [],
   "source": []
  },
  {
   "cell_type": "markdown",
   "id": "9e1dd9e6-568d-4f9e-b696-c4f98a625423",
   "metadata": {},
   "source": [
    "## Numeric Evaluation"
   ]
  },
  {
   "cell_type": "markdown",
   "id": "31e95951-1b65-45c8-8fe3-fa0fcdbfbf72",
   "metadata": {},
   "source": [
    "### Evaluating $\\pi$"
   ]
  },
  {
   "cell_type": "markdown",
   "id": "80c2bd43-ad53-4770-b8aa-c2c463d71a08",
   "metadata": {},
   "source": [
    "In Python math library, you can only get 17 digits of $\\pi$"
   ]
  },
  {
   "cell_type": "code",
   "execution_count": 11,
   "id": "5017ffbf-10d0-4cec-a5f1-1f5fb70815fc",
   "metadata": {
    "tags": []
   },
   "outputs": [
    {
     "data": {
      "text/plain": [
       "3.141592653589793"
      ]
     },
     "execution_count": 11,
     "metadata": {},
     "output_type": "execute_result"
    }
   ],
   "source": [
    "import math\n",
    "\n",
    "math.pi"
   ]
  },
  {
   "cell_type": "markdown",
   "id": "cf7a88be-a11a-4c80-a4ba-01630d384388",
   "metadata": {},
   "source": [
    "How do you get 100 digits of $\\pi$? or even 1000 digits?"
   ]
  },
  {
   "cell_type": "code",
   "execution_count": 12,
   "id": "42baffb6-34bb-4ed8-ace2-01e0faf9161a",
   "metadata": {
    "tags": []
   },
   "outputs": [
    {
     "data": {
      "text/latex": [
       "$\\displaystyle 3.141592653589793238462643383279502884197169399375105820974944592307816406286208998628034825342117068$"
      ],
      "text/plain": [
       "3.141592653589793238462643383279502884197169399375105820974944592307816406286208998628034825342117068"
      ]
     },
     "execution_count": 12,
     "metadata": {},
     "output_type": "execute_result"
    }
   ],
   "source": [
    "pi.evalf(100)"
   ]
  },
  {
   "cell_type": "markdown",
   "id": "e4c7691e-1025-4eab-af9c-38ebd9e18632",
   "metadata": {},
   "source": [
    "### Evaluation by substitution"
   ]
  },
  {
   "cell_type": "markdown",
   "id": "8a774a20-af85-40b7-bbba-88f5b57ba335",
   "metadata": {},
   "source": [
    "Since substitution also have evaluation semantics, you can use `subs` with numeric values for convenience.\n",
    "\n",
    "In fact, if sympy sees that every arguments of functions are floating points, it considers the function as 'numeric' and immediately evaluates to a number."
   ]
  },
  {
   "cell_type": "code",
   "execution_count": 13,
   "id": "1fec49d8-6810-4574-ac8c-7adfc1ac7b92",
   "metadata": {
    "tags": []
   },
   "outputs": [
    {
     "data": {
      "text/latex": [
       "$\\displaystyle 0.0470400026866224$"
      ],
      "text/plain": [
       "0.0470400026866224"
      ]
     },
     "execution_count": 13,
     "metadata": {},
     "output_type": "execute_result"
    }
   ],
   "source": [
    "(sin(x) / x).subs(x, 3.0)"
   ]
  },
  {
   "cell_type": "markdown",
   "id": "c5b3ff54-0a04-4c0f-9d36-75da367e537d",
   "metadata": {},
   "source": [
    "### Exact Arithmetic"
   ]
  },
  {
   "cell_type": "markdown",
   "id": "04f24e62-1d35-4147-94d3-796d4b5330ec",
   "metadata": {},
   "source": [
    "Unless asked for numeric evaluation, SymPy tries to keep the formula as mathematically precise as possible.\n",
    "\n",
    "For example, square roots and logarithms are irrational, and if you start to express it into some number, \n",
    "you lose some information how the number come from.\n",
    "\n",
    "For example, take an example of a golden ratio"
   ]
  },
  {
   "cell_type": "code",
   "execution_count": 14,
   "id": "75b74c80-3596-4ebb-99fd-5b3879e1a0c6",
   "metadata": {
    "tags": []
   },
   "outputs": [],
   "source": [
    "expr = (1 + sqrt(5)) / 2"
   ]
  },
  {
   "cell_type": "code",
   "execution_count": 15,
   "id": "8aa80be3-8658-4473-940a-faf8003e3e8b",
   "metadata": {
    "tags": []
   },
   "outputs": [
    {
     "data": {
      "text/latex": [
       "$\\displaystyle \\frac{1}{2} + \\frac{\\sqrt{5}}{2}$"
      ],
      "text/plain": [
       "1/2 + sqrt(5)/2"
      ]
     },
     "execution_count": 15,
     "metadata": {},
     "output_type": "execute_result"
    }
   ],
   "source": [
    "expr"
   ]
  },
  {
   "cell_type": "markdown",
   "id": "583d4fcf-bb9d-4e43-8b3b-0737b705976c",
   "metadata": {},
   "source": [
    "If you evaluate it first to number"
   ]
  },
  {
   "cell_type": "code",
   "execution_count": 16,
   "id": "dca722c9-de5a-4203-b29f-31e3e3173d82",
   "metadata": {
    "tags": []
   },
   "outputs": [
    {
     "data": {
      "text/latex": [
       "$\\displaystyle 1.61803398874989$"
      ],
      "text/plain": [
       "1.61803398874989"
      ]
     },
     "execution_count": 16,
     "metadata": {},
     "output_type": "execute_result"
    }
   ],
   "source": [
    "expr.evalf()"
   ]
  },
  {
   "cell_type": "markdown",
   "id": "2064267a-fbc8-4974-934d-af0c3c9c8cf6",
   "metadata": {},
   "source": [
    "Now given that number, can you guess the original number back?\n",
    "\n",
    "It is not possible because there can be so many plausible guesses, like below."
   ]
  },
  {
   "cell_type": "code",
   "execution_count": 17,
   "id": "2c47e883-fc8c-4d06-8d05-451f544097a8",
   "metadata": {
    "tags": []
   },
   "outputs": [
    {
     "data": {
      "text/latex": [
       "$\\displaystyle 1.61904761904762$"
      ],
      "text/plain": [
       "1.61904761904762"
      ]
     },
     "metadata": {},
     "output_type": "display_data"
    },
    {
     "data": {
      "text/latex": [
       "$\\displaystyle 1.61805555555556$"
      ],
      "text/plain": [
       "1.61805555555556"
      ]
     },
     "metadata": {},
     "output_type": "display_data"
    },
    {
     "data": {
      "text/latex": [
       "$\\displaystyle 1.61803713527851$"
      ],
      "text/plain": [
       "1.61803713527851"
      ]
     },
     "metadata": {},
     "output_type": "display_data"
    }
   ],
   "source": [
    "display(Rational(34, 21).evalf())\n",
    "display(Rational(233, 144).evalf())\n",
    "display(Rational(610, 377).evalf())"
   ]
  },
  {
   "cell_type": "markdown",
   "id": "a9c748cd-5dbd-45b1-843c-beea66258659",
   "metadata": {},
   "source": [
    "This example shows that sympy numbers satisfies the mathematical identities exactly,\n",
    "while `math` library always has precision issues."
   ]
  },
  {
   "cell_type": "code",
   "execution_count": 18,
   "id": "ed3a578e-a9e8-43f9-bd52-13df23c5e957",
   "metadata": {
    "tags": []
   },
   "outputs": [
    {
     "data": {
      "text/latex": [
       "$\\displaystyle 0$"
      ],
      "text/plain": [
       "0"
      ]
     },
     "execution_count": 18,
     "metadata": {},
     "output_type": "execute_result"
    }
   ],
   "source": [
    "sqrt(2) ** 2 - 2"
   ]
  },
  {
   "cell_type": "code",
   "execution_count": 19,
   "id": "54b6d396-1c42-4de1-a89e-057066c9fa4c",
   "metadata": {
    "tags": []
   },
   "outputs": [
    {
     "data": {
      "text/plain": [
       "4.440892098500626e-16"
      ]
     },
     "execution_count": 19,
     "metadata": {},
     "output_type": "execute_result"
    }
   ],
   "source": [
    "math.sqrt(2) ** 2 - 2"
   ]
  },
  {
   "cell_type": "markdown",
   "id": "cd7f8ae7-5002-4f60-a183-87e730010293",
   "metadata": {},
   "source": [
    "The math library or numpy library is insufficient to use in actual mathematics, than numeric analysis.\n",
    "\n",
    "So if you actually want to do exact math, SymPy is the only option."
   ]
  },
  {
   "cell_type": "markdown",
   "id": "0dec3b94-1855-4d3a-8bec-5704624cf8aa",
   "metadata": {},
   "source": [
    "Every SymPy functions, can be used to construct arbitrary mathematical constant that can be generated by mathematical formula."
   ]
  },
  {
   "cell_type": "code",
   "execution_count": 20,
   "id": "3a4c46f2-39be-49c6-90b8-b71b678dcf29",
   "metadata": {
    "tags": []
   },
   "outputs": [
    {
     "data": {
      "text/latex": [
       "$\\displaystyle \\sin{\\left(1 \\right)}$"
      ],
      "text/plain": [
       "sin(1)"
      ]
     },
     "execution_count": 20,
     "metadata": {},
     "output_type": "execute_result"
    }
   ],
   "source": [
    "sin(1)"
   ]
  },
  {
   "cell_type": "markdown",
   "id": "0863998b-12f8-46a1-bd93-6d3a70b5978b",
   "metadata": {},
   "source": [
    "For example, Apery's constant (https://en.wikipedia.org/wiki/Ap%C3%A9ry%27s_constant) is not available in standard math library. \n",
    "\n",
    "But if you need it, you can build it your own by using sympy functions."
   ]
  },
  {
   "cell_type": "code",
   "execution_count": 21,
   "id": "5c529331-e310-4073-9fa7-b037936efc93",
   "metadata": {
    "tags": []
   },
   "outputs": [
    {
     "data": {
      "text/latex": [
       "$\\displaystyle 1.20205690315959$"
      ],
      "text/plain": [
       "1.20205690315959"
      ]
     },
     "execution_count": 21,
     "metadata": {},
     "output_type": "execute_result"
    }
   ],
   "source": [
    "zeta(3).evalf()"
   ]
  },
  {
   "cell_type": "markdown",
   "id": "70bd80cd-6431-4168-a200-ebd2d1e2e86a",
   "metadata": {},
   "source": [
    "### Exercises"
   ]
  },
  {
   "cell_type": "markdown",
   "id": "dd17dad4-358e-415f-948e-b394bebc6c09",
   "metadata": {},
   "source": [
    "- Expand the decimals of $\\frac{100}{9899}$ in 10, 20, 30, 40 digits\n",
    "- Expand the decimals of $\\frac{1000}{9801}$ in 10, 20, 30, 40 digits"
   ]
  },
  {
   "cell_type": "code",
   "execution_count": null,
   "id": "7552e8f2-29f1-4b75-b92d-b0ff3d332c5c",
   "metadata": {},
   "outputs": [],
   "source": []
  },
  {
   "cell_type": "markdown",
   "id": "01e6e0a7-dc64-46d4-b6b2-8e35ab130ad8",
   "metadata": {},
   "source": [
    "## Parsing"
   ]
  },
  {
   "cell_type": "markdown",
   "id": "20d98bb3-8ae7-4a86-b60d-7d5c3a3a05d7",
   "metadata": {},
   "source": [
    "We have learned how to build the mathematical formula by programming with symbols.\n",
    "\n",
    "However, you can alternatively build SymPy expressions by parsing from strings."
   ]
  },
  {
   "cell_type": "markdown",
   "id": "77b53512-205d-4977-bbaa-a4865379107a",
   "metadata": {},
   "source": [
    "The pros of using parser is that:\n",
    "\n",
    "- It is easy to store expression as file and read to SymPy (serializing/deserializing).\n",
    "- It can use more 'mathematical' grammar for expressions than Python:\n",
    "  - You always need to declare symbols first, and undefined program variables don't become symbols\n",
    "  - You can't multiply by juxtaposition"
   ]
  },
  {
   "cell_type": "markdown",
   "id": "1ee047e3-56d6-400a-a463-37de124c92cd",
   "metadata": {},
   "source": [
    "### SymPy parser"
   ]
  },
  {
   "cell_type": "markdown",
   "id": "f7796ec0-9188-444c-abf9-03db6a6bc769",
   "metadata": {},
   "source": [
    "`parse_expr` can be used to parse text into SymPy expressions."
   ]
  },
  {
   "cell_type": "markdown",
   "id": "e8c3c36b-3d2d-4d3f-9803-4c8e202873cc",
   "metadata": {},
   "source": [
    "`parse_expr` can do the following:\n",
    "\n",
    "- Parses `sin, cos, ...` into sympy functions.\n",
    "- Finds undefined variables in the code like `x, y` and tries to inject symbols with same name"
   ]
  },
  {
   "cell_type": "code",
   "execution_count": 22,
   "id": "c9b74f68-59d6-4176-953b-9b9bd80e0958",
   "metadata": {
    "tags": []
   },
   "outputs": [
    {
     "data": {
      "text/latex": [
       "$\\displaystyle \\sin{\\left(x + y \\right)}$"
      ],
      "text/plain": [
       "sin(x + y)"
      ]
     },
     "execution_count": 22,
     "metadata": {},
     "output_type": "execute_result"
    }
   ],
   "source": [
    "from sympy import *\n",
    "\n",
    "parse_expr('sin(x + y)')"
   ]
  },
  {
   "cell_type": "markdown",
   "id": "d1c4ec29-945a-4a39-bd16-740a52ae7745",
   "metadata": {},
   "source": [
    "You can notice that factorial can be used directly\n",
    "(with standard_transformations option)"
   ]
  },
  {
   "cell_type": "markdown",
   "id": "c0a0da10-9e86-4468-9050-6526f7273b1a",
   "metadata": {},
   "source": [
    "And with `implicit_multiplication` option, you can multiply by juxtaposition."
   ]
  },
  {
   "cell_type": "code",
   "execution_count": 23,
   "id": "fc085ff0-6c30-4e79-9d5a-2aac9241163c",
   "metadata": {
    "tags": []
   },
   "outputs": [
    {
     "data": {
      "text/latex": [
       "$\\displaystyle 2 x^{2} + 3 x + 4$"
      ],
      "text/plain": [
       "2*x**2 + 3*x + 4"
      ]
     },
     "execution_count": 23,
     "metadata": {},
     "output_type": "execute_result"
    }
   ],
   "source": [
    "from sympy.parsing.sympy_parser import standard_transformations, implicit_multiplication\n",
    "\n",
    "parse_expr('2x**2 + 3x + 4', transformations=standard_transformations + (implicit_multiplication,))"
   ]
  },
  {
   "cell_type": "markdown",
   "id": "bb0d5965-1e16-45f8-99bf-bebf6518aa3d",
   "metadata": {},
   "source": [
    "However, the cons is that even though parsing allows you to create symbols without declaring,\n",
    "\n",
    "you would anyway need symbols later for computing derivatives, solving, ...\n",
    "(to be introduced)\n",
    "\n",
    "For that cases, you have to parse strings again for symbols:"
   ]
  },
  {
   "cell_type": "code",
   "execution_count": 24,
   "id": "597ede31-1ceb-4695-b12b-d1d499d71d91",
   "metadata": {
    "tags": []
   },
   "outputs": [
    {
     "data": {
      "text/latex": [
       "$\\displaystyle \\cos{\\left(x + y \\right)}$"
      ],
      "text/plain": [
       "cos(x + y)"
      ]
     },
     "execution_count": 24,
     "metadata": {},
     "output_type": "execute_result"
    }
   ],
   "source": [
    "parse_expr('sin(x + y)').diff(parse_expr('x'))"
   ]
  },
  {
   "cell_type": "markdown",
   "id": "0d3ca0c5-cc0b-4c1a-8833-e66a8e5596bb",
   "metadata": {},
   "source": [
    "### Exercises"
   ]
  },
  {
   "cell_type": "markdown",
   "id": "39dfae41-78be-4a36-a1de-34038c005d0b",
   "metadata": {},
   "source": [
    "- Parse `3 x y - y x**3 - x**2 + 2 x + x y**2 + x**2 y + y**2 x**2`\n",
    "- Parse `1 - sin(2*x)**2/4 - sin(y)**2 - cos(x)**4`"
   ]
  },
  {
   "cell_type": "code",
   "execution_count": null,
   "id": "455c69b9-f60f-4a94-adf1-e418bb9409dd",
   "metadata": {},
   "outputs": [],
   "source": []
  },
  {
   "cell_type": "markdown",
   "id": "483ca70d-5c7e-4ea2-8bf9-90f579adeecd",
   "metadata": {},
   "source": [
    "## Printing"
   ]
  },
  {
   "cell_type": "markdown",
   "id": "f9409e77-b5e8-412e-899b-176a8512f302",
   "metadata": {},
   "source": [
    "### Math printers"
   ]
  },
  {
   "cell_type": "markdown",
   "id": "4d13fd39-d188-4dc2-8249-fa6cd9a96a61",
   "metadata": {},
   "source": [
    "Although you mostly see the LaTeX typesetted expression here,\n",
    "\n",
    "It is SymPy's `latex` function that does real work behind\n",
    "\n",
    "(The magic is done by `_repr_latex_` interface from IPython)\n",
    "\n",
    "Calling `latex` is useful if you want to copy the typesetted SymPy expressions into your LaTeX article."
   ]
  },
  {
   "cell_type": "code",
   "execution_count": 25,
   "id": "cbc0016e-d224-4403-a179-244db8fc675a",
   "metadata": {
    "tags": []
   },
   "outputs": [
    {
     "data": {
      "text/plain": [
       "'e^{\\\\sin{\\\\left(x^{2} \\\\right)}}'"
      ]
     },
     "execution_count": 25,
     "metadata": {},
     "output_type": "execute_result"
    }
   ],
   "source": [
    "latex(exp(sin(x**2)))"
   ]
  },
  {
   "cell_type": "markdown",
   "id": "1c6ceb1a-3e2d-4055-b8f1-4df0f1893d01",
   "metadata": {},
   "source": [
    "(Be careful that Python escapes the backslashes if string is represented)"
   ]
  },
  {
   "cell_type": "code",
   "execution_count": 26,
   "id": "32d7f5cd-0043-4852-99ee-bf4257be5a76",
   "metadata": {
    "tags": []
   },
   "outputs": [
    {
     "name": "stdout",
     "output_type": "stream",
     "text": [
      "e^{\\sin{\\left(x^{2} \\right)}}\n"
     ]
    }
   ],
   "source": [
    "print(latex(exp(sin(x**2))))"
   ]
  },
  {
   "cell_type": "markdown",
   "id": "87b4180a-b452-44ad-9f5c-690bd8c3ee12",
   "metadata": {},
   "source": [
    "And you can use `pprint` (pretty printing) if you still need to typeset the mathematical expressions\n",
    "with the ascii art (like the graphing calculator).\n",
    "\n",
    "(However, you would only need `latex` for most of the cases)"
   ]
  },
  {
   "cell_type": "code",
   "execution_count": 27,
   "id": "966bce81-84ec-418b-8ad0-ef04e98186f0",
   "metadata": {
    "tags": []
   },
   "outputs": [
    {
     "name": "stdout",
     "output_type": "stream",
     "text": [
      "    ⎛ 2⎞\n",
      " sin⎝x ⎠\n",
      "ℯ       \n"
     ]
    }
   ],
   "source": [
    "pprint(exp(sin(x**2)))"
   ]
  },
  {
   "cell_type": "code",
   "execution_count": 28,
   "id": "c0be1ee5-3f8a-4e51-8d0b-8582714ab488",
   "metadata": {
    "tags": []
   },
   "outputs": [
    {
     "name": "stdout",
     "output_type": "stream",
     "text": [
      "    / 2\\\n",
      " sin\\x /\n",
      "e       \n"
     ]
    }
   ],
   "source": [
    "pprint(exp(sin(x**2)), use_unicode=False)"
   ]
  },
  {
   "cell_type": "markdown",
   "id": "6ad45022-cf29-46c6-a31e-82c2d2c36442",
   "metadata": {},
   "source": [
    "And if you want to print with plaintext just use `str`:"
   ]
  },
  {
   "cell_type": "code",
   "execution_count": 29,
   "id": "42e81653-f523-47db-ab2d-4e5c3119252e",
   "metadata": {
    "tags": []
   },
   "outputs": [
    {
     "data": {
      "text/plain": [
       "'exp(sin(x**2))'"
      ]
     },
     "execution_count": 29,
     "metadata": {},
     "output_type": "execute_result"
    }
   ],
   "source": [
    "str(exp(sin(x**2)))"
   ]
  },
  {
   "cell_type": "markdown",
   "id": "9021d609-965f-4d5f-b651-4e066513dc27",
   "metadata": {},
   "source": [
    "### Exercise"
   ]
  },
  {
   "cell_type": "markdown",
   "id": "53ea4a8a-39d7-4202-9287-cf3294213edb",
   "metadata": {},
   "source": [
    "- Try to print `sin(pi/60)` in LaTeX and copy-paste into a Markdown cell"
   ]
  },
  {
   "cell_type": "code",
   "execution_count": null,
   "id": "505a7cf7-41d6-49bb-a069-ea772a798bd7",
   "metadata": {},
   "outputs": [],
   "source": []
  },
  {
   "cell_type": "markdown",
   "id": "5ac8876e-1359-4f92-abd2-12ade0ba9b6b",
   "metadata": {},
   "source": [
    "**EDIT THIS CELL**\n",
    "\n",
    "<!-- Paste the result here between the dollar signs-->\n",
    "\n",
    "$$  $$"
   ]
  },
  {
   "cell_type": "markdown",
   "id": "054f49bd-6db8-4841-9e65-e5adf8893f21",
   "metadata": {},
   "source": [
    "# Advanced Topic: Pattern Matching"
   ]
  },
  {
   "cell_type": "markdown",
   "id": "3469cecc-1fb9-4a1f-8722-04999975ead1",
   "metadata": {},
   "source": [
    "The pattern matching is useful for finding the coffecients for mathematical formula.\n",
    "\n",
    "For example, if you want to check if the formula is a quadraitic equation,\n",
    "you can define some pattern expression $ax^2 + bx + c$ using `Wild`."
   ]
  },
  {
   "cell_type": "code",
   "execution_count": 30,
   "id": "81b28c79-8451-493e-a6ed-83738b85f5e8",
   "metadata": {
    "tags": []
   },
   "outputs": [
    {
     "data": {
      "text/latex": [
       "$\\displaystyle x^{2} a + x b + c$"
      ],
      "text/plain": [
       "x**2*a_ + x*b_ + c_"
      ]
     },
     "execution_count": 30,
     "metadata": {},
     "output_type": "execute_result"
    }
   ],
   "source": [
    "x = Symbol('x')\n",
    "a = Wild('a')\n",
    "b = Wild('b')\n",
    "c = Wild('c')\n",
    "\n",
    "pattern = a*x**2 + b*x + c\n",
    "pattern"
   ]
  },
  {
   "cell_type": "markdown",
   "id": "7e2e0ddf-65d4-4018-b347-49039bab695a",
   "metadata": {},
   "source": [
    "And you can use `expr.match(pattern)` to find the coefficients for the substitution."
   ]
  },
  {
   "cell_type": "code",
   "execution_count": 31,
   "id": "eba18b20-3c8c-4b28-a507-4a7e151dd551",
   "metadata": {
    "tags": []
   },
   "outputs": [
    {
     "data": {
      "text/plain": [
       "{a_: 2, b_: 2, c_: 3}"
      ]
     },
     "execution_count": 31,
     "metadata": {},
     "output_type": "execute_result"
    }
   ],
   "source": [
    "expr = 2*x**2 + 2*x + 3\n",
    "match = expr.match(pattern)\n",
    "match"
   ]
  },
  {
   "cell_type": "markdown",
   "id": "9429a413-7998-49b1-85ab-993637233b74",
   "metadata": {},
   "source": [
    "It gives a substitution as solution satifying the equation\n",
    "\n",
    "`pattern.subs(match) == expr`"
   ]
  },
  {
   "cell_type": "code",
   "execution_count": 32,
   "id": "b43247ee-0491-4939-a8bd-c8c8fe2f9d66",
   "metadata": {
    "tags": []
   },
   "outputs": [
    {
     "data": {
      "text/latex": [
       "$\\displaystyle 2 x^{2} + 2 x + 3$"
      ],
      "text/plain": [
       "2*x**2 + 2*x + 3"
      ]
     },
     "execution_count": 32,
     "metadata": {},
     "output_type": "execute_result"
    }
   ],
   "source": [
    "pattern.subs(match)"
   ]
  },
  {
   "cell_type": "markdown",
   "id": "a21e6b74-9de2-4dda-9100-6cf0310db8fc",
   "metadata": {},
   "source": [
    "We'd note that because of some ambiguity of pattern matching,\n",
    "it can give some undesired (but correct) answer.\n",
    "\n",
    "For example, the following match is correct syntactically, however, you wouldn't expect $x$ to appear in the coefficient"
   ]
  },
  {
   "cell_type": "code",
   "execution_count": 33,
   "id": "6412d14d-c9af-4ba2-b602-91f3e50a6be0",
   "metadata": {
    "tags": []
   },
   "outputs": [
    {
     "data": {
      "text/plain": [
       "{a_: 2/x, b_: x, c_: 3}"
      ]
     },
     "execution_count": 33,
     "metadata": {},
     "output_type": "execute_result"
    }
   ],
   "source": [
    "expr = x**2 + 2*x + 3\n",
    "match = expr.match(pattern)\n",
    "match"
   ]
  },
  {
   "cell_type": "code",
   "execution_count": 34,
   "id": "17f5eadd-fc80-45ea-a8cd-d90fbd23f1d1",
   "metadata": {
    "tags": []
   },
   "outputs": [
    {
     "data": {
      "text/latex": [
       "$\\displaystyle x^{2} + 2 x + 3$"
      ],
      "text/plain": [
       "x**2 + 2*x + 3"
      ]
     },
     "execution_count": 34,
     "metadata": {},
     "output_type": "execute_result"
    }
   ],
   "source": [
    "pattern.subs(match)"
   ]
  },
  {
   "cell_type": "markdown",
   "id": "7ab7d955-1b44-4c41-8636-fb6072e88099",
   "metadata": {},
   "source": [
    "For this case, you would need to use `exclude` option."
   ]
  },
  {
   "cell_type": "code",
   "execution_count": 35,
   "id": "9ad853c9-9ca5-484f-ab12-034a2de58114",
   "metadata": {
    "tags": []
   },
   "outputs": [
    {
     "data": {
      "text/plain": [
       "{b_: 2, a_: 1, c_: 3}"
      ]
     },
     "execution_count": 35,
     "metadata": {},
     "output_type": "execute_result"
    }
   ],
   "source": [
    "a = Wild('a', exclude=[x])\n",
    "b = Wild('b', exclude=[x])\n",
    "c = Wild('c', exclude=[x])\n",
    "pattern = a*x**2 + b*x + c\n",
    "\n",
    "match = expr.match(pattern)\n",
    "match"
   ]
  },
  {
   "cell_type": "markdown",
   "id": "73cb5ce7-cced-44f2-b2b2-d37f35940d6b",
   "metadata": {},
   "source": [
    "### Exercises"
   ]
  },
  {
   "cell_type": "markdown",
   "id": "90c3397f-f32e-4b25-b455-eb25cbb28f23",
   "metadata": {},
   "source": [
    "- Define a pattern of differential binomial $x^m (a + bx^n)^p$\n",
    "- Match the pattern with $x$, $2x$, $x + 1$, $2x + 1$, $x^2 (x + 1)^3$"
   ]
  },
  {
   "cell_type": "code",
   "execution_count": null,
   "id": "41b3cfca-cfb5-40ad-95db-78466badcefb",
   "metadata": {},
   "outputs": [],
   "source": []
  },
  {
   "cell_type": "code",
   "execution_count": null,
   "id": "80c053e4-541e-410d-9faf-1d536dd1768f",
   "metadata": {},
   "outputs": [],
   "source": []
  },
  {
   "cell_type": "code",
   "execution_count": null,
   "id": "a35f21d1-430b-443c-acff-e951ff9bc8ba",
   "metadata": {},
   "outputs": [],
   "source": []
  }
 ],
 "metadata": {
  "kernelspec": {
   "display_name": "Python 3 (ipykernel)",
   "language": "python",
   "name": "python3"
  },
  "language_info": {
   "codemirror_mode": {
    "name": "ipython",
    "version": 3
   },
   "file_extension": ".py",
   "mimetype": "text/x-python",
   "name": "python",
   "nbconvert_exporter": "python",
   "pygments_lexer": "ipython3",
   "version": "3.11.4"
  }
 },
 "nbformat": 4,
 "nbformat_minor": 5
}
