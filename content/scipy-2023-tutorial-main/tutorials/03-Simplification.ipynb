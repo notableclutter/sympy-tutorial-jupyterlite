{
 "cells": [
  {
   "cell_type": "markdown",
   "id": "6a1d53ed-6ffd-4e8d-bfc2-58bd826d824f",
   "metadata": {},
   "source": [
    "# Simplification\n",
    "\n",
    "In this section, we are going to introduce SymPy's simplify functions.\n",
    "\n",
    "Simplification has various applications like:\n",
    "\n",
    "- Discovering new mathematical formula\n",
    "- Verifying the answer of mathematical problem\n",
    "- Changing the form of mathematical expressions to better work with (to compute integrals, limits, ...)\n",
    "- Optimizing your math function for numeric evaluation."
   ]
  },
  {
   "cell_type": "markdown",
   "id": "9ddd5ad7-60e8-4f52-9df6-1f45ca24b3af",
   "metadata": {},
   "source": [
    "## Discovering Mathematical Identities"
   ]
  },
  {
   "cell_type": "markdown",
   "id": "af2e6299-8c5d-4661-8791-9b226c8535fe",
   "metadata": {},
   "source": [
    "You have seen that a lot of math problems expect you to simplify the result of some calculation.\n",
    "\n",
    "Simplification is an action of searching and transforming the mathematical formula using arbitrary mathematical identities.\n",
    "\n",
    "In SymPy, `simplify` can get into surprise that it can solve fairly complicated problems:"
   ]
  },
  {
   "cell_type": "code",
   "execution_count": 1,
   "id": "7bb0fe0d-b71f-4a02-af39-437c01e0a4f3",
   "metadata": {},
   "outputs": [
    {
     "data": {
      "text/latex": [
       "$\\displaystyle - \\sqrt{10 + 6 \\sqrt{3}} + \\sqrt{1 + \\sqrt{3}} + \\sqrt{3 + 3 \\sqrt{3}}$"
      ],
      "text/plain": [
       "-sqrt(10 + 6*sqrt(3)) + sqrt(1 + sqrt(3)) + sqrt(3 + 3*sqrt(3))"
      ]
     },
     "execution_count": 1,
     "metadata": {},
     "output_type": "execute_result"
    }
   ],
   "source": [
    "from sympy import *\n",
    "\n",
    "expr = sqrt(1 + sqrt(3)) + sqrt(3 + 3*sqrt(3)) - sqrt(10 + 6*sqrt(3))\n",
    "expr"
   ]
  },
  {
   "cell_type": "code",
   "execution_count": 2,
   "id": "7ef8e778-fd36-4f2f-b612-2044f1ac91b1",
   "metadata": {},
   "outputs": [
    {
     "data": {
      "text/latex": [
       "$\\displaystyle 0$"
      ],
      "text/plain": [
       "0"
      ]
     },
     "execution_count": 2,
     "metadata": {},
     "output_type": "execute_result"
    }
   ],
   "source": [
    "simplify(expr)"
   ]
  },
  {
   "cell_type": "markdown",
   "id": "56d2075f-d6f5-4db2-9066-2d93658c1f22",
   "metadata": {},
   "source": [
    "And if some operations give huge formula\n",
    "\n",
    "`simplify` can be used to give a more readable form."
   ]
  },
  {
   "cell_type": "code",
   "execution_count": 3,
   "id": "7fe55b2e-9b8e-48b8-92fd-58480bbaeb43",
   "metadata": {},
   "outputs": [
    {
     "data": {
      "text/latex": [
       "$\\displaystyle \\left(- \\frac{\\sqrt{2} \\cdot \\left(\\frac{1}{4} + \\frac{\\sqrt{5}}{4}\\right)}{2} - \\frac{\\sqrt{2} \\sqrt{\\frac{5}{8} - \\frac{\\sqrt{5}}{8}}}{2}\\right) \\left(- \\frac{\\sqrt{5}}{8} - \\frac{1}{8} + \\frac{\\sqrt{3} \\sqrt{\\frac{5}{8} - \\frac{\\sqrt{5}}{8}}}{2}\\right) + \\left(- \\frac{\\sqrt{2} \\cdot \\left(\\frac{1}{4} + \\frac{\\sqrt{5}}{4}\\right)}{2} + \\frac{\\sqrt{2} \\sqrt{\\frac{5}{8} - \\frac{\\sqrt{5}}{8}}}{2}\\right) \\left(- \\frac{\\sqrt{3} \\cdot \\left(\\frac{1}{4} + \\frac{\\sqrt{5}}{4}\\right)}{2} - \\frac{\\sqrt{\\frac{5}{8} - \\frac{\\sqrt{5}}{8}}}{2}\\right)$"
      ],
      "text/plain": [
       "(-sqrt(2)*(1/4 + sqrt(5)/4)/2 - sqrt(2)*sqrt(5/8 - sqrt(5)/8)/2)*(-sqrt(5)/8 - 1/8 + sqrt(3)*sqrt(5/8 - sqrt(5)/8)/2) + (-sqrt(2)*(1/4 + sqrt(5)/4)/2 + sqrt(2)*sqrt(5/8 - sqrt(5)/8)/2)*(-sqrt(3)*(1/4 + sqrt(5)/4)/2 - sqrt(5/8 - sqrt(5)/8)/2)"
      ]
     },
     "execution_count": 3,
     "metadata": {},
     "output_type": "execute_result"
    }
   ],
   "source": [
    "sin(pi/60)"
   ]
  },
  {
   "cell_type": "code",
   "execution_count": 4,
   "id": "a446b884-84b4-4e9d-a278-51ee9a084c4f",
   "metadata": {},
   "outputs": [
    {
     "data": {
      "text/latex": [
       "$\\displaystyle - \\frac{\\sqrt{15} \\sqrt{5 - \\sqrt{5}}}{16} - \\frac{\\sqrt{3} \\sqrt{5 - \\sqrt{5}}}{16} - \\frac{\\sqrt{6}}{16} - \\frac{\\sqrt{2}}{16} + \\frac{\\sqrt{5 - \\sqrt{5}}}{16} + \\frac{\\sqrt{10}}{16} + \\frac{\\sqrt{5} \\sqrt{5 - \\sqrt{5}}}{16} + \\frac{\\sqrt{30}}{16}$"
      ],
      "text/plain": [
       "-sqrt(15)*sqrt(5 - sqrt(5))/16 - sqrt(3)*sqrt(5 - sqrt(5))/16 - sqrt(6)/16 - sqrt(2)/16 + sqrt(5 - sqrt(5))/16 + sqrt(10)/16 + sqrt(5)*sqrt(5 - sqrt(5))/16 + sqrt(30)/16"
      ]
     },
     "execution_count": 4,
     "metadata": {},
     "output_type": "execute_result"
    }
   ],
   "source": [
    "simplify(sin(pi/60))"
   ]
  },
  {
   "cell_type": "markdown",
   "id": "4785a1e0-bdef-481a-ab7e-6f8d7a9acece",
   "metadata": {},
   "source": [
    "## Verifying Answer"
   ]
  },
  {
   "cell_type": "markdown",
   "id": "7269f933-9e72-4653-90bf-19839dc8ccd9",
   "metadata": {},
   "source": [
    "### The limitation of `==`\n",
    "\n",
    "SymPy `==` can only compare literally equal expressions.\n",
    "\n",
    "And even though some expressions are algebraically equal, they are not respected."
   ]
  },
  {
   "cell_type": "code",
   "execution_count": 5,
   "id": "e1fccf15-663b-4ba6-8ec5-de1d6cd4a075",
   "metadata": {},
   "outputs": [
    {
     "data": {
      "text/plain": [
       "True"
      ]
     },
     "execution_count": 5,
     "metadata": {},
     "output_type": "execute_result"
    }
   ],
   "source": [
    "from sympy import *\n",
    "\n",
    "x = Symbol('x')\n",
    "sin(x)**2 + cos(x)**2 == sin(x)**2 + cos(x)**2"
   ]
  },
  {
   "cell_type": "code",
   "execution_count": 6,
   "id": "17db8544-6d79-4640-9675-a32a8f8d08ee",
   "metadata": {},
   "outputs": [
    {
     "data": {
      "text/plain": [
       "False"
      ]
     },
     "execution_count": 6,
     "metadata": {},
     "output_type": "execute_result"
    }
   ],
   "source": [
    "sin(x)**2 + cos(x)**2 == 1"
   ]
  },
  {
   "cell_type": "code",
   "execution_count": 7,
   "id": "7cdfaf2e-2f8e-46a7-aea2-d162ec6fc34d",
   "metadata": {},
   "outputs": [
    {
     "data": {
      "text/plain": [
       "False"
      ]
     },
     "execution_count": 7,
     "metadata": {},
     "output_type": "execute_result"
    }
   ],
   "source": [
    "x**2 + 2*x + 1 == (x + 1)**2"
   ]
  },
  {
   "cell_type": "markdown",
   "id": "8bd5f057-9c6a-407a-81c8-241c7302932d",
   "metadata": {},
   "source": [
    "### Zero Test\n",
    "\n",
    "In order to compare the expressions $f = g$ algebraically\n",
    "\n",
    "You can use zero testing by simplifying $f - g$ and testing against zero.\n",
    "\n",
    "`simplify` considers $0$ as the most 'simpliest' form if two expressions are algebraically equal."
   ]
  },
  {
   "cell_type": "code",
   "execution_count": 8,
   "id": "da022f03-8495-4997-ac24-5bfc15125e17",
   "metadata": {},
   "outputs": [
    {
     "data": {
      "text/latex": [
       "$\\displaystyle 0$"
      ],
      "text/plain": [
       "0"
      ]
     },
     "execution_count": 8,
     "metadata": {},
     "output_type": "execute_result"
    }
   ],
   "source": [
    "lhs = sin(x)**2 + cos(x)**2\n",
    "rhs = 1\n",
    "simplify(lhs - rhs)"
   ]
  },
  {
   "cell_type": "markdown",
   "id": "ba4fa597-44a1-4cf8-bcb1-5dfa5fabc1a9",
   "metadata": {},
   "source": [
    "## Limitations of Simplify"
   ]
  },
  {
   "cell_type": "markdown",
   "id": "ebbff4e1-8725-4823-b5db-3af35fdeda01",
   "metadata": {},
   "source": [
    "Although the simplify can be used for every sympy expressions like 'black magic'.\n",
    "\n",
    "However, it comes with some problems\n",
    "\n",
    "- `simplify` can sometimes be slow because it needs to expand very large expressions.\n",
    "- `simplify` should give mathematically sound result, however it may not be able to simplify completely because it uses heuristic methods.\n",
    "- Although `simplify` modify the form of the mathematical expressions. But it may or may not give the answer you want because of ambiguity."
   ]
  },
  {
   "cell_type": "markdown",
   "id": "59b78d03-7d82-4a0b-9998-d86b83f9fbc9",
   "metadata": {},
   "source": [
    "An example that the `simplify` fails to find the solution is:"
   ]
  },
  {
   "cell_type": "code",
   "execution_count": 9,
   "id": "88609777-c975-495c-b266-b8ea04024672",
   "metadata": {},
   "outputs": [
    {
     "data": {
      "text/latex": [
       "$\\displaystyle \\frac{\\sin{\\left(x \\right)} + \\sin{\\left(3 x \\right)} + \\sin{\\left(5 x \\right)} + \\sin{\\left(7 x \\right)}}{\\cos{\\left(x \\right)} + \\cos{\\left(3 x \\right)} + \\cos{\\left(5 x \\right)} + \\cos{\\left(7 x \\right)}}$"
      ],
      "text/plain": [
       "(sin(x) + sin(3*x) + sin(5*x) + sin(7*x))/(cos(x) + cos(3*x) + cos(5*x) + cos(7*x))"
      ]
     },
     "execution_count": 9,
     "metadata": {},
     "output_type": "execute_result"
    }
   ],
   "source": [
    "numer = (sin(x) + sin(3*x) + sin(5*x) + sin(7*x))\n",
    "denom = (cos(x) + cos(3*x) + cos(5*x) + cos(7*x))\n",
    "simplify(numer / denom)"
   ]
  },
  {
   "cell_type": "markdown",
   "id": "78f2cf5f-576c-4b41-8bd5-52fc1fa0bad3",
   "metadata": {},
   "source": [
    "The answer is $\\tan(4x)$, however, SymPy isn't able to simplify that now"
   ]
  },
  {
   "cell_type": "markdown",
   "id": "b88f3220-7264-427c-b77b-305d6f047671",
   "metadata": {},
   "source": [
    "## Polynomials"
   ]
  },
  {
   "cell_type": "markdown",
   "id": "a7a02c30-c588-4cff-845c-587a1dfd7979",
   "metadata": {},
   "source": [
    "### Expansion\n",
    "\n",
    "Although the polynomial multiplication is very simple like long arithmetic,\n",
    "\n",
    "If the polynomial becomes large, the calculation is tedious.\n",
    "\n",
    "In SymPy, `expand` can be used to expand very large polynomials"
   ]
  },
  {
   "cell_type": "code",
   "execution_count": 10,
   "id": "729245c0-ef05-4a94-abbf-a3c93b9a705e",
   "metadata": {},
   "outputs": [
    {
     "data": {
      "text/latex": [
       "$\\displaystyle x^{16} - 252 x^{8} + 4$"
      ],
      "text/plain": [
       "x**16 - 252*x**8 + 4"
      ]
     },
     "execution_count": 10,
     "metadata": {},
     "output_type": "execute_result"
    }
   ],
   "source": [
    "from sympy import *\n",
    "\n",
    "x = Symbol('x')\n",
    "expand((x**8 + 16*x**4 + 2) * (x**8 - 16*x**4 + 2))"
   ]
  },
  {
   "cell_type": "markdown",
   "id": "58ceb61c-65eb-41a2-adab-928bf8296dc2",
   "metadata": {},
   "source": [
    "#### Exercises\n",
    "\n",
    "Expand the following polynomials:\n",
    "\n",
    "- `(x**2 - x**6/6 + x**12/12) * (x**2 + x**6/6 + x**12/12)`\n",
    "- `(5*x**5 + 4*x**4 + 3*x**3 + 2*x**2 + x + 1) * (5*x**5 - 4*x**4 + 3*x**3 - 2*x**2 + x - 1)`"
   ]
  },
  {
   "cell_type": "code",
   "execution_count": null,
   "id": "b96af0c5-7547-4ac9-8652-34e3a2799bf1",
   "metadata": {},
   "outputs": [],
   "source": []
  },
  {
   "cell_type": "markdown",
   "id": "7997c596-6315-4df4-8f5d-f46c6483e424",
   "metadata": {},
   "source": [
    "### Factorization\n",
    "\n",
    "The inverse operation of polynomial expansion is polynomial factorization.\n",
    "\n",
    "Polynomial factorization is useful for finding solutions of polynomial equation.\n",
    "\n",
    "Factorizing higher degree polynomials is not learned completely in eduation,\n",
    "\n",
    "and it is often impossible to do without using certain algorithms.\n",
    "\n",
    "In SymPy, you can use `factor` to factor out polynomials"
   ]
  },
  {
   "cell_type": "code",
   "execution_count": 11,
   "id": "29e8570f-b297-4a1b-a3d2-8c176d14e980",
   "metadata": {},
   "outputs": [
    {
     "data": {
      "text/latex": [
       "$\\displaystyle \\left(x + 2\\right) \\left(x + 4\\right) \\left(x + 8\\right)$"
      ],
      "text/plain": [
       "(x + 2)*(x + 4)*(x + 8)"
      ]
     },
     "execution_count": 11,
     "metadata": {},
     "output_type": "execute_result"
    }
   ],
   "source": [
    "factor(x**3 + 14*x**2 + 56*x + 64)"
   ]
  },
  {
   "cell_type": "markdown",
   "id": "31686ee8-7fd7-4683-9036-10bda574a0ff",
   "metadata": {},
   "source": [
    "#### Exercises\n",
    "\n",
    "Factorize the polynomials\n",
    "\n",
    "- `18*x**3 - 57*x**2 + 53*x - 12`\n",
    "- `15*x**5 - 11*x**4 + 47*x**3 + 27*x**2 - 38*x + 8`\n",
    "- `x**8 - 4*x**6 + 16*x**2 - 16`\n",
    "- `x**12 - 3*x**10 - 2*x**9 + 3*x**8 + 6*x**7 - 6*x**5 - 3*x**4 + 2*x**3 + 3*x**2 - 1`\n",
    "- `3*x*y - y*x**3 - x**2 + 2*x + x*y**2 + x**2*y + y**2*x**2`"
   ]
  },
  {
   "cell_type": "code",
   "execution_count": null,
   "id": "f3f81ca3-b175-4d50-b748-b1b0ca671361",
   "metadata": {},
   "outputs": [],
   "source": []
  },
  {
   "cell_type": "markdown",
   "id": "2f073a46-9cf6-4bad-8531-47ce0aa38f6a",
   "metadata": {},
   "source": [
    "## Rational Functions"
   ]
  },
  {
   "cell_type": "markdown",
   "id": "393bd7e1-7489-4144-a61c-92bb1aa1fdfc",
   "metadata": {},
   "source": [
    "### Rational Reduction\n",
    "\n",
    "In order to manipulate the rational functions,\n",
    "\n",
    "you'd first like to put in the common denominnator.\n",
    "\n",
    "`together` can be used to put the rational functions in the common denominator."
   ]
  },
  {
   "cell_type": "code",
   "execution_count": 12,
   "id": "85c93f94-fe9f-4391-823e-4ec3c8365907",
   "metadata": {},
   "outputs": [
    {
     "data": {
      "text/latex": [
       "$\\displaystyle \\frac{x + y}{x y}$"
      ],
      "text/plain": [
       "(x + y)/(x*y)"
      ]
     },
     "execution_count": 12,
     "metadata": {},
     "output_type": "execute_result"
    }
   ],
   "source": [
    "x, y = symbols('x y')\n",
    "\n",
    "together(1 / x + 1 / y)"
   ]
  },
  {
   "cell_type": "code",
   "execution_count": 13,
   "id": "471364c7-7dcb-4717-929b-3d9cf82ecd11",
   "metadata": {},
   "outputs": [
    {
     "data": {
      "text/latex": [
       "$\\displaystyle 0$"
      ],
      "text/plain": [
       "0"
      ]
     },
     "execution_count": 13,
     "metadata": {},
     "output_type": "execute_result"
    }
   ],
   "source": [
    "a = Symbol('a')\n",
    "b = Symbol('b')\n",
    "c = Symbol('c')\n",
    "\n",
    "expr = 1/(1/a + c/a/b) + (a*b*c + a*c**2)/(b + c)**2 - a\n",
    "together(expr)"
   ]
  },
  {
   "cell_type": "code",
   "execution_count": 14,
   "id": "ebec097d-c606-4a87-8657-5ae268491236",
   "metadata": {},
   "outputs": [
    {
     "data": {
      "text/latex": [
       "$\\displaystyle \\frac{2 \\left(x - 1\\right) \\left(x + 1\\right) \\left(x^{3} - x^{2} y - x y + y^{2}\\right) - \\left(x - 1\\right) \\left(y - 1\\right) \\left(x^{3} - x^{2} y - x + y\\right) + \\left(x + 1\\right) \\left(y - 1\\right) \\left(x^{3} - x^{2} y - x + y\\right)}{\\left(x - 1\\right) \\left(x + 1\\right) \\left(x^{3} - x^{2} y - x + y\\right)}$"
      ],
      "text/plain": [
       "(2*(x - 1)*(x + 1)*(x**3 - x**2*y - x*y + y**2) - (x - 1)*(y - 1)*(x**3 - x**2*y - x + y) + (x + 1)*(y - 1)*(x**3 - x**2*y - x + y))/((x - 1)*(x + 1)*(x**3 - x**2*y - x + y))"
      ]
     },
     "execution_count": 14,
     "metadata": {},
     "output_type": "execute_result"
    }
   ],
   "source": [
    "expr = 2*(x**3 - x**2*y - x*y + y**2)/(x**3 - x**2*y - x + y) + (y - 1)/(x - 1) - (y - 1)/(x + 1)\n",
    "together(expr)"
   ]
  },
  {
   "cell_type": "markdown",
   "id": "4153bddc-b7b5-4799-a639-57c6487ff6e9",
   "metadata": {},
   "source": [
    "However, as you notice, `together` gives a raw result \n",
    "\n",
    "and doesn't simplify the polynomial terms in the numerator and the denominator automatically.\n",
    "\n",
    "`expand(..., frac=True)` can be used to expand the polynomial terms in each of the numerator and the denominator\n",
    "\n",
    "which may give the desired result.\n",
    "\n",
    "(I'd note that be careful not to use raw `expand` directly or it may give more ugly result by decomposeing the numerator)"
   ]
  },
  {
   "cell_type": "code",
   "execution_count": 15,
   "id": "bb4e6f84-74f3-4e5e-8413-4685c1a6834f",
   "metadata": {},
   "outputs": [
    {
     "data": {
      "text/latex": [
       "$\\displaystyle \\frac{2 x^{5} - 2 x^{4} y - 4 x^{3} + 4 x^{2} y + 2 x - 2 y}{x^{5} - x^{4} y - 2 x^{3} + 2 x^{2} y + x - y}$"
      ],
      "text/plain": [
       "(2*x**5 - 2*x**4*y - 4*x**3 + 4*x**2*y + 2*x - 2*y)/(x**5 - x**4*y - 2*x**3 + 2*x**2*y + x - y)"
      ]
     },
     "execution_count": 15,
     "metadata": {},
     "output_type": "execute_result"
    }
   ],
   "source": [
    "expand(together(expr), frac=True)"
   ]
  },
  {
   "cell_type": "markdown",
   "id": "6b050857-10e5-464f-ac28-37bef66cd113",
   "metadata": {},
   "source": [
    "### Cancellation\n",
    "\n",
    "In order to simplify rational functions, \n",
    "\n",
    "You can use `cancel` to cancel out the common factors of the numerator and the denominator.\n",
    "\n",
    "It uses polynomial GCD algorithms.\n",
    "\n",
    "`cancel` always puts a function into the form $\\frac{f}{g}$ where $f$ and $g$ do not have any common factors."
   ]
  },
  {
   "cell_type": "code",
   "execution_count": 16,
   "id": "a68e0549-75db-4c0b-8a63-6b86b59c5b94",
   "metadata": {},
   "outputs": [
    {
     "data": {
      "text/latex": [
       "$\\displaystyle \\frac{x^{2} - 4}{x^{2} - 1}$"
      ],
      "text/plain": [
       "(x**2 - 4)/(x**2 - 1)"
      ]
     },
     "execution_count": 16,
     "metadata": {},
     "output_type": "execute_result"
    }
   ],
   "source": [
    "cancel((x**4 + x**3 - 4*x**2 - 4*x) / (x**4 + x**3 - x**2 - x))"
   ]
  },
  {
   "cell_type": "markdown",
   "id": "48b86f3b-6552-46fe-9a88-d000cef9837b",
   "metadata": {},
   "source": [
    "#### Exercises\n",
    "\n",
    "Cancel out the common factors for the following rational functions:\n",
    "\n",
    "- `(2*a**3 + 22*a*b + 6*a**2 + 7*a + 6*b*a**2 + 12*b**2 + 21*b) / (7*a**2 - 5*a*b**2 - 2*b*a**2 - 5*a + 21*a*b + 3*b**3 - 15*b)`"
   ]
  },
  {
   "cell_type": "code",
   "execution_count": null,
   "id": "47933416-a320-4bfb-b533-f7c9fdbf943c",
   "metadata": {},
   "outputs": [],
   "source": []
  },
  {
   "cell_type": "markdown",
   "id": "723c1fd4-ab74-42e3-863b-34b7a6657440",
   "metadata": {},
   "source": [
    "## Trigonometry"
   ]
  },
  {
   "cell_type": "markdown",
   "id": "91e89894-d16f-44ba-82de-155c00836e13",
   "metadata": {},
   "source": [
    "### Trigonometric Expansion\n",
    "\n",
    "`expand_trig` expands trigononmetric functions into sum-of-product form \n",
    "\n",
    "by applying addition and multiple angle formulas.\n",
    "\n",
    "$$\\sin(x + y) = \\sin(x)\\cos(y) + \\cos(x)\\sin(y)$$\n",
    "$$\\cos(x + y) = \\cos(x)\\cos(y) - \\sin(x)\\sin(y)$$\n",
    "$$\\cos(2x) = \\cos(x)^2 - \\sin(x)^2$$\n",
    "$$\\sin(2x) = 2\\sin(x)\\cos(x)$$"
   ]
  },
  {
   "cell_type": "code",
   "execution_count": 17,
   "id": "561a8800-bb66-4a0f-889d-06112eb6c484",
   "metadata": {},
   "outputs": [
    {
     "data": {
      "text/latex": [
       "$\\displaystyle 4 \\cos^{3}{\\left(x \\right)} - 3 \\cos{\\left(x \\right)}$"
      ],
      "text/plain": [
       "4*cos(x)**3 - 3*cos(x)"
      ]
     },
     "execution_count": 17,
     "metadata": {},
     "output_type": "execute_result"
    }
   ],
   "source": [
    "expand_trig(cos(3*x))"
   ]
  },
  {
   "cell_type": "markdown",
   "id": "a8c99781-4eae-4ccf-a3f7-dada478f9074",
   "metadata": {},
   "source": [
    "#### Exercises\n",
    "\n",
    "Expand the trigonometric functions\n",
    "\n",
    "- `cos(2*x - 2*y)`\n",
    "- `sin(6*x)`\n",
    "- `tan(x + y)`\n",
    "- `sin(x + y)*sin(x - y)`"
   ]
  },
  {
   "cell_type": "code",
   "execution_count": null,
   "id": "cf956160-37b3-42e0-9a5e-2d03010b6997",
   "metadata": {},
   "outputs": [],
   "source": []
  },
  {
   "cell_type": "markdown",
   "id": "258f2df7-1f3a-412d-a9cd-e2aac5d30d58",
   "metadata": {},
   "source": [
    "### Trigonometric Simplification\n",
    "\n",
    "`trigsimp` applies trigonometric identities heuristically\n",
    "\n",
    "(https://en.wikipedia.org/wiki/List_of_trigonometric_identities)\n",
    "\n",
    "to simplify the trigonometric function."
   ]
  },
  {
   "cell_type": "code",
   "execution_count": 18,
   "id": "0482210c-d106-4088-aee1-841c266200ee",
   "metadata": {},
   "outputs": [
    {
     "data": {
      "text/latex": [
       "$\\displaystyle \\sin^{2}{\\left(x \\right)} - \\sin^{2}{\\left(y \\right)}$"
      ],
      "text/plain": [
       "sin(x)**2 - sin(y)**2"
      ]
     },
     "execution_count": 18,
     "metadata": {},
     "output_type": "execute_result"
    }
   ],
   "source": [
    "trigsimp(1 - sin(2*x)**2/4 - sin(y)**2 - cos(x)**4)"
   ]
  },
  {
   "cell_type": "markdown",
   "id": "5415a5bc-749a-49d7-9f13-46ac416fb314",
   "metadata": {},
   "source": [
    "#### Exercises\n",
    "\n",
    "Simplify the trigonometric functions\n",
    "\n",
    "- `sin(x + pi/6) - sqrt(3)/2*sin(x) - sin(x)/2`\n",
    "- `sin(x)**4 - 2*cos(x)**2*sin(x)**2 + cos(x)**4`"
   ]
  },
  {
   "cell_type": "code",
   "execution_count": null,
   "id": "0d903b7b-3e62-48ee-a44c-ff579eaf1bc0",
   "metadata": {},
   "outputs": [],
   "source": []
  },
  {
   "cell_type": "markdown",
   "id": "2602c32f-6395-4240-aef1-fcd50b3cf98f",
   "metadata": {},
   "source": [
    "# Advanced Topic: Assumptions"
   ]
  },
  {
   "cell_type": "markdown",
   "id": "512e0878-cf82-4cf3-a8e8-51b1c8035dcf",
   "metadata": {},
   "source": [
    "A lot of mathematical identities  with exponentials, logarithms, and square roots you learned in high school\n",
    "\n",
    "$$(a^x)^y = a^{xy}$$\n",
    "$$a^x b^x = (ab)^x$$\n",
    "$$\\sqrt{x}\\sqrt{y} = \\sqrt{x y}$$\n",
    "$$\\sqrt{x^2} = |x|$$\n",
    "$$\\log(x y) = \\log(x) + \\log(y)$$\n",
    "$$\\log(e^x) = x$$\n",
    "\n",
    "does not hold in complex analysis due to the branch cuts.\n",
    "\n",
    "(I've noted in previous section that SymPy functions are functions work very generally with complex numbers.)"
   ]
  },
  {
   "cell_type": "markdown",
   "id": "ee8a6c86-b64f-456e-9c91-7df72d3ca9e5",
   "metadata": {},
   "source": [
    "Here is a counter-example of how $\\sqrt{-1}\\sqrt{-1} \\ne \\sqrt{-1 \\times -1}$"
   ]
  },
  {
   "cell_type": "code",
   "execution_count": 19,
   "id": "94d56b4f-a1ef-4348-bafa-617cd0e4e1f2",
   "metadata": {},
   "outputs": [
    {
     "data": {
      "text/latex": [
       "$\\displaystyle -1.0$"
      ],
      "text/plain": [
       "-1.00000000000000"
      ]
     },
     "execution_count": 19,
     "metadata": {},
     "output_type": "execute_result"
    }
   ],
   "source": [
    "(sqrt(-1) * sqrt(-1)).evalf()"
   ]
  },
  {
   "cell_type": "code",
   "execution_count": 20,
   "id": "ae0b7c87-6ff3-418f-966b-3296edddeb62",
   "metadata": {},
   "outputs": [
    {
     "data": {
      "text/latex": [
       "$\\displaystyle 1.0$"
      ],
      "text/plain": [
       "1.00000000000000"
      ]
     },
     "execution_count": 20,
     "metadata": {},
     "output_type": "execute_result"
    }
   ],
   "source": [
    "sqrt(-1 * -1).evalf()"
   ]
  },
  {
   "cell_type": "markdown",
   "id": "1fbbc06a-3aa6-480d-840b-4a9b1fe46604",
   "metadata": {},
   "source": [
    "If you want some functions to simplify correctly,\n",
    "you need to define the functions to be more specific, like to be defined over real or positive numbers,\n",
    "\n",
    "You need to use the assumptions when creating the symbols\n",
    "\n",
    "which can be given as the following:"
   ]
  },
  {
   "cell_type": "code",
   "execution_count": 21,
   "id": "c2114a57-a1b4-409f-aa21-4d3cc264935d",
   "metadata": {},
   "outputs": [
    {
     "data": {
      "text/latex": [
       "$\\displaystyle x$"
      ],
      "text/plain": [
       "x"
      ]
     },
     "execution_count": 21,
     "metadata": {},
     "output_type": "execute_result"
    }
   ],
   "source": [
    "Symbol('x', real=True)\n",
    "Symbol('x', positive=True)"
   ]
  },
  {
   "cell_type": "markdown",
   "id": "e4b30593-3e5c-49dd-a056-37a8e9f8ce6c",
   "metadata": {},
   "source": [
    "The assumptions system uses some rule-based inference algorithm \n",
    "\n",
    "to derive the mathematical domain of the formula, which can be useful."
   ]
  },
  {
   "cell_type": "code",
   "execution_count": 22,
   "id": "51f2ca30-ab19-470e-9b8b-70c5acf49d3a",
   "metadata": {},
   "outputs": [
    {
     "data": {
      "text/plain": [
       "True"
      ]
     },
     "execution_count": 22,
     "metadata": {},
     "output_type": "execute_result"
    }
   ],
   "source": [
    "x = Symbol('x', real=True)\n",
    "(x**2 + 1).is_positive"
   ]
  },
  {
   "cell_type": "code",
   "execution_count": 23,
   "id": "f61c58e8-5901-449c-acc5-c03f519af7f0",
   "metadata": {},
   "outputs": [
    {
     "data": {
      "text/plain": [
       "True"
      ]
     },
     "execution_count": 23,
     "metadata": {},
     "output_type": "execute_result"
    }
   ],
   "source": [
    "x = Symbol('x', positive=True)\n",
    "(x + 1).is_positive"
   ]
  },
  {
   "cell_type": "markdown",
   "id": "e91939a8-94ff-405a-806c-42deedb119ce",
   "metadata": {},
   "source": [
    "If the assumptions system are not sure,\n",
    "\n",
    "it tries to mark the truth value as unknown (`None`)\n",
    "\n",
    "other than trying to jump into unsound guess."
   ]
  },
  {
   "cell_type": "code",
   "execution_count": 24,
   "id": "1e24bf4a-8430-4f8d-901d-c9235623bb1c",
   "metadata": {},
   "outputs": [],
   "source": [
    "(x - 1).is_positive"
   ]
  },
  {
   "cell_type": "markdown",
   "id": "6ea580f7-a42a-452f-bc14-c074cc63399e",
   "metadata": {},
   "source": [
    "The assumptions need to be defined carefully, \n",
    "for simplifying more general expressions than polynomials or trigonometry."
   ]
  },
  {
   "cell_type": "code",
   "execution_count": 25,
   "id": "1b445256-e4d1-425f-b56d-163ba829859a",
   "metadata": {},
   "outputs": [
    {
     "data": {
      "text/latex": [
       "$\\displaystyle \\log{\\left(x y \\right)}$"
      ],
      "text/plain": [
       "log(x*y)"
      ]
     },
     "execution_count": 25,
     "metadata": {},
     "output_type": "execute_result"
    }
   ],
   "source": [
    "x = Symbol('x')\n",
    "y = Symbol('y')\n",
    "\n",
    "expand(log(x*y))"
   ]
  },
  {
   "cell_type": "code",
   "execution_count": 26,
   "id": "923e126b-71fd-4d1f-bc8a-fcfd29d7d3f5",
   "metadata": {},
   "outputs": [
    {
     "data": {
      "text/latex": [
       "$\\displaystyle \\log{\\left(x \\right)} + \\log{\\left(y \\right)}$"
      ],
      "text/plain": [
       "log(x) + log(y)"
      ]
     },
     "execution_count": 26,
     "metadata": {},
     "output_type": "execute_result"
    }
   ],
   "source": [
    "x = Symbol('x', positive=True)\n",
    "y = Symbol('y', positive=True)\n",
    "\n",
    "expand(log(x*y))"
   ]
  },
  {
   "cell_type": "markdown",
   "id": "9985dcf3-1198-4f41-ad61-84fc480b0767",
   "metadata": {},
   "source": [
    "## Exercises\n",
    "\n",
    "- Define symbols such that\n",
    "  - `x` assumes real number\n",
    "  - `y` assumes positive number\n",
    "  - `n` assumes integer\n",
    " \n",
    "- Try expanding `log(x**n)`, and try to find the possible assumptions that allows you to expand that function"
   ]
  },
  {
   "cell_type": "code",
   "execution_count": null,
   "id": "787e5f17-4979-436b-9562-0f4c47dc0d96",
   "metadata": {},
   "outputs": [],
   "source": []
  },
  {
   "cell_type": "code",
   "execution_count": null,
   "id": "8ea20686-c4b0-4dea-b07c-991e0ad74a02",
   "metadata": {},
   "outputs": [],
   "source": []
  },
  {
   "cell_type": "code",
   "execution_count": null,
   "id": "f6df4b96-28a4-4767-8dcd-2a1843cf1402",
   "metadata": {},
   "outputs": [],
   "source": []
  }
 ],
 "metadata": {
  "kernelspec": {
   "display_name": "Python 3 (ipykernel)",
   "language": "python",
   "name": "python3"
  },
  "language_info": {
   "codemirror_mode": {
    "name": "ipython",
    "version": 3
   },
   "file_extension": ".py",
   "mimetype": "text/x-python",
   "name": "python",
   "nbconvert_exporter": "python",
   "pygments_lexer": "ipython3",
   "version": "3.11.4"
  }
 },
 "nbformat": 4,
 "nbformat_minor": 5
}
