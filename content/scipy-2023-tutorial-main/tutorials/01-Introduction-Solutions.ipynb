{
 "cells": [
  {
   "cell_type": "markdown",
   "id": "0148c940-6db1-4389-aaf3-fe8ec617f8b6",
   "metadata": {},
   "source": [
    "# Introduction - Solutions"
   ]
  },
  {
   "cell_type": "code",
   "execution_count": 1,
   "id": "8a76e4bc-e00b-494b-bf21-2eeff51b5185",
   "metadata": {
    "tags": []
   },
   "outputs": [],
   "source": [
    "from sympy import *"
   ]
  },
  {
   "cell_type": "markdown",
   "id": "c81195b9-f51d-4bd4-995d-7dddb8417df8",
   "metadata": {},
   "source": [
    "## Integers"
   ]
  },
  {
   "cell_type": "code",
   "execution_count": 2,
   "id": "0e2e15e7-c8e5-4109-a8e3-5d29dedec9d5",
   "metadata": {
    "tags": []
   },
   "outputs": [
    {
     "data": {
      "text/latex": [
       "$\\displaystyle 123$"
      ],
      "text/plain": [
       "123"
      ]
     },
     "execution_count": 2,
     "metadata": {},
     "output_type": "execute_result"
    }
   ],
   "source": [
    "Integer(123)"
   ]
  },
  {
   "cell_type": "code",
   "execution_count": 3,
   "id": "fbeb1c2b-f5ef-427b-98a7-4078619b227a",
   "metadata": {
    "tags": []
   },
   "outputs": [
    {
     "data": {
      "text/latex": [
       "$\\displaystyle -100$"
      ],
      "text/plain": [
       "-100"
      ]
     },
     "execution_count": 3,
     "metadata": {},
     "output_type": "execute_result"
    }
   ],
   "source": [
    "Integer(-100)\n",
    "-Integer(100)"
   ]
  },
  {
   "cell_type": "code",
   "execution_count": 4,
   "id": "4968b61d-b180-40f1-9fc3-09f6c768393f",
   "metadata": {
    "tags": []
   },
   "outputs": [
    {
     "data": {
      "text/plain": [
       "{2: 3, 3: 1}"
      ]
     },
     "execution_count": 4,
     "metadata": {},
     "output_type": "execute_result"
    }
   ],
   "source": [
    "factorint(24)"
   ]
  },
  {
   "cell_type": "markdown",
   "id": "4f123c22-b9a2-4c43-8b42-bcaf92b18152",
   "metadata": {},
   "source": [
    "## Rationals"
   ]
  },
  {
   "cell_type": "code",
   "execution_count": 5,
   "id": "85e692f8-a304-4ce5-bafa-6e7af6d97fc7",
   "metadata": {
    "tags": []
   },
   "outputs": [
    {
     "data": {
      "text/latex": [
       "$\\displaystyle \\frac{1}{10}$"
      ],
      "text/plain": [
       "1/10"
      ]
     },
     "execution_count": 5,
     "metadata": {},
     "output_type": "execute_result"
    }
   ],
   "source": [
    "Integer(1) / Integer(10)"
   ]
  },
  {
   "cell_type": "code",
   "execution_count": 6,
   "id": "08d4f813-146f-4531-a753-eba2da3904bd",
   "metadata": {
    "tags": []
   },
   "outputs": [
    {
     "data": {
      "text/latex": [
       "$\\displaystyle \\frac{1}{10}$"
      ],
      "text/plain": [
       "1/10"
      ]
     },
     "execution_count": 6,
     "metadata": {},
     "output_type": "execute_result"
    }
   ],
   "source": [
    "Rational(1, 10)"
   ]
  },
  {
   "cell_type": "code",
   "execution_count": 7,
   "id": "9c1bba07-1a1e-46ea-b286-c6e84975fb52",
   "metadata": {
    "tags": []
   },
   "outputs": [
    {
     "data": {
      "text/latex": [
       "$\\displaystyle 0$"
      ],
      "text/plain": [
       "0"
      ]
     },
     "execution_count": 7,
     "metadata": {},
     "output_type": "execute_result"
    }
   ],
   "source": [
    "Rational(1, 10) + Rational(2, 10) - Rational(3, 10)"
   ]
  },
  {
   "cell_type": "code",
   "execution_count": 8,
   "id": "730cdfa6-82a4-4089-9000-5b20cf93b34d",
   "metadata": {
    "tags": []
   },
   "outputs": [
    {
     "data": {
      "text/latex": [
       "$\\displaystyle 2$"
      ],
      "text/plain": [
       "2"
      ]
     },
     "execution_count": 8,
     "metadata": {},
     "output_type": "execute_result"
    }
   ],
   "source": [
    "Rational(1, 2) * Integer(4)"
   ]
  },
  {
   "cell_type": "markdown",
   "id": "2dae4f81-6f4f-4da3-a281-94d378f4e26f",
   "metadata": {},
   "source": [
    "## Symbols"
   ]
  },
  {
   "cell_type": "code",
   "execution_count": 9,
   "id": "4dfe0e1f-f39e-4417-9556-10678bcf8fa3",
   "metadata": {
    "tags": []
   },
   "outputs": [],
   "source": [
    "a0, a1, a2 = symbols('a_0 a_1 a_2')\n",
    "x = Symbol('x')\n",
    "beta_2 = Symbol('beta_2')\n",
    "Z_123 = Symbol('Z_123')"
   ]
  },
  {
   "cell_type": "markdown",
   "id": "de889a15-35c3-4d13-8965-91a8da91c06c",
   "metadata": {},
   "source": [
    "## Expressions"
   ]
  },
  {
   "cell_type": "code",
   "execution_count": 10,
   "id": "a1a6caae-d92a-462a-8850-881e63270f4d",
   "metadata": {
    "tags": []
   },
   "outputs": [
    {
     "data": {
      "text/latex": [
       "$\\displaystyle \\sqrt[4]{x} + \\sqrt[3]{x} + \\sqrt{x}$"
      ],
      "text/plain": [
       "x**(1/4) + x**(1/3) + sqrt(x)"
      ]
     },
     "execution_count": 10,
     "metadata": {},
     "output_type": "execute_result"
    }
   ],
   "source": [
    "from sympy import *\n",
    "\n",
    "x = Symbol('x')\n",
    "\n",
    "x**(Integer(1) / 4) + x**(Integer(1) / 3) + x**(Integer(1) / 2)"
   ]
  },
  {
   "cell_type": "code",
   "execution_count": 11,
   "id": "7d9a2a8c-2ff5-4633-9caa-7e5537a2bc66",
   "metadata": {
    "tags": []
   },
   "outputs": [
    {
     "data": {
      "text/latex": [
       "$\\displaystyle \\frac{x}{3} + \\frac{1}{3}$"
      ],
      "text/plain": [
       "x/3 + 1/3"
      ]
     },
     "execution_count": 11,
     "metadata": {},
     "output_type": "execute_result"
    }
   ],
   "source": [
    "(x + 1) / 3"
   ]
  },
  {
   "cell_type": "code",
   "execution_count": 12,
   "id": "89c3a0d0-ff98-4fc2-8669-a40320bda98d",
   "metadata": {
    "tags": []
   },
   "outputs": [
    {
     "data": {
      "text/latex": [
       "$\\displaystyle x + \\frac{1}{3}$"
      ],
      "text/plain": [
       "x + 1/3"
      ]
     },
     "execution_count": 12,
     "metadata": {},
     "output_type": "execute_result"
    }
   ],
   "source": [
    "x + Integer(1) / 3"
   ]
  },
  {
   "cell_type": "markdown",
   "id": "76900406-a978-4161-842e-e55aa1caac6f",
   "metadata": {},
   "source": [
    "## Complex Numbers"
   ]
  },
  {
   "cell_type": "code",
   "execution_count": 13,
   "id": "2b52ed01-ab28-4c72-94c9-5c5f83b01b18",
   "metadata": {
    "tags": []
   },
   "outputs": [
    {
     "data": {
      "text/latex": [
       "$\\displaystyle \\frac{5 + \\sqrt{3} i}{1 - \\sqrt{3} i}$"
      ],
      "text/plain": [
       "(5 + sqrt(3)*I)/(1 - sqrt(3)*I)"
      ]
     },
     "execution_count": 13,
     "metadata": {},
     "output_type": "execute_result"
    }
   ],
   "source": [
    "(5 + I*sqrt(3)) / (1 - I*sqrt(3))"
   ]
  },
  {
   "cell_type": "code",
   "execution_count": 14,
   "id": "9edf000b-6d90-4c93-b7cd-31a535ed1838",
   "metadata": {
    "tags": []
   },
   "outputs": [
    {
     "data": {
      "text/latex": [
       "$\\displaystyle x + \\sqrt{3} i y$"
      ],
      "text/plain": [
       "x + sqrt(3)*I*y"
      ]
     },
     "execution_count": 14,
     "metadata": {},
     "output_type": "execute_result"
    }
   ],
   "source": [
    "x, y = symbols('x y')\n",
    "x + y*sqrt(3)*I"
   ]
  },
  {
   "cell_type": "markdown",
   "id": "8efcf4b8-e652-438e-9734-5a14293b68c1",
   "metadata": {},
   "source": [
    "## Chebyshev Polynomial"
   ]
  },
  {
   "cell_type": "code",
   "execution_count": 15,
   "id": "6e38dda6-1d5e-475b-ab38-22938b372c5d",
   "metadata": {
    "tags": []
   },
   "outputs": [],
   "source": [
    "def chebyshev(k, x):\n",
    "    if k == 0:\n",
    "        return Integer(1)\n",
    "    elif k == 1:\n",
    "        return x\n",
    "    return 2*x*chebyshev(k - 1, x) - chebyshev(k - 2, x)"
   ]
  },
  {
   "cell_type": "code",
   "execution_count": 16,
   "id": "9c85b6e1-7287-4159-9dc3-3bbd850cd1e2",
   "metadata": {
    "tags": []
   },
   "outputs": [
    {
     "data": {
      "text/latex": [
       "$\\displaystyle 1$"
      ],
      "text/plain": [
       "1"
      ]
     },
     "execution_count": 16,
     "metadata": {},
     "output_type": "execute_result"
    }
   ],
   "source": [
    "from sympy import *\n",
    "\n",
    "x = Symbol('x')\n",
    "chebyshev(0, x)"
   ]
  },
  {
   "cell_type": "code",
   "execution_count": 17,
   "id": "d29be920-cc5d-4735-a160-2d2106ef506d",
   "metadata": {
    "tags": []
   },
   "outputs": [
    {
     "data": {
      "text/latex": [
       "$\\displaystyle x$"
      ],
      "text/plain": [
       "x"
      ]
     },
     "execution_count": 17,
     "metadata": {},
     "output_type": "execute_result"
    }
   ],
   "source": [
    "chebyshev(1, x)"
   ]
  },
  {
   "cell_type": "code",
   "execution_count": 18,
   "id": "fae966a2-cc06-4d4c-86d2-c41cb09ccf0c",
   "metadata": {
    "tags": []
   },
   "outputs": [
    {
     "data": {
      "text/latex": [
       "$\\displaystyle 2 x^{2} - 1$"
      ],
      "text/plain": [
       "2*x**2 - 1"
      ]
     },
     "execution_count": 18,
     "metadata": {},
     "output_type": "execute_result"
    }
   ],
   "source": [
    "chebyshev(2, x)"
   ]
  },
  {
   "cell_type": "code",
   "execution_count": 19,
   "id": "318eb8df-450d-4961-822e-16859b09263b",
   "metadata": {
    "tags": []
   },
   "outputs": [
    {
     "data": {
      "text/latex": [
       "$\\displaystyle 2 x \\left(2 x^{2} - 1\\right) - x$"
      ],
      "text/plain": [
       "2*x*(2*x**2 - 1) - x"
      ]
     },
     "execution_count": 19,
     "metadata": {},
     "output_type": "execute_result"
    }
   ],
   "source": [
    "chebyshev(3, x)"
   ]
  },
  {
   "cell_type": "code",
   "execution_count": 20,
   "id": "201f6dfe-4957-49ef-bc72-a0d4febede34",
   "metadata": {
    "tags": []
   },
   "outputs": [
    {
     "data": {
      "text/latex": [
       "$\\displaystyle - 2 x^{2} + 2 x \\left(2 x \\left(2 x^{2} - 1\\right) - x\\right) + 1$"
      ],
      "text/plain": [
       "-2*x**2 + 2*x*(2*x*(2*x**2 - 1) - x) + 1"
      ]
     },
     "execution_count": 20,
     "metadata": {},
     "output_type": "execute_result"
    }
   ],
   "source": [
    "chebyshev(4, x)"
   ]
  }
 ],
 "metadata": {
  "kernelspec": {
   "display_name": "Python 3 (ipykernel)",
   "language": "python",
   "name": "python3"
  },
  "language_info": {
   "codemirror_mode": {
    "name": "ipython",
    "version": 3
   },
   "file_extension": ".py",
   "mimetype": "text/x-python",
   "name": "python",
   "nbconvert_exporter": "python",
   "pygments_lexer": "ipython3",
   "version": "3.11.4"
  }
 },
 "nbformat": 4,
 "nbformat_minor": 5
}
