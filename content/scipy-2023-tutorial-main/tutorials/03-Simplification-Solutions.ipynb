{
 "cells": [
  {
   "cell_type": "markdown",
   "id": "3a547415-aa27-47c6-8c2d-37100a733808",
   "metadata": {},
   "source": [
    "# Simplification - Solutions"
   ]
  },
  {
   "cell_type": "markdown",
   "id": "48ccfb87-3425-4113-a12a-b373bcdee184",
   "metadata": {},
   "source": [
    "## Polynomial Expansion"
   ]
  },
  {
   "cell_type": "code",
   "execution_count": 1,
   "id": "60b46844-ff8f-4db0-ac99-017385fa6a34",
   "metadata": {},
   "outputs": [
    {
     "data": {
      "text/latex": [
       "$\\displaystyle \\frac{x^{24}}{144} + \\frac{x^{14}}{6} - \\frac{x^{12}}{36} + x^{4}$"
      ],
      "text/plain": [
       "x**24/144 + x**14/6 - x**12/36 + x**4"
      ]
     },
     "execution_count": 1,
     "metadata": {},
     "output_type": "execute_result"
    }
   ],
   "source": [
    "from sympy import *\n",
    "\n",
    "x = Symbol('x')\n",
    "expand((x**2 - x**6/6 + x**12/12) * (x**2 + x**6/6 + x**12/12))"
   ]
  },
  {
   "cell_type": "code",
   "execution_count": 2,
   "id": "962f8774-b599-4e83-9ecc-5d709a645772",
   "metadata": {},
   "outputs": [
    {
     "data": {
      "text/latex": [
       "$\\displaystyle 25 x^{10} + 14 x^{8} + 3 x^{6} - 6 x^{4} - 3 x^{2} - 1$"
      ],
      "text/plain": [
       "25*x**10 + 14*x**8 + 3*x**6 - 6*x**4 - 3*x**2 - 1"
      ]
     },
     "execution_count": 2,
     "metadata": {},
     "output_type": "execute_result"
    }
   ],
   "source": [
    "expand((5*x**5 + 4*x**4 + 3*x**3 + 2*x**2 + x + 1) * (5*x**5 - 4*x**4 + 3*x**3 - 2*x**2 + x - 1))"
   ]
  },
  {
   "cell_type": "markdown",
   "id": "bb618076-5f6f-4db3-b91a-935e0524bfd5",
   "metadata": {},
   "source": [
    "## Polynomial Factorization"
   ]
  },
  {
   "cell_type": "code",
   "execution_count": 3,
   "id": "d4a6f300-10af-4ba0-8d22-31ced7d195fd",
   "metadata": {},
   "outputs": [
    {
     "data": {
      "text/latex": [
       "$\\displaystyle \\left(2 x - 3\\right) \\left(3 x - 4\\right) \\left(3 x - 1\\right)$"
      ],
      "text/plain": [
       "(2*x - 3)*(3*x - 4)*(3*x - 1)"
      ]
     },
     "execution_count": 3,
     "metadata": {},
     "output_type": "execute_result"
    }
   ],
   "source": [
    "factor(18*x**3 - 57*x**2 + 53*x - 12)"
   ]
  },
  {
   "cell_type": "code",
   "execution_count": 4,
   "id": "d492cdb7-bac0-44e1-afd8-d4cbd34fdd3c",
   "metadata": {},
   "outputs": [
    {
     "data": {
      "text/latex": [
       "$\\displaystyle \\left(x + 1\\right) \\left(3 x - 1\\right) \\left(5 x - 2\\right) \\left(x^{2} - x + 4\\right)$"
      ],
      "text/plain": [
       "(x + 1)*(3*x - 1)*(5*x - 2)*(x**2 - x + 4)"
      ]
     },
     "execution_count": 4,
     "metadata": {},
     "output_type": "execute_result"
    }
   ],
   "source": [
    "factor(15*x**5 - 11*x**4 + 47*x**3 + 27*x**2 - 38*x + 8)"
   ]
  },
  {
   "cell_type": "code",
   "execution_count": 5,
   "id": "ffb62cc9-b4c5-48c2-aed8-3d3f1a14f14f",
   "metadata": {},
   "outputs": [
    {
     "data": {
      "text/latex": [
       "$\\displaystyle \\left(x^{2} - 2\\right)^{3} \\left(x^{2} + 2\\right)$"
      ],
      "text/plain": [
       "(x**2 - 2)**3*(x**2 + 2)"
      ]
     },
     "execution_count": 5,
     "metadata": {},
     "output_type": "execute_result"
    }
   ],
   "source": [
    "factor(x**8 - 4*x**6 + 16*x**2 - 16)"
   ]
  },
  {
   "cell_type": "code",
   "execution_count": 6,
   "id": "12525a20-ec00-42f9-832b-b23108278469",
   "metadata": {},
   "outputs": [
    {
     "data": {
      "text/latex": [
       "$\\displaystyle \\left(x - 1\\right)^{5} \\left(x + 1\\right)^{3} \\left(x^{2} + x + 1\\right)^{2}$"
      ],
      "text/plain": [
       "(x - 1)**5*(x + 1)**3*(x**2 + x + 1)**2"
      ]
     },
     "execution_count": 6,
     "metadata": {},
     "output_type": "execute_result"
    }
   ],
   "source": [
    "factor(x**12 - 3*x**10 - 2*x**9 + 3*x**8 + 6*x**7 - 6*x**5 - 3*x**4 + 2*x**3 + 3*x**2 - 1)"
   ]
  },
  {
   "cell_type": "code",
   "execution_count": 7,
   "id": "f6e8b1e4-81ae-48ff-8347-41703b22cfdc",
   "metadata": {},
   "outputs": [
    {
     "data": {
      "text/latex": [
       "$\\displaystyle \\left(x - 1\\right)^{5} \\left(x + 1\\right)^{3} \\left(x^{2} + x + 1\\right)^{2}$"
      ],
      "text/plain": [
       "(x - 1)**5*(x + 1)**3*(x**2 + x + 1)**2"
      ]
     },
     "execution_count": 7,
     "metadata": {},
     "output_type": "execute_result"
    }
   ],
   "source": [
    "x, y = symbols('x y')\n",
    "\n",
    "factor(x**12 - 3*x**10 - 2*x**9 + 3*x**8 + 6*x**7 - 6*x**5 - 3*x**4 + 2*x**3 + 3*x**2 - 1)"
   ]
  },
  {
   "cell_type": "markdown",
   "id": "d9f532b6-3457-49ca-b5aa-39e4f8cbf946",
   "metadata": {},
   "source": [
    "## Rational Cancellation"
   ]
  },
  {
   "cell_type": "code",
   "execution_count": 8,
   "id": "69e3bcb1-da7f-46f8-afd0-7e1d9c7711b9",
   "metadata": {},
   "outputs": [
    {
     "data": {
      "text/latex": [
       "$\\displaystyle \\frac{- 2 a^{2} - 6 a - 4 b - 7}{2 a b - 7 a - b^{2} + 5}$"
      ],
      "text/plain": [
       "(-2*a**2 - 6*a - 4*b - 7)/(2*a*b - 7*a - b**2 + 5)"
      ]
     },
     "execution_count": 8,
     "metadata": {},
     "output_type": "execute_result"
    }
   ],
   "source": [
    "a, b = symbols('a b')\n",
    "\n",
    "cancel((2*a**3 + 22*a*b + 6*a**2 + 7*a + 6*b*a**2 + 12*b**2 + 21*b) / (7*a**2 - 5*a*b**2 - 2*b*a**2 - 5*a + 21*a*b + 3*b**3 - 15*b))"
   ]
  },
  {
   "cell_type": "markdown",
   "id": "a283b9f9-179d-4f80-9e78-303701d70f61",
   "metadata": {},
   "source": [
    "## Trigonometry Expansion"
   ]
  },
  {
   "cell_type": "code",
   "execution_count": 9,
   "id": "3ce5039d-d97f-469c-b0cd-f9746d75a4a6",
   "metadata": {},
   "outputs": [
    {
     "data": {
      "text/latex": [
       "$\\displaystyle \\left(2 \\cos^{2}{\\left(x \\right)} - 1\\right) \\left(2 \\cos^{2}{\\left(y \\right)} - 1\\right) + 4 \\sin{\\left(x \\right)} \\sin{\\left(y \\right)} \\cos{\\left(x \\right)} \\cos{\\left(y \\right)}$"
      ],
      "text/plain": [
       "(2*cos(x)**2 - 1)*(2*cos(y)**2 - 1) + 4*sin(x)*sin(y)*cos(x)*cos(y)"
      ]
     },
     "execution_count": 9,
     "metadata": {},
     "output_type": "execute_result"
    }
   ],
   "source": [
    "expand_trig(cos(2*x - 2*y))"
   ]
  },
  {
   "cell_type": "code",
   "execution_count": 10,
   "id": "1426afa7-d1b1-4851-83fe-b14083c27abe",
   "metadata": {},
   "outputs": [
    {
     "data": {
      "text/latex": [
       "$\\displaystyle 32 \\sin^{5}{\\left(x \\right)} \\cos{\\left(x \\right)} - 32 \\sin^{3}{\\left(x \\right)} \\cos{\\left(x \\right)} + 6 \\sin{\\left(x \\right)} \\cos{\\left(x \\right)}$"
      ],
      "text/plain": [
       "32*sin(x)**5*cos(x) - 32*sin(x)**3*cos(x) + 6*sin(x)*cos(x)"
      ]
     },
     "execution_count": 10,
     "metadata": {},
     "output_type": "execute_result"
    }
   ],
   "source": [
    "expand_trig(sin(6*x))"
   ]
  },
  {
   "cell_type": "code",
   "execution_count": 11,
   "id": "941deb81-56e7-4049-bb07-ca7a354771d6",
   "metadata": {},
   "outputs": [
    {
     "data": {
      "text/latex": [
       "$\\displaystyle \\frac{\\tan{\\left(x \\right)} + \\tan{\\left(y \\right)}}{- \\tan{\\left(x \\right)} \\tan{\\left(y \\right)} + 1}$"
      ],
      "text/plain": [
       "(tan(x) + tan(y))/(-tan(x)*tan(y) + 1)"
      ]
     },
     "execution_count": 11,
     "metadata": {},
     "output_type": "execute_result"
    }
   ],
   "source": [
    "expand_trig(tan(x + y))"
   ]
  },
  {
   "cell_type": "code",
   "execution_count": 12,
   "id": "e4a30a56-f8f3-459c-93ae-d05cb76f45a0",
   "metadata": {},
   "outputs": [
    {
     "data": {
      "text/latex": [
       "$\\displaystyle \\left(\\sin{\\left(x \\right)} \\cos{\\left(y \\right)} - \\sin{\\left(y \\right)} \\cos{\\left(x \\right)}\\right) \\left(\\sin{\\left(x \\right)} \\cos{\\left(y \\right)} + \\sin{\\left(y \\right)} \\cos{\\left(x \\right)}\\right)$"
      ],
      "text/plain": [
       "(sin(x)*cos(y) - sin(y)*cos(x))*(sin(x)*cos(y) + sin(y)*cos(x))"
      ]
     },
     "execution_count": 12,
     "metadata": {},
     "output_type": "execute_result"
    }
   ],
   "source": [
    "expand_trig(sin(x + y)*sin(x - y))"
   ]
  },
  {
   "cell_type": "markdown",
   "id": "6bb1b8e3-2d89-4b9d-84b8-3ea94937b2a1",
   "metadata": {},
   "source": [
    "## Trigonometry Simplification"
   ]
  },
  {
   "cell_type": "code",
   "execution_count": 13,
   "id": "4c0314b6-d98b-4915-9108-5b5cd961021e",
   "metadata": {},
   "outputs": [
    {
     "data": {
      "text/latex": [
       "$\\displaystyle \\frac{\\sqrt{2} \\cos{\\left(x + \\frac{\\pi}{4} \\right)}}{2}$"
      ],
      "text/plain": [
       "sqrt(2)*cos(x + pi/4)/2"
      ]
     },
     "execution_count": 13,
     "metadata": {},
     "output_type": "execute_result"
    }
   ],
   "source": [
    "trigsimp(sin(x + pi/6) - sqrt(3)/2*sin(x) - sin(x)/2)"
   ]
  },
  {
   "cell_type": "code",
   "execution_count": 14,
   "id": "dcb4f918-8bfa-4e65-9357-e3318e668ea1",
   "metadata": {},
   "outputs": [
    {
     "data": {
      "text/latex": [
       "$\\displaystyle \\frac{\\cos{\\left(4 x \\right)}}{2} + \\frac{1}{2}$"
      ],
      "text/plain": [
       "cos(4*x)/2 + 1/2"
      ]
     },
     "execution_count": 14,
     "metadata": {},
     "output_type": "execute_result"
    }
   ],
   "source": [
    "trigsimp(sin(x)**4 - 2*cos(x)**2*sin(x)**2 + cos(x)**4)"
   ]
  },
  {
   "cell_type": "markdown",
   "id": "1a682571-9c30-4d49-818b-b24f1695ea17",
   "metadata": {},
   "source": [
    "## Assumptions"
   ]
  },
  {
   "cell_type": "markdown",
   "id": "b0d88263-09e6-483e-a78b-57caebea55c0",
   "metadata": {},
   "source": [
    "Define symbols such that\n",
    "- `x` assumes real number\n",
    "- `y` assumes positive number\n",
    "- `n` assumes integer\n"
   ]
  },
  {
   "cell_type": "code",
   "execution_count": 15,
   "id": "43dbdddb-a896-48b9-9098-5fc105fe91d5",
   "metadata": {},
   "outputs": [],
   "source": [
    "x = Symbol('x', real=True)\n",
    "y = Symbol('y', positive=True)\n",
    "n = Symbol('n', integer=True)"
   ]
  },
  {
   "cell_type": "markdown",
   "id": "aa1ebe4e-217e-422b-9a9c-1f64c38bd94e",
   "metadata": {},
   "source": [
    "Try expanding `log(x**n)`, and try to find the possible assumptions that allows you to expand that function"
   ]
  },
  {
   "cell_type": "code",
   "execution_count": 16,
   "id": "aa9c11a5-bbbc-4caa-b23c-f0dfc79b384e",
   "metadata": {},
   "outputs": [
    {
     "data": {
      "text/latex": [
       "$\\displaystyle \\log{\\left(x^{n} \\right)}$"
      ],
      "text/plain": [
       "log(x**n)"
      ]
     },
     "execution_count": 16,
     "metadata": {},
     "output_type": "execute_result"
    }
   ],
   "source": [
    "expand(log(x**n))"
   ]
  },
  {
   "cell_type": "code",
   "execution_count": 17,
   "id": "765811ac-9ab7-4a08-9da1-1b4e2d3a467e",
   "metadata": {},
   "outputs": [
    {
     "data": {
      "text/latex": [
       "$\\displaystyle n \\log{\\left(x \\right)}$"
      ],
      "text/plain": [
       "n*log(x)"
      ]
     },
     "execution_count": 17,
     "metadata": {},
     "output_type": "execute_result"
    }
   ],
   "source": [
    "x = Symbol('x', positive=True)\n",
    "n = Symbol('n', integer=True) \n",
    "expand(log(x**n))"
   ]
  },
  {
   "cell_type": "code",
   "execution_count": null,
   "id": "82c7445a-a9cd-40e0-951a-f267546062a4",
   "metadata": {},
   "outputs": [],
   "source": []
  }
 ],
 "metadata": {
  "kernelspec": {
   "display_name": "Python 3 (ipykernel)",
   "language": "python",
   "name": "python3"
  },
  "language_info": {
   "codemirror_mode": {
    "name": "ipython",
    "version": 3
   },
   "file_extension": ".py",
   "mimetype": "text/x-python",
   "name": "python",
   "nbconvert_exporter": "python",
   "pygments_lexer": "ipython3",
   "version": "3.11.4"
  }
 },
 "nbformat": 4,
 "nbformat_minor": 5
}
