{
 "cells": [
  {
   "cell_type": "markdown",
   "id": "35f60c62-d348-4a50-b1e0-8b9e3faaaf99",
   "metadata": {},
   "source": [
    "# Calculus - Solutions"
   ]
  },
  {
   "cell_type": "code",
   "execution_count": 1,
   "id": "4b52f62e-b6ba-4e3e-94ff-7879f0678402",
   "metadata": {
    "tags": []
   },
   "outputs": [],
   "source": [
    "from sympy import *\n",
    "x, y, z = symbols('x y z')"
   ]
  },
  {
   "cell_type": "markdown",
   "id": "29dc8b51-8853-4569-828b-b47c29546df8",
   "metadata": {},
   "source": [
    "## Derivatives"
   ]
  },
  {
   "cell_type": "markdown",
   "id": "30bffe71-133a-4a92-9818-5c77f6d30344",
   "metadata": {},
   "source": [
    "Compute the following\n",
    "\n",
    "$$ \\frac{d}{dx}\\sin(x)e^x$$\n",
    "$$ \\frac{\\partial}{\\partial x}\\sin(xy)e^x $$\n",
    "$$ \\frac{\\partial^2}{\\partial x\\partial y}\\sin(xy)e^x $$\n"
   ]
  },
  {
   "cell_type": "code",
   "execution_count": 2,
   "id": "5c214bba-09e8-49ec-95cb-b07603166bdd",
   "metadata": {
    "collapsed": false,
    "jupyter": {
     "outputs_hidden": false
    },
    "tags": []
   },
   "outputs": [
    {
     "data": {
      "text/latex": [
       "$\\displaystyle e^{x} \\sin{\\left(x \\right)} + e^{x} \\cos{\\left(x \\right)}$"
      ],
      "text/plain": [
       "exp(x)*sin(x) + exp(x)*cos(x)"
      ]
     },
     "execution_count": 2,
     "metadata": {},
     "output_type": "execute_result"
    }
   ],
   "source": [
    "diff(sin(x)*exp(x), x)"
   ]
  },
  {
   "cell_type": "code",
   "execution_count": 3,
   "id": "3f895b4b-fb14-40b9-8a68-f1ade5eac62c",
   "metadata": {
    "collapsed": false,
    "jupyter": {
     "outputs_hidden": false
    },
    "tags": []
   },
   "outputs": [
    {
     "data": {
      "text/latex": [
       "$\\displaystyle y e^{x} \\cos{\\left(x y \\right)} + e^{x} \\sin{\\left(x y \\right)}$"
      ],
      "text/plain": [
       "y*exp(x)*cos(x*y) + exp(x)*sin(x*y)"
      ]
     },
     "execution_count": 3,
     "metadata": {},
     "output_type": "execute_result"
    }
   ],
   "source": [
    "diff(sin(x*y)*exp(x), x)"
   ]
  },
  {
   "cell_type": "code",
   "execution_count": 4,
   "id": "68c9161c-47ff-4515-98a2-6eb56251ff8b",
   "metadata": {
    "collapsed": false,
    "jupyter": {
     "outputs_hidden": false
    },
    "tags": []
   },
   "outputs": [
    {
     "data": {
      "text/latex": [
       "$\\displaystyle \\left(- x y \\sin{\\left(x y \\right)} + x \\cos{\\left(x y \\right)} + \\cos{\\left(x y \\right)}\\right) e^{x}$"
      ],
      "text/plain": [
       "(-x*y*sin(x*y) + x*cos(x*y) + cos(x*y))*exp(x)"
      ]
     },
     "execution_count": 4,
     "metadata": {},
     "output_type": "execute_result"
    }
   ],
   "source": [
    "diff(sin(x*y)*exp(x), x, y)"
   ]
  },
  {
   "cell_type": "markdown",
   "id": "d9532b9d-b522-4286-a3bf-10c0a807e8f2",
   "metadata": {},
   "source": [
    "Recall l'Hopital's rule, which states that if $$\\lim_{x\\to x_0}\\frac{f(x)}{g(x)}$$ is $\\frac{0}{0}$, $\\frac{\\infty}{\\infty}$, or $-\\frac{\\infty}{\\infty}$, then it is equal to $$\\lim_{x\\to x_0} \\frac{f'(x)}{g'(x)}$$ (we will not consider other indeterminate forms here).  \n",
    "\n",
    "Write a function that computes $\\lim_{x\\to x_0}\\frac{f(x)}{g(x)}$. Use the `fraction` function to get the numerator and denominator of an expression, for example"
   ]
  },
  {
   "cell_type": "code",
   "execution_count": 5,
   "id": "d430e84c-d9c8-442b-8461-ba60b88d7552",
   "metadata": {
    "collapsed": false,
    "jupyter": {
     "outputs_hidden": false
    },
    "tags": []
   },
   "outputs": [
    {
     "data": {
      "text/plain": [
       "(x, y)"
      ]
     },
     "execution_count": 5,
     "metadata": {},
     "output_type": "execute_result"
    }
   ],
   "source": [
    "fraction(x/y)"
   ]
  },
  {
   "cell_type": "markdown",
   "id": "be122ec5-f547-415b-94c0-a3cfa00d1030",
   "metadata": {},
   "source": [
    "You may assume that the only indeterminate forms are the ones mentioned above, and that l'Hopital's rule will terminate after a finite number of steps. Do not use `limit` (use `subs`). Remember that after taking the derivatives, you will need to put the expression into the form $\\frac{f(x)}{g(x)}$ before applying l'Hopital's rule again (what function did we learn that does this?)."
   ]
  },
  {
   "cell_type": "code",
   "execution_count": 6,
   "id": "38cb0f32-4cd8-40cc-82bc-12d616c5f4f4",
   "metadata": {
    "collapsed": false,
    "jupyter": {
     "outputs_hidden": false
    },
    "tags": []
   },
   "outputs": [],
   "source": [
    "def lhopital(expr, x, x0):\n",
    "    \"\"\"\n",
    "    Computes limit(expr, x, x0) using l'Hopital's rule.\n",
    "\n",
    "    >>> lhopital(sin(x)/x, x, 0)\n",
    "    1\n",
    "    >>> lhopital(exp(x)/x**2, x, oo)\n",
    "    oo\n",
    "    >>> lhopital((x**2 - 4*x + 4)/(2 - x), x, 2)\n",
    "    0\n",
    "    >>> lhopital(cos(x), x, 0)\n",
    "    1\n",
    "    >>> lhopital((x + sin(x))/x, x, 0)\n",
    "    2\n",
    "    \"\"\"\n",
    "    expr = cancel(expr)\n",
    "    expr_num, expr_den = fraction(expr)\n",
    "    expr_num_eval, expr_den_eval = expr_num.subs(x, x0), expr_den.subs(x, x0)\n",
    "    indeterminates = [(0, 0), (oo, oo), (-oo, oo), (oo, -oo), (-oo, -oo)]\n",
    "    if (expr_num_eval, expr_den_eval) in indeterminates:\n",
    "        return lhopital(expr_num.diff(x)/expr_den.diff(x), x, x0)\n",
    "    return expr_num_eval/expr_den_eval"
   ]
  },
  {
   "cell_type": "code",
   "execution_count": 7,
   "id": "a25bdb03-5bd7-4baf-9647-3e47c2949a17",
   "metadata": {
    "collapsed": false,
    "jupyter": {
     "outputs_hidden": false
    },
    "tags": []
   },
   "outputs": [
    {
     "data": {
      "text/latex": [
       "$\\displaystyle 1$"
      ],
      "text/plain": [
       "1"
      ]
     },
     "execution_count": 7,
     "metadata": {},
     "output_type": "execute_result"
    }
   ],
   "source": [
    "lhopital(sin(x)/x, x, 0)"
   ]
  },
  {
   "cell_type": "code",
   "execution_count": 8,
   "id": "0fbaaf92-225d-46aa-9d6d-5fb3278e74b4",
   "metadata": {
    "collapsed": false,
    "jupyter": {
     "outputs_hidden": false
    },
    "tags": []
   },
   "outputs": [
    {
     "data": {
      "text/latex": [
       "$\\displaystyle \\infty$"
      ],
      "text/plain": [
       "oo"
      ]
     },
     "execution_count": 8,
     "metadata": {},
     "output_type": "execute_result"
    }
   ],
   "source": [
    "lhopital(exp(x)/x**2, x, oo)"
   ]
  },
  {
   "cell_type": "code",
   "execution_count": 9,
   "id": "3046856f-3c0f-4824-a529-31601595b305",
   "metadata": {
    "collapsed": false,
    "jupyter": {
     "outputs_hidden": false
    },
    "tags": []
   },
   "outputs": [
    {
     "data": {
      "text/latex": [
       "$\\displaystyle 0$"
      ],
      "text/plain": [
       "0"
      ]
     },
     "execution_count": 9,
     "metadata": {},
     "output_type": "execute_result"
    }
   ],
   "source": [
    "lhopital((x**2 - 4*x + 4)/(2 - x), x, 2)"
   ]
  },
  {
   "cell_type": "code",
   "execution_count": 10,
   "id": "9cf2f87b-bcbb-45b4-a625-0fd5f6d396f3",
   "metadata": {
    "collapsed": false,
    "jupyter": {
     "outputs_hidden": false
    },
    "tags": []
   },
   "outputs": [
    {
     "data": {
      "text/latex": [
       "$\\displaystyle 1$"
      ],
      "text/plain": [
       "1"
      ]
     },
     "execution_count": 10,
     "metadata": {},
     "output_type": "execute_result"
    }
   ],
   "source": [
    "lhopital(cos(x), x, 0)"
   ]
  },
  {
   "cell_type": "code",
   "execution_count": 11,
   "id": "d219a381-3a03-4dcd-92d5-0fa33e8dcead",
   "metadata": {
    "collapsed": false,
    "jupyter": {
     "outputs_hidden": false
    },
    "tags": []
   },
   "outputs": [
    {
     "data": {
      "text/latex": [
       "$\\displaystyle 2$"
      ],
      "text/plain": [
       "2"
      ]
     },
     "execution_count": 11,
     "metadata": {},
     "output_type": "execute_result"
    }
   ],
   "source": [
    "lhopital((x + sin(x))/x, x, 0)"
   ]
  },
  {
   "cell_type": "markdown",
   "id": "975fe300-6bcf-4632-9bf7-ae65497d590f",
   "metadata": {},
   "source": [
    "## Integrals"
   ]
  },
  {
   "cell_type": "markdown",
   "id": "e3241475-46f1-49fa-914d-67f0310f30b5",
   "metadata": {},
   "source": [
    "Recall that the mean value of a function on an interval $[a, b]$ can be computed by the formula\n",
    "\n",
    "$$\\frac{1}{b - a}\\int_{a}^{b} f{\\left (x \\right )} dx. % Why doesn't \\, work? $$\n",
    "\n",
    "Write a function that computes the mean value of an expression on a given interval."
   ]
  },
  {
   "cell_type": "code",
   "execution_count": 12,
   "id": "713f69eb-a8f6-4e07-941f-d78bc52f706e",
   "metadata": {
    "collapsed": false,
    "jupyter": {
     "outputs_hidden": false
    },
    "tags": []
   },
   "outputs": [],
   "source": [
    "def average_value(expr, x, a, b):\n",
    "    \"\"\"\n",
    "    Computes the average value of expr with respect to x on [a, b].\n",
    "\n",
    "    >>> average_value(sin(x), x, 0, pi)\n",
    "    2/pi\n",
    "    >>> average_value(x, x, 2, 4)\n",
    "    3\n",
    "    >>> average_value(x*y, x, 2, 4)\n",
    "    3*y\n",
    "    \"\"\"\n",
    "    return integrate(expr, (x, a, b))/(b - a)"
   ]
  },
  {
   "cell_type": "code",
   "execution_count": 13,
   "id": "7ca17719-c82e-4699-a6bf-9ccea4eef83a",
   "metadata": {
    "collapsed": false,
    "jupyter": {
     "outputs_hidden": false
    },
    "tags": []
   },
   "outputs": [
    {
     "data": {
      "text/latex": [
       "$\\displaystyle \\frac{2}{\\pi}$"
      ],
      "text/plain": [
       "2/pi"
      ]
     },
     "execution_count": 13,
     "metadata": {},
     "output_type": "execute_result"
    }
   ],
   "source": [
    "average_value(sin(x), x, 0, pi)"
   ]
  },
  {
   "cell_type": "code",
   "execution_count": 14,
   "id": "512d8083-b16e-418b-aa55-26867ec342ee",
   "metadata": {
    "collapsed": false,
    "jupyter": {
     "outputs_hidden": false
    },
    "tags": []
   },
   "outputs": [
    {
     "data": {
      "text/latex": [
       "$\\displaystyle 3$"
      ],
      "text/plain": [
       "3"
      ]
     },
     "execution_count": 14,
     "metadata": {},
     "output_type": "execute_result"
    }
   ],
   "source": [
    "average_value(x, x, 2, 4)"
   ]
  },
  {
   "cell_type": "code",
   "execution_count": 15,
   "id": "bf36e776-e4e9-4ffa-b427-5bfbf6c606a4",
   "metadata": {
    "collapsed": false,
    "jupyter": {
     "outputs_hidden": false
    },
    "tags": []
   },
   "outputs": [
    {
     "data": {
      "text/latex": [
       "$\\displaystyle 3 y$"
      ],
      "text/plain": [
       "3*y"
      ]
     },
     "execution_count": 15,
     "metadata": {},
     "output_type": "execute_result"
    }
   ],
   "source": [
    "average_value(x*y, x, 2, 4)"
   ]
  },
  {
   "cell_type": "markdown",
   "id": "60cc8a61-32ff-45a3-b460-ab4e3ccaabb7",
   "metadata": {},
   "source": [
    "Write a function that takes a list of expressions and produces an \"integral table\", like\n",
    "\n",
    "1. $$\\int \\sin(x)dx = -\\cos(x) + C$$\n",
    "2. $$\\int \\cos(x)dx = \\sin(x) + C$$\n",
    "3. $$\\int e^xdx = e^x + C$$\n",
    "4. $$\\int \\log(x)dx = x(\\log(x) - 1) + C$$"
   ]
  },
  {
   "cell_type": "code",
   "execution_count": 16,
   "id": "5ae2949d-7762-4e28-834d-3ec1e1864e88",
   "metadata": {
    "collapsed": false,
    "jupyter": {
     "outputs_hidden": false
    },
    "tags": []
   },
   "outputs": [],
   "source": [
    "def int_table(exprs, x):\n",
    "    \"\"\"\n",
    "    Produces a nice integral table of the integrals of exprs\n",
    "\n",
    "    >>> int_table([sin(x), cos(x), exp(x), log(x)], x)\n",
    "    ⌠\n",
    "    ⎮ sin(x) dx = C - cos(x)\n",
    "    ⌡\n",
    "    ⌠\n",
    "    ⎮ cos(x) dx = C + sin(x)\n",
    "    ⌡\n",
    "    ⌠\n",
    "    ⎮  x           x\n",
    "    ⎮ ℯ  dx = C + ℯ\n",
    "    ⌡\n",
    "    ⌠\n",
    "    ⎮ log(x) dx = C + x⋅log(x) - x\n",
    "    ⌡\n",
    "    \"\"\"\n",
    "    C = symbols('C')\n",
    "    \n",
    "    for expr in exprs:\n",
    "        display(Eq(Integral(expr, x), integrate(expr, x) + C))"
   ]
  },
  {
   "cell_type": "code",
   "execution_count": 17,
   "id": "2c9e9674-9e9a-4394-bcd4-5ea53ed6546b",
   "metadata": {
    "collapsed": false,
    "jupyter": {
     "outputs_hidden": false
    },
    "tags": []
   },
   "outputs": [
    {
     "data": {
      "text/latex": [
       "$\\displaystyle \\int \\sin{\\left(x \\right)}\\, dx = C - \\cos{\\left(x \\right)}$"
      ],
      "text/plain": [
       "Eq(Integral(sin(x), x), C - cos(x))"
      ]
     },
     "metadata": {},
     "output_type": "display_data"
    },
    {
     "data": {
      "text/latex": [
       "$\\displaystyle \\int \\cos{\\left(x \\right)}\\, dx = C + \\sin{\\left(x \\right)}$"
      ],
      "text/plain": [
       "Eq(Integral(cos(x), x), C + sin(x))"
      ]
     },
     "metadata": {},
     "output_type": "display_data"
    },
    {
     "data": {
      "text/latex": [
       "$\\displaystyle \\int e^{x}\\, dx = C + e^{x}$"
      ],
      "text/plain": [
       "Eq(Integral(exp(x), x), C + exp(x))"
      ]
     },
     "metadata": {},
     "output_type": "display_data"
    },
    {
     "data": {
      "text/latex": [
       "$\\displaystyle \\int \\log{\\left(x \\right)}\\, dx = C + x \\log{\\left(x \\right)} - x$"
      ],
      "text/plain": [
       "Eq(Integral(log(x), x), C + x*log(x) - x)"
      ]
     },
     "metadata": {},
     "output_type": "display_data"
    }
   ],
   "source": [
    "int_table([sin(x), cos(x), exp(x), log(x)], x)"
   ]
  },
  {
   "cell_type": "markdown",
   "id": "c2258f07-5a69-4edd-86e3-03c445c0733e",
   "metadata": {},
   "source": [
    "## Limits"
   ]
  },
  {
   "cell_type": "markdown",
   "id": "798f7af6-f906-4d31-b605-1992d64e87c1",
   "metadata": {},
   "source": [
    "Recall that the definition of the derivative of $f(x)$ at $x=x_0$ is $$f'(x_0) = \\lim_{x\\to x_0}\\frac{f(x) - f(x_0)}{x - x_0}.$$  Write a function that computes the derivative using the limit definition, using `limit`."
   ]
  },
  {
   "cell_type": "code",
   "execution_count": 18,
   "id": "9b5d8559-4d04-4411-a647-518acfcf1792",
   "metadata": {
    "collapsed": false,
    "jupyter": {
     "outputs_hidden": false
    },
    "tags": []
   },
   "outputs": [],
   "source": [
    "def lim_deriv(expr, x, x0):\n",
    "    \"\"\"\n",
    "    Computes the derivative of expr with respect to x at x0 using the limit definition.\n",
    "\n",
    "    >>> lim_deriv(x**2, x, 0)\n",
    "    0\n",
    "    >>> lim_deriv(cos(x*y), x, pi)\n",
    "    -y*sin(pi*y)\n",
    "    \n",
    "    Note that we must use this trick to take the derivative without evaluating at a point.\n",
    "    >>> lim_deriv(exp(x**2), x, y).subs(y, x)\n",
    "    2*x*exp(x**2)\n",
    "    \"\"\"\n",
    "    return limit((expr - expr.subs(x, x0))/(x - x0), x, x0)"
   ]
  },
  {
   "cell_type": "code",
   "execution_count": 19,
   "id": "5d9fcbf9-6882-4a33-ad5a-4e5827a761e6",
   "metadata": {
    "collapsed": false,
    "jupyter": {
     "outputs_hidden": false
    },
    "tags": []
   },
   "outputs": [
    {
     "data": {
      "text/latex": [
       "$\\displaystyle 0$"
      ],
      "text/plain": [
       "0"
      ]
     },
     "execution_count": 19,
     "metadata": {},
     "output_type": "execute_result"
    }
   ],
   "source": [
    "lim_deriv(x**2, x, 0)"
   ]
  },
  {
   "cell_type": "code",
   "execution_count": 20,
   "id": "3e3f2240-950b-4cad-a1ee-90f9119a57b4",
   "metadata": {
    "collapsed": false,
    "jupyter": {
     "outputs_hidden": false
    },
    "tags": []
   },
   "outputs": [
    {
     "data": {
      "text/latex": [
       "$\\displaystyle - y \\sin{\\left(\\pi y \\right)}$"
      ],
      "text/plain": [
       "-y*sin(pi*y)"
      ]
     },
     "execution_count": 20,
     "metadata": {},
     "output_type": "execute_result"
    }
   ],
   "source": [
    "lim_deriv(cos(x*y), x, pi)"
   ]
  },
  {
   "cell_type": "markdown",
   "id": "d6095106-da14-4f88-ae7b-7ae58ea1834d",
   "metadata": {},
   "source": [
    "The function you wrote above to compute limits using l'Hopital's rule is very fragile. And even if you try to make it sophisticated, it will still be unable to compute many limits.  Try it on the following limits, and see what happens. Then try computing the same limits with `limit`. \n",
    "\n",
    "1. $$\\lim_{x\\to 0}\\frac{\\log(x)}{x}$$\n",
    "2. $$\\lim_{x\\to \\infty}\\frac{2^x}{3^x} \\textbf{Warning: Be sure to save the notebook before you test this one, and be prepared to kill the kernel!}$$\n",
    "3. $$\\lim_{x\\to \\infty}x\\sin{\\left(\\frac{1}{x}\\right)}$$\n",
    "4. $$\\lim_{x\\to 1}\\arctan\\left(\\frac{1}{1 - x}\\right)\\; \\text{Remember that $\\arctan$ is called }\\mathtt{atan}\\text{ in SymPy}$$"
   ]
  },
  {
   "cell_type": "code",
   "execution_count": 21,
   "id": "672b495f-3c21-4a89-afa6-dc5ec664ec11",
   "metadata": {
    "collapsed": false,
    "jupyter": {
     "outputs_hidden": false
    },
    "tags": []
   },
   "outputs": [
    {
     "data": {
      "text/latex": [
       "$\\displaystyle \\tilde{\\infty}$"
      ],
      "text/plain": [
       "zoo"
      ]
     },
     "execution_count": 21,
     "metadata": {},
     "output_type": "execute_result"
    }
   ],
   "source": [
    "lhopital(log(x)/x, x, 0)"
   ]
  },
  {
   "cell_type": "code",
   "execution_count": 22,
   "id": "0fbacf58-ef0b-415d-8ebd-2069af2986c5",
   "metadata": {
    "collapsed": false,
    "jupyter": {
     "outputs_hidden": false
    },
    "tags": []
   },
   "outputs": [
    {
     "data": {
      "text/latex": [
       "$\\displaystyle -\\infty$"
      ],
      "text/plain": [
       "-oo"
      ]
     },
     "execution_count": 22,
     "metadata": {},
     "output_type": "execute_result"
    }
   ],
   "source": [
    "limit(log(x)/x, x, 0)"
   ]
  },
  {
   "cell_type": "code",
   "execution_count": 23,
   "id": "b641848b-2a7d-439b-91e0-dd0ad1e2579e",
   "metadata": {
    "collapsed": false,
    "jupyter": {
     "outputs_hidden": false
    },
    "tags": []
   },
   "outputs": [
    {
     "ename": "SyntaxError",
     "evalue": "unterminated string literal (detected at line 1) (3235413439.py, line 1)",
     "output_type": "error",
     "traceback": [
      "\u001b[0;36m  Cell \u001b[0;32mIn[23], line 1\u001b[0;36m\u001b[0m\n\u001b[0;31m    lhopital(2**x/3**x, x, oo) XXX: Don't run. This hangs the notebook\u001b[0m\n\u001b[0m                                       ^\u001b[0m\n\u001b[0;31mSyntaxError\u001b[0m\u001b[0;31m:\u001b[0m unterminated string literal (detected at line 1)\n"
     ]
    }
   ],
   "source": [
    "lhopital(2**x/3**x, x, oo) XXX: Don't run. This hangs the notebook"
   ]
  },
  {
   "cell_type": "code",
   "execution_count": 24,
   "id": "d683b81b-42c6-4713-85ab-e64708b35b06",
   "metadata": {
    "collapsed": false,
    "jupyter": {
     "outputs_hidden": false
    },
    "tags": []
   },
   "outputs": [
    {
     "data": {
      "text/latex": [
       "$\\displaystyle 0$"
      ],
      "text/plain": [
       "0"
      ]
     },
     "execution_count": 24,
     "metadata": {},
     "output_type": "execute_result"
    }
   ],
   "source": [
    "limit(2**x/3**x, x, oo)"
   ]
  },
  {
   "cell_type": "code",
   "execution_count": 25,
   "id": "bec8df78-33a4-4f43-ab6a-bfa09cfac040",
   "metadata": {
    "collapsed": false,
    "jupyter": {
     "outputs_hidden": false
    },
    "tags": []
   },
   "outputs": [
    {
     "data": {
      "text/latex": [
       "$\\displaystyle \\text{NaN}$"
      ],
      "text/plain": [
       "nan"
      ]
     },
     "execution_count": 25,
     "metadata": {},
     "output_type": "execute_result"
    }
   ],
   "source": [
    "lhopital(x**(1/x**2), x, 0)"
   ]
  },
  {
   "cell_type": "code",
   "execution_count": 26,
   "id": "72fc3d36-7aa2-428e-94e6-07bf79145147",
   "metadata": {
    "collapsed": false,
    "jupyter": {
     "outputs_hidden": false
    },
    "tags": []
   },
   "outputs": [
    {
     "data": {
      "text/latex": [
       "$\\displaystyle 0$"
      ],
      "text/plain": [
       "0"
      ]
     },
     "execution_count": 26,
     "metadata": {},
     "output_type": "execute_result"
    }
   ],
   "source": [
    "limit(x**(1/x**.5), x, 0)"
   ]
  },
  {
   "cell_type": "code",
   "execution_count": 27,
   "id": "421ac958-0854-41a2-b73a-7e12baec42b4",
   "metadata": {
    "collapsed": false,
    "jupyter": {
     "outputs_hidden": false
    },
    "tags": []
   },
   "outputs": [
    {
     "data": {
      "text/latex": [
       "$\\displaystyle \\text{NaN}$"
      ],
      "text/plain": [
       "nan"
      ]
     },
     "execution_count": 27,
     "metadata": {},
     "output_type": "execute_result"
    }
   ],
   "source": [
    "lhopital(x*sin(1/x), x, oo)"
   ]
  },
  {
   "cell_type": "code",
   "execution_count": 28,
   "id": "b5c94eb3-1444-4439-bc62-2c999e7c4822",
   "metadata": {
    "collapsed": false,
    "jupyter": {
     "outputs_hidden": false
    },
    "tags": []
   },
   "outputs": [
    {
     "data": {
      "text/latex": [
       "$\\displaystyle 1$"
      ],
      "text/plain": [
       "1"
      ]
     },
     "execution_count": 28,
     "metadata": {},
     "output_type": "execute_result"
    }
   ],
   "source": [
    "limit(x*sin(1/x), x, oo)"
   ]
  },
  {
   "cell_type": "code",
   "execution_count": 29,
   "id": "a69011ad-4dde-4adc-afcd-66f6d57de8b7",
   "metadata": {
    "collapsed": false,
    "jupyter": {
     "outputs_hidden": false
    },
    "tags": []
   },
   "outputs": [
    {
     "data": {
      "text/latex": [
       "$\\displaystyle \\left\\langle - \\frac{\\pi}{2}, \\frac{\\pi}{2}\\right\\rangle$"
      ],
      "text/plain": [
       "AccumBounds(-pi/2, pi/2)"
      ]
     },
     "execution_count": 29,
     "metadata": {},
     "output_type": "execute_result"
    }
   ],
   "source": [
    "lhopital(atan(1/(1 - x)), x, 1)"
   ]
  },
  {
   "cell_type": "code",
   "execution_count": 30,
   "id": "457eaa78-9ec1-4eec-a02c-ed520d1eebfc",
   "metadata": {
    "collapsed": false,
    "jupyter": {
     "outputs_hidden": false
    },
    "tags": []
   },
   "outputs": [
    {
     "data": {
      "text/latex": [
       "$\\displaystyle - \\frac{\\pi}{2}$"
      ],
      "text/plain": [
       "-pi/2"
      ]
     },
     "execution_count": 30,
     "metadata": {},
     "output_type": "execute_result"
    }
   ],
   "source": [
    "limit(atan(1/(1 - x)), x, 1)"
   ]
  },
  {
   "cell_type": "markdown",
   "id": "ca4b3417-f1a2-46f9-96b8-84843015023d",
   "metadata": {},
   "source": [
    "## Series"
   ]
  },
  {
   "cell_type": "markdown",
   "id": "9467a7e8-74fd-477a-bf60-8b2ed90f884e",
   "metadata": {},
   "source": [
    "The Fibonicci sequence is rexcursively defined by \n",
    "\n",
    "$$F_0 = 0,$$\n",
    "$$F_1 = 1,$$\n",
    "$$F_n = F_{n - 1} + F_{n - 2}.$$\n",
    "\n",
    "The first few vales are 0, 1, 1, 2, 3, 5, 8, 13, 21, …\n",
    "\n",
    "The Fibonicci sequence has a generating function given by $$s(x) = \\frac{x}{1 - x - x^2}$$ (see http://en.wikipedia.org/wiki/Fibonacci_number#Power_series for a derivation). What this means is that if we expand $s(x)$ as a power series, the coefficients are the Fibonicci numbers, $$s(x) = \\sum_{n=0}^\\infty F_nx^n$$"
   ]
  },
  {
   "cell_type": "markdown",
   "id": "4155bf0d-caf5-4644-bc2b-a9bcb48a1411",
   "metadata": {},
   "source": [
    "Write a function that uses series to compute the nth Fibonicci number. "
   ]
  },
  {
   "cell_type": "code",
   "execution_count": 31,
   "id": "37b62d39-aa41-4d32-9336-7b5450bcc36d",
   "metadata": {
    "collapsed": false,
    "jupyter": {
     "outputs_hidden": false
    },
    "tags": []
   },
   "outputs": [],
   "source": [
    "def fib(n):\n",
    "    \"\"\"\n",
    "    Uses series expansion and a generating function to compute the nth Fibonnicci number.\n",
    "\n",
    "    >>> fib(0)\n",
    "    0\n",
    "    >>> fib(4)\n",
    "    3\n",
    "    >>> fib(9)\n",
    "    34\n",
    "    \"\"\"\n",
    "    s = x/(1 - x - x**2)\n",
    "    return s.series(x, 0, n + 1).coeff(x, n)"
   ]
  },
  {
   "cell_type": "code",
   "execution_count": 32,
   "id": "a2805394-1649-4eee-a600-d2ec2f218bf9",
   "metadata": {
    "collapsed": false,
    "jupyter": {
     "outputs_hidden": false
    },
    "tags": []
   },
   "outputs": [
    {
     "data": {
      "text/latex": [
       "$\\displaystyle 0$"
      ],
      "text/plain": [
       "0"
      ]
     },
     "execution_count": 32,
     "metadata": {},
     "output_type": "execute_result"
    }
   ],
   "source": [
    "fib(0)"
   ]
  },
  {
   "cell_type": "code",
   "execution_count": 33,
   "id": "d824266a-fe70-4c28-8a4d-364c52d55b81",
   "metadata": {
    "collapsed": false,
    "jupyter": {
     "outputs_hidden": false
    },
    "tags": []
   },
   "outputs": [
    {
     "data": {
      "text/latex": [
       "$\\displaystyle 3$"
      ],
      "text/plain": [
       "3"
      ]
     },
     "execution_count": 33,
     "metadata": {},
     "output_type": "execute_result"
    }
   ],
   "source": [
    "fib(4)"
   ]
  },
  {
   "cell_type": "code",
   "execution_count": 34,
   "id": "59ffda6d-adf5-43a2-a246-15eaa003c93e",
   "metadata": {
    "collapsed": false,
    "jupyter": {
     "outputs_hidden": false
    },
    "tags": []
   },
   "outputs": [
    {
     "data": {
      "text/latex": [
       "$\\displaystyle 34$"
      ],
      "text/plain": [
       "34"
      ]
     },
     "execution_count": 34,
     "metadata": {},
     "output_type": "execute_result"
    }
   ],
   "source": [
    "fib(9)"
   ]
  },
  {
   "cell_type": "code",
   "execution_count": 35,
   "id": "973c862d-c8a1-496f-a95a-8ac3551fae7b",
   "metadata": {
    "collapsed": false,
    "jupyter": {
     "outputs_hidden": false
    },
    "tags": []
   },
   "outputs": [],
   "source": [
    "def series_accuracy(func, expansion_point, evaluation_point, accuracy, x):\n",
    "    \"\"\"\n",
    "    Returns n such that series terms up to and including (x - expansion_point)**n \n",
    "    (i.e., O((x - expansion_point)**(n + 1)) are needed to compute func at \n",
    "    evaluation_point within the given accuracy.\n",
    "\n",
    "    >>> series_accuracy(cos(x), pi, pi + 1, 0.01, x)\n",
    "    4\n",
    "    >>> series_accuracy(exp(x), 1, 10, 1, x)\n",
    "    23\n",
    "    \"\"\"\n",
    "    # Make sure to compute as many digits as needed. evalf defaults to 15, so this\n",
    "    # is not actually needed for any of the doctest examples.\n",
    "    digits = max(15, round(1/accuracy) + 1)\n",
    "    real_value = func.evalf(digits, subs={x: evaluation_point})\n",
    "    expansion = 0\n",
    "    for term in func.lseries(x, expansion_point):\n",
    "        expansion += term\n",
    "        series_value = expansion.evalf(digits, subs={x: evaluation_point})\n",
    "        if abs(real_value - series_value) < accuracy:\n",
    "            return term.as_coeff_exponent(x - expansion_point)[1]"
   ]
  },
  {
   "cell_type": "code",
   "execution_count": 36,
   "id": "6a1c4da0-f2dd-44e6-bef0-0feef0c4de85",
   "metadata": {
    "collapsed": false,
    "jupyter": {
     "outputs_hidden": false
    },
    "tags": []
   },
   "outputs": [
    {
     "data": {
      "text/latex": [
       "$\\displaystyle 4$"
      ],
      "text/plain": [
       "4"
      ]
     },
     "execution_count": 36,
     "metadata": {},
     "output_type": "execute_result"
    }
   ],
   "source": [
    "series_accuracy(cos(x), pi, pi + 1, 0.01, x)"
   ]
  },
  {
   "cell_type": "code",
   "execution_count": 37,
   "id": "494ef9ff-b1a7-468b-a3aa-da182fcea5fa",
   "metadata": {
    "collapsed": false,
    "jupyter": {
     "outputs_hidden": false
    },
    "tags": []
   },
   "outputs": [
    {
     "data": {
      "text/latex": [
       "$\\displaystyle 23$"
      ],
      "text/plain": [
       "23"
      ]
     },
     "execution_count": 37,
     "metadata": {},
     "output_type": "execute_result"
    }
   ],
   "source": [
    "series_accuracy(exp(x), 1, 10, 1, x)"
   ]
  }
 ],
 "metadata": {
  "kernelspec": {
   "display_name": "Python 3 (ipykernel)",
   "language": "python",
   "name": "python3"
  },
  "language_info": {
   "codemirror_mode": {
    "name": "ipython",
    "version": 3
   },
   "file_extension": ".py",
   "mimetype": "text/x-python",
   "name": "python",
   "nbconvert_exporter": "python",
   "pygments_lexer": "ipython3",
   "version": "3.11.4"
  }
 },
 "nbformat": 4,
 "nbformat_minor": 5
}
