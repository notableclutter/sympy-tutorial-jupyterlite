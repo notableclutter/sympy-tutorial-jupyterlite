{
 "cells": [
  {
   "cell_type": "markdown",
   "id": "26c10f79-6451-4fc5-959d-5631f2213733",
   "metadata": {},
   "source": [
    "# Matrices Solutions"
   ]
  },
  {
   "cell_type": "code",
   "execution_count": 1,
   "id": "889cee9b-58b9-454f-b2c3-0919b4e23e6c",
   "metadata": {
    "tags": []
   },
   "outputs": [],
   "source": [
    "from sympy import *\n",
    "x, y, z = symbols('x y z')\n",
    "init_printing()"
   ]
  },
  {
   "cell_type": "markdown",
   "id": "16e5bb7c-b0a1-4af7-a23b-bd0c880023f0",
   "metadata": {},
   "source": [
    "## Constructing Matrices"
   ]
  },
  {
   "cell_type": "markdown",
   "id": "2558dfa7-9d77-4fdf-97cc-aa05e7599b46",
   "metadata": {},
   "source": [
    "Use the matrix constructors to construct the following matrices.  There may be more than one correct answer."
   ]
  },
  {
   "cell_type": "markdown",
   "id": "112a2e68-77a5-443a-a94b-787a62db1f98",
   "metadata": {},
   "source": [
    "$$\\left[\\begin{matrix}2 & 3\\\\0 & 1\\end{matrix}\\right]$$"
   ]
  },
  {
   "cell_type": "code",
   "execution_count": 2,
   "id": "54d07140-0929-4466-9aaa-588bbf91081a",
   "metadata": {
    "collapsed": false,
    "jupyter": {
     "outputs_hidden": false
    },
    "tags": []
   },
   "outputs": [
    {
     "data": {
      "image/png": "[encoded data removed]",
      "text/latex": [
       "$\\displaystyle \\left[\\begin{matrix}2 & 3\\\\0 & 1\\end{matrix}\\right]$"
      ],
      "text/plain": [
       "⎡2  3⎤\n",
       "⎢    ⎥\n",
       "⎣0  1⎦"
      ]
     },
     "execution_count": 2,
     "metadata": {},
     "output_type": "execute_result"
    }
   ],
   "source": [
    "Matrix([[2, 3], [0, 1]])"
   ]
  },
  {
   "cell_type": "markdown",
   "id": "f11bb51e-f263-4c71-9c7b-20e366a10da1",
   "metadata": {},
   "source": [
    "$$\\left[\\begin{array}{ccc}4 & 0 & 0\\\\\\\\ \n",
    "0 & 4 & 0\\\\\\\\ \n",
    "0 & 0 & 4\\end{array}\\right]$$"
   ]
  },
  {
   "cell_type": "code",
   "execution_count": 3,
   "id": "03046c04-b914-4cad-9972-f09d1f4aa940",
   "metadata": {
    "tags": []
   },
   "outputs": [
    {
     "data": {
      "image/png": "[encoded data removed]",
      "text/latex": [
       "$\\displaystyle \\left[\\begin{matrix}4 & 0 & 0\\\\0 & 4 & 0\\\\0 & 0 & 4\\end{matrix}\\right]$"
      ],
      "text/plain": [
       "⎡4  0  0⎤\n",
       "⎢       ⎥\n",
       "⎢0  4  0⎥\n",
       "⎢       ⎥\n",
       "⎣0  0  4⎦"
      ]
     },
     "execution_count": 3,
     "metadata": {},
     "output_type": "execute_result"
    }
   ],
   "source": [
    "Matrix([[4, 0, 0], [0, 4, 0], [0, 0, 4]])"
   ]
  },
  {
   "cell_type": "code",
   "execution_count": 4,
   "id": "01e805bf-275c-4b84-881f-0e7ecd558eb7",
   "metadata": {
    "tags": []
   },
   "outputs": [
    {
     "data": {
      "image/png": "[encoded data removed]",
      "text/latex": [
       "$\\displaystyle \\left[\\begin{matrix}4 & 0 & 0\\\\0 & 4 & 0\\\\0 & 0 & 4\\end{matrix}\\right]$"
      ],
      "text/plain": [
       "⎡4  0  0⎤\n",
       "⎢       ⎥\n",
       "⎢0  4  0⎥\n",
       "⎢       ⎥\n",
       "⎣0  0  4⎦"
      ]
     },
     "execution_count": 4,
     "metadata": {},
     "output_type": "execute_result"
    }
   ],
   "source": [
    "4*eye(3)"
   ]
  },
  {
   "cell_type": "code",
   "execution_count": 5,
   "id": "133d5c88-a5ab-44c3-adef-a37be51463db",
   "metadata": {
    "tags": []
   },
   "outputs": [
    {
     "data": {
      "image/png": "[encoded data removed]",
      "text/latex": [
       "$\\displaystyle \\left[\\begin{matrix}4 & 0 & 0\\\\0 & 4 & 0\\\\0 & 0 & 4\\end{matrix}\\right]$"
      ],
      "text/plain": [
       "⎡4  0  0⎤\n",
       "⎢       ⎥\n",
       "⎢0  4  0⎥\n",
       "⎢       ⎥\n",
       "⎣0  0  4⎦"
      ]
     },
     "execution_count": 5,
     "metadata": {},
     "output_type": "execute_result"
    }
   ],
   "source": [
    "diag(4, 4, 4)"
   ]
  },
  {
   "cell_type": "markdown",
   "id": "df32d37d-e81a-4a1b-965c-9b344b4b9c07",
   "metadata": {},
   "source": [
    "$$\\left[\\begin{matrix}0 & 0 & 0\\\\1 & 1 & 1\\\\2 & 2 & 2\\end{matrix}\\right]$$"
   ]
  },
  {
   "cell_type": "code",
   "execution_count": 6,
   "id": "5abdd224-b8d0-4133-a8a7-12618b87b2df",
   "metadata": {
    "tags": []
   },
   "outputs": [
    {
     "data": {
      "image/png": "[encoded data removed]",
      "text/latex": [
       "$\\displaystyle \\left[\\begin{matrix}0 & 0 & 0\\\\1 & 1 & 1\\\\2 & 2 & 2\\end{matrix}\\right]$"
      ],
      "text/plain": [
       "⎡0  0  0⎤\n",
       "⎢       ⎥\n",
       "⎢1  1  1⎥\n",
       "⎢       ⎥\n",
       "⎣2  2  2⎦"
      ]
     },
     "execution_count": 6,
     "metadata": {},
     "output_type": "execute_result"
    }
   ],
   "source": [
    "Matrix([[0, 0, 0], [1, 1, 1], [2, 2, 2]])"
   ]
  },
  {
   "cell_type": "code",
   "execution_count": 7,
   "id": "752dea6b-e7eb-42b1-a63b-99b9584402aa",
   "metadata": {
    "tags": []
   },
   "outputs": [
    {
     "data": {
      "image/png": "[encoded data removed]",
      "text/latex": [
       "$\\displaystyle \\left[\\begin{matrix}0 & 0 & 0\\\\1 & 1 & 1\\\\2 & 2 & 2\\end{matrix}\\right]$"
      ],
      "text/plain": [
       "⎡0  0  0⎤\n",
       "⎢       ⎥\n",
       "⎢1  1  1⎥\n",
       "⎢       ⎥\n",
       "⎣2  2  2⎦"
      ]
     },
     "execution_count": 7,
     "metadata": {},
     "output_type": "execute_result"
    }
   ],
   "source": [
    "Matrix(3, 3, lambda i, j: i)"
   ]
  },
  {
   "cell_type": "markdown",
   "id": "d3062686-1a56-4ea1-a1d4-52da0ef73989",
   "metadata": {},
   "source": [
    "## Matrix Expressions"
   ]
  },
  {
   "cell_type": "markdown",
   "id": "8bb86f42-c11a-4e0b-9d79-b58d34975988",
   "metadata": {},
   "source": [
    "Construct the following matrix expressions, where $A$ is $n\\times n$, $B$ is $m\\times m$, $C$ is $n \\times m$, and $x$ is a scalar `Symbol`.\n",
    "\n",
    "$$A - xI$$\n",
    "$$BC^TA$$\n",
    "$$(B^2 + I)^{-1}$$\n",
    "$$tr(A) + x$$"
   ]
  },
  {
   "cell_type": "code",
   "execution_count": 8,
   "id": "46738e36-94f7-48db-886e-233b8079a343",
   "metadata": {
    "tags": []
   },
   "outputs": [],
   "source": [
    "n, m = symbols('n, m', integer=True)\n",
    "A = MatrixSymbol('A', n, n)\n",
    "B = MatrixSymbol('B', m, m)\n",
    "C = MatrixSymbol('C', n, m)\n",
    "x = symbols('x')"
   ]
  },
  {
   "cell_type": "code",
   "execution_count": 9,
   "id": "453b17ed-c549-41f2-a081-40cbfccdaefd",
   "metadata": {
    "tags": []
   },
   "outputs": [
    {
     "data": {
      "image/png": "[encoded data removed]",
      "text/latex": [
       "$\\displaystyle - x \\mathbb{I} + A$"
      ],
      "text/plain": [
       "-x⋅𝕀 + A"
      ]
     },
     "execution_count": 9,
     "metadata": {},
     "output_type": "execute_result"
    }
   ],
   "source": [
    "A - x*Identity(n)"
   ]
  },
  {
   "cell_type": "code",
   "execution_count": 10,
   "id": "de042d17-a608-459d-a9c7-b6add6218c94",
   "metadata": {
    "tags": []
   },
   "outputs": [
    {
     "data": {
      "image/png": "[encoded data removed]",
      "text/latex": [
       "$\\displaystyle B C^{T} A$"
      ],
      "text/plain": [
       "   T  \n",
       "B⋅C ⋅A"
      ]
     },
     "execution_count": 10,
     "metadata": {},
     "output_type": "execute_result"
    }
   ],
   "source": [
    "B*C.T*A"
   ]
  },
  {
   "cell_type": "code",
   "execution_count": 11,
   "id": "20e9fbc8-fe3c-4008-9779-d102e4e24be9",
   "metadata": {
    "tags": []
   },
   "outputs": [
    {
     "data": {
      "image/png": "[encoded data removed]",
      "text/latex": [
       "$\\displaystyle \\left(\\mathbb{I} + B^{2}\\right)^{-1}$"
      ],
      "text/plain": [
       "        -1\n",
       "⎛     2⎞  \n",
       "⎝𝕀 + B ⎠  "
      ]
     },
     "execution_count": 11,
     "metadata": {},
     "output_type": "execute_result"
    }
   ],
   "source": [
    "(B**2 + Identity(m))**-1 # Note this is a different Identity than above"
   ]
  },
  {
   "cell_type": "code",
   "execution_count": 12,
   "id": "82cd5339-40be-4b60-a66f-6d626b51d37c",
   "metadata": {
    "tags": []
   },
   "outputs": [
    {
     "data": {
      "image/png": "[encoded data removed]",
      "text/latex": [
       "$\\displaystyle x + \\operatorname{tr}\\left(A \\right)$"
      ],
      "text/plain": [
       "x + tr(A)"
      ]
     },
     "execution_count": 12,
     "metadata": {},
     "output_type": "execute_result"
    }
   ],
   "source": [
    "Trace(A) + x # Note that the trace is a scalar, so the operation makes sense"
   ]
  }
 ],
 "metadata": {
  "kernelspec": {
   "display_name": "Python 3 (ipykernel)",
   "language": "python",
   "name": "python3"
  },
  "language_info": {
   "codemirror_mode": {
    "name": "ipython",
    "version": 3
   },
   "file_extension": ".py",
   "mimetype": "text/x-python",
   "name": "python",
   "nbconvert_exporter": "python",
   "pygments_lexer": "ipython3",
   "version": "3.11.4"
  }
 },
 "nbformat": 4,
 "nbformat_minor": 5
}
